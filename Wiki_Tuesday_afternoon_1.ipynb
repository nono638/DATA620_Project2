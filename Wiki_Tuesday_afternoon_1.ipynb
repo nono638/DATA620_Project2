{
 "cells": [
  {
   "cell_type": "markdown",
   "id": "43bd73b5",
   "metadata": {},
   "source": [
    "### Prompt:\n",
    " Identify a large 2-node network dataset—you can start with a dataset in a repository.  Your data should meet the criteria that it consists of ties between and not within two (or more) distinct groups.\n",
    "    Reduce the size of the network using a method such as the island method described in chapter 4 of social network analysis.\n",
    "    What can you infer about each of the distinct groups?\n",
    "\n",
    "You may work in a small group on the project.\n",
    "\n",
    "Your code and analysis should be delivered in an IPython Notebook by end of day Sunday. "
   ]
  },
  {
   "cell_type": "markdown",
   "id": "23580a85",
   "metadata": {},
   "source": [
    "### Data\n",
    "https://snap.stanford.edu/data/wiki-Elec.html"
   ]
  },
  {
   "cell_type": "markdown",
   "id": "36e7ccdf",
   "metadata": {},
   "source": [
    "### Libraries"
   ]
  },
  {
   "cell_type": "code",
   "execution_count": 1,
   "id": "86b52e73",
   "metadata": {},
   "outputs": [],
   "source": [
    "import pandas as pd\n",
    "import os\n",
    "import io\n",
    "import networkx as nx\n",
    "import re\n",
    "\n",
    "importedScipy = False\n",
    "try:    \n",
    "    import scipy\n",
    "    importedScipy = True\n",
    "except:\n",
    "    pass\n",
    "try:    \n",
    "    import nltk\n",
    "except:\n",
    "    pass"
   ]
  },
  {
   "cell_type": "code",
   "execution_count": 2,
   "id": "c77a1385",
   "metadata": {},
   "outputs": [
    {
     "name": "stdout",
     "output_type": "stream",
     "text": [
      "Pandas Version 1.3.5\n",
      "Newtworkx Version 2.6.3\n",
      "scipy Version 1.7.3\n",
      "NLTK Version 3.7\n"
     ]
    }
   ],
   "source": [
    "print (\"Pandas Version {}\".format(pd.__version__))\n",
    "print (\"Newtworkx Version {}\".format(nx.__version__))\n",
    "if (importedScipy):\n",
    "    print (\"scipy Version {}\".format(scipy.__version__))\n",
    "else:\n",
    "    print(\"scipy wasn't imported.\")\n",
    "print(\"NLTK Version {}\".format(nltk.__version__))"
   ]
  },
  {
   "cell_type": "markdown",
   "id": "3a2d1a26",
   "metadata": {},
   "source": [
    "### Read in Data"
   ]
  },
  {
   "cell_type": "code",
   "execution_count": 3,
   "id": "03b107d3",
   "metadata": {},
   "outputs": [],
   "source": [
    "#The filename may have to be renamed with the .txt extention.  That has to be done manually.\n",
    "#This was only the case on one of my machines for some reason??\n",
    "filename = \"wikiElec.ElecBs3.txt\""
   ]
  },
  {
   "cell_type": "code",
   "execution_count": 98,
   "id": "1dec7ec3",
   "metadata": {},
   "outputs": [
    {
     "name": "stdout",
     "output_type": "stream",
     "text": [
      "# Wikipedia elections (http://cs.stanford.edu/people/jure/pubs/triads-chi10.pdf). Data format:\n",
      "#   E: is election succesful (1) or not (0)\n",
      "#   T: time election was closed\n",
      "#   U: user id (and username) of editor that is being considered for promotion\n",
      "#   N: user id (and username) of the nominator\n",
      "#   V: <vote(1:support, 0:neutral, -1:oppose)> <user_id> <time> <username>\n",
      "E\t1\n",
      "T\t2004-09-21 01:15:53\n",
      "U\t30\tcjcurrie\n",
      "N\t32\tandyl\n",
      "V\t1\t3\t2004-09-14 16:26:00\tludraman\n",
      "V\t-1\t25\t2004-09-14 16:53:00\tblankfaze\n",
      "V\t1\t4\t2004-09-14 17:08:00\tgzornenplatz\n",
      "V\t1\t5\t2004-09-14 17:37:00\torthogonal\n",
      "V\t1\t6\t2004-09-14 19:28:00\tandrevan\n",
      "V\t1\t7\t2004-09-14 19:37:00\ttexture\n",
      "V\t1\t8\t2004-09-14 21:04:00\tlst27\n",
      "V\t1\t9\t2004-09-14 21:30:00\tmirv\n",
      "V\t1\t10\t2004-09-14 22:13:00\tanÃ¡rion\n",
      "V\t0\t26\t2004-09-14 22:18:00\tgrunt\n",
      "V\t0\t27\t2004-09-15 03:19:00\tslowking\n",
      "V\t0\t28\t2004-09-15 03:20:00\tneutrality\n",
      "V\t1\t11\t2004-09-15 04:28:00\tmerovingian\n",
      "V\t1\t12\t2004-09-15 06:56:00\twile\n",
      "V\t1\t13\t2004-09-15 09:19:00\tsjc\n",
      "V\t1\t14\t2004-09-15 12:20:00\t172\n",
      "V\t0\t29\t2004-09-16 00:58:00\tugen64\n",
      "V\t1\t15\t2004-09-16 14:50:00\tdanny\n",
      "V\t1\t16\t2004-09-16 15:31:00\tsimonp\n",
      "V\t1\t17\t2004-09-17 13:49:00\tjwrosenzweig\n",
      "V\t1\t18\t2004-09-17 20:57:00\tadam\n",
      "V\t1\t19\t2004-09-17 22:11:00\tffirehorse\n",
      "V\t1\t20\t2004-09-18 00:02:00\tmichael\n",
      "V\t1\t21\t2004-09-18 01:06:00\trhymeless\n",
      "V\t1\t22\t2004-09-20 05:36:00\tbearcat\n",
      "V\t1\t23\t2004-09-20 14:28:00\tcryptoderk\n",
      "V\t1\t24\t2004-09-20 22:20:00\tjayjg\n",
      "\n",
      "E\t1\n",
      "T\t2004-09-21 20:49:47\n",
      "U\t54\tzoney\n",
      "N\t28\tneutrality\n",
      "V\t1\t28\t2004-09-14 13:39:00\tneutrality\n",
      "V\t1\t33\t2004-09-14 13:41:00\tchmod007\n",
      "V\t1\t34\t2004-09-14 14:40:00\tnorm\n",
      "V\t1\t5\t2004-09-14 15:00:00\torthogonal\n",
      "V\t1\t20\t2004-09-14 15:43:00\tmichael\n",
      "V\t1\t36\t2004-09-14 16:02:00\tantandrus\n",
      "V\t1\t3\t2004-09-14 16:38:00\tludraman\n",
      "V\t1\t25\t2004-09-14 16:50:00\tblankfaze\n",
      "V\t1\t35\t2004-09-14 16:53:00\tfunc\n",
      "V\t1\t6\t2004-09-14 19:28:00\tandrevan\n",
      "V\t1\t37\t2004-09-14 19:29:00\tconti\n",
      "V\t1\t7\t2004-09-14 19:40:00\ttexture\n",
      "V\t1\t38\t2004-09-14 19:59:00\tarminius\n",
      "V\t1\t8\t2004-09-14 21:\n"
     ]
    }
   ],
   "source": [
    "file = io.open(filename, mode=\"r\", encoding=\"ANSI\") #This encoding was missing before\n",
    "print(file.read(1900))\n",
    "data = file.readlines()"
   ]
  },
  {
   "cell_type": "code",
   "execution_count": 5,
   "id": "c32880e7",
   "metadata": {
    "scrolled": false
   },
   "outputs": [
    {
     "name": "stdout",
     "output_type": "stream",
     "text": [
      "4\t2004-09-14 17:08:00\tgzornenplatz\n",
      "\n",
      "V\t1\t5\t2004-09-14 17:37:00\torthogonal\n",
      "\n",
      "V\t1\t6\t2004-09-14 19:28:00\tandrevan\n",
      "\n",
      "V\t1\t7\t2004-09-14 19:37:00\ttexture\n",
      "\n",
      "V\t1\t8\t2004-09-14 21:04:00\tlst27\n",
      "\n"
     ]
    }
   ],
   "source": [
    "for line in data[:5]:\n",
    "    print(line)"
   ]
  },
  {
   "cell_type": "code",
   "execution_count": 6,
   "id": "1f5169d1",
   "metadata": {},
   "outputs": [
    {
     "data": {
      "text/plain": [
       "'4\\t2004-09-14 17:08:00\\tgzornenplatz\\n'"
      ]
     },
     "execution_count": 6,
     "metadata": {},
     "output_type": "execute_result"
    }
   ],
   "source": [
    "data[0]"
   ]
  },
  {
   "cell_type": "code",
   "execution_count": 7,
   "id": "713b4bbd",
   "metadata": {},
   "outputs": [
    {
     "data": {
      "text/plain": [
       "'V\\t1\\t5\\t2004-09-14 17:37:00\\torthogonal\\n'"
      ]
     },
     "execution_count": 7,
     "metadata": {},
     "output_type": "execute_result"
    }
   ],
   "source": [
    "data[1]"
   ]
  },
  {
   "cell_type": "code",
   "execution_count": 8,
   "id": "c4cf7ec1",
   "metadata": {},
   "outputs": [
    {
     "data": {
      "text/plain": [
       "'V\\t1\\t6\\t2004-09-14 19:28:00\\tandrevan\\n'"
      ]
     },
     "execution_count": 8,
     "metadata": {},
     "output_type": "execute_result"
    }
   ],
   "source": [
    "data[2]"
   ]
  },
  {
   "cell_type": "markdown",
   "id": "2d88216e",
   "metadata": {},
   "source": [
    "I don't know why, but the reading in of the file starts at an abitrary spot and the first election is screwed up.  We'll just disregard it, I know from previous data exploration that are 2900+ other elections.  "
   ]
  },
  {
   "cell_type": "markdown",
   "id": "b381a323",
   "metadata": {},
   "source": [
    "### Discarding the first several screwed up rows"
   ]
  },
  {
   "cell_type": "code",
   "execution_count": 9,
   "id": "ca10de3c",
   "metadata": {},
   "outputs": [
    {
     "name": "stdout",
     "output_type": "stream",
     "text": [
      "26\n"
     ]
    }
   ],
   "source": [
    "for i in range(len(data)):\n",
    "    if data[i][0] ==\"E\": #first proper \"election in the data, as read in\"\n",
    "        print(i)\n",
    "        break"
   ]
  },
  {
   "cell_type": "code",
   "execution_count": 10,
   "id": "cdcb89cd",
   "metadata": {},
   "outputs": [
    {
     "data": {
      "text/plain": [
       "['E\\t1\\n',\n",
       " 'T\\t2004-09-21 20:49:47\\n',\n",
       " 'U\\t54\\tzoney\\n',\n",
       " 'N\\t28\\tneutrality\\n',\n",
       " 'V\\t1\\t28\\t2004-09-14 13:39:00\\tneutrality\\n',\n",
       " 'V\\t1\\t33\\t2004-09-14 13:41:00\\tchmod007\\n',\n",
       " 'V\\t1\\t34\\t2004-09-14 14:40:00\\tnorm\\n',\n",
       " 'V\\t1\\t5\\t2004-09-14 15:00:00\\torthogonal\\n',\n",
       " 'V\\t1\\t20\\t2004-09-14 15:43:00\\tmichael\\n']"
      ]
     },
     "execution_count": 10,
     "metadata": {},
     "output_type": "execute_result"
    }
   ],
   "source": [
    "data[26:35]"
   ]
  },
  {
   "cell_type": "code",
   "execution_count": 11,
   "id": "0aaf3903",
   "metadata": {},
   "outputs": [],
   "source": [
    "thisCellRan1 = False\n",
    "# Do no rerun this cell or you will \"erase\" data from memory and need to rerun the notebook"
   ]
  },
  {
   "cell_type": "code",
   "execution_count": 12,
   "id": "53f3979a",
   "metadata": {},
   "outputs": [],
   "source": [
    "if (thisCellRan1 == False):\n",
    "    data = data[26:]\n",
    "    thisCellRan1 = True  ##This first 25 cells have been discarded already\n",
    "    del thisCellRan1\n",
    "        \n",
    "#dicarding the first 25 rows\n",
    "#Only run this cell once!!!  That's the point of the thisCellRan1 variable."
   ]
  },
  {
   "cell_type": "code",
   "execution_count": 13,
   "id": "85380029",
   "metadata": {},
   "outputs": [
    {
     "data": {
      "text/plain": [
       "['E\\t1\\n',\n",
       " 'T\\t2004-09-21 20:49:47\\n',\n",
       " 'U\\t54\\tzoney\\n',\n",
       " 'N\\t28\\tneutrality\\n',\n",
       " 'V\\t1\\t28\\t2004-09-14 13:39:00\\tneutrality\\n']"
      ]
     },
     "execution_count": 13,
     "metadata": {},
     "output_type": "execute_result"
    }
   ],
   "source": [
    "data[0:5]\n",
    "#line 0 should start with \"E\", election. \n",
    "#If it doesn't, restart the kernel and rerun the notebook."
   ]
  },
  {
   "cell_type": "code",
   "execution_count": 14,
   "id": "220057ba",
   "metadata": {},
   "outputs": [
    {
     "data": {
      "text/plain": [
       "2793"
      ]
     },
     "execution_count": 14,
     "metadata": {},
     "output_type": "execute_result"
    }
   ],
   "source": [
    "ECount = 0\n",
    "for i in data:\n",
    "    if i[0] ==\"E\":\n",
    "        ECount +=1\n",
    "ECount\n",
    "#there should be 2793 elections in the dataset, as read in (the first elction read in wrong)"
   ]
  },
  {
   "cell_type": "markdown",
   "id": "5c09586b",
   "metadata": {},
   "source": [
    "### Class Definitions"
   ]
  },
  {
   "cell_type": "markdown",
   "id": "ee78f1fb",
   "metadata": {},
   "source": [
    "to work with data"
   ]
  },
  {
   "cell_type": "code",
   "execution_count": 15,
   "id": "11430a62",
   "metadata": {},
   "outputs": [],
   "source": [
    "#from the docs\n",
    "#E: is election succesful (1) or not (0)\\\\r\\\\n#   \n",
    "#T: time election was closed\\\\r\\\\n#   \n",
    "#U: user id (and username) of editor that is being considered for promotion\\\\r\\\\n#   \n",
    "#N: user id (and username) of the nominator\\\\r\\\\n#\n",
    "#V: <vote(1:support, 0:neutral, -1:oppose)> <user_id> <time> <username>\n",
    "\n",
    "class Election():# A node type in the graph\n",
    "    def __init__(self, success, time, user, nominator, votes):\n",
    "        if((success!= 1) & (success!=0)):\n",
    "            print(\"invalid success entered: \",success)\n",
    "            self.success = \"unknown\"\n",
    "        else:\n",
    "            self.success = success\n",
    "        self.time = 0 #TODO possibly if we want more edge data\n",
    "        self.user = user\n",
    "        self.nominator = nominator\n",
    "        self.votes = votes"
   ]
  },
  {
   "cell_type": "code",
   "execution_count": 16,
   "id": "123ada5a",
   "metadata": {},
   "outputs": [],
   "source": [
    "#   V: <vote(1:support, 0:neutral, -1:oppose)> <user_id> <time> <username>\n",
    "class Vote: #Edges in the graph\n",
    "    def __init__(self, vote, user_id, time, user_name):\n",
    "        if ((vote <-1) | (vote >1)):\n",
    "            print(\"invalid vote:\", vote)\n",
    "            self.vote = \"invalid\"\n",
    "        else:\n",
    "            self.vote = vote\n",
    "        self.time = 0 #TODO if we want more attributes\n",
    "        self.user_id = user_id\n",
    "        self.user_name = user_name"
   ]
  },
  {
   "cell_type": "markdown",
   "id": "5b08e56b",
   "metadata": {},
   "source": [
    "#### Misc Testing"
   ]
  },
  {
   "cell_type": "code",
   "execution_count": 17,
   "id": "38ac1d4b",
   "metadata": {},
   "outputs": [
    {
     "name": "stdout",
     "output_type": "stream",
     "text": [
      "V\t1\t28\t2004-09-14 13:39:00\tneutrality\n",
      "\n",
      "1\n",
      "<re.Match object; span=(1, 3), match='28'>\n"
     ]
    }
   ],
   "source": [
    "votes = []\n",
    "for line in data[3:5]:\n",
    "    if line[0]==\"V\":\n",
    "        print(line)\n",
    "        print(line[2]) #vote\n",
    "        print(re.search(\"\\d+\", line[3:]))\n",
    "    "
   ]
  },
  {
   "cell_type": "code",
   "execution_count": 18,
   "id": "d14a9674",
   "metadata": {},
   "outputs": [
    {
     "data": {
      "text/plain": [
       "'V\\t1\\t11\\t2004-09-12 06:21:00\\tmerovingian\\n'"
      ]
     },
     "execution_count": 18,
     "metadata": {},
     "output_type": "execute_result"
    }
   ],
   "source": [
    "data[55]"
   ]
  },
  {
   "cell_type": "code",
   "execution_count": 19,
   "id": "119a29e2",
   "metadata": {},
   "outputs": [
    {
     "data": {
      "text/plain": [
       "'\\t11\\t2004-09-12 06:21:00\\tmerovingian\\n'"
      ]
     },
     "execution_count": 19,
     "metadata": {},
     "output_type": "execute_result"
    }
   ],
   "source": [
    "data[55][3:]"
   ]
  },
  {
   "cell_type": "code",
   "execution_count": 20,
   "id": "ce72ade9",
   "metadata": {},
   "outputs": [],
   "source": [
    "match2 = re.search(\"\\d+\",data[55][3:]) "
   ]
  },
  {
   "cell_type": "code",
   "execution_count": 21,
   "id": "66f1c770",
   "metadata": {},
   "outputs": [],
   "source": [
    "findall2 = re.findall(\"\\d+\" , data[55])"
   ]
  },
  {
   "cell_type": "code",
   "execution_count": 22,
   "id": "53fd4384",
   "metadata": {},
   "outputs": [
    {
     "data": {
      "text/plain": [
       "['1', '11', '2004', '09', '12', '06', '21', '00']"
      ]
     },
     "execution_count": 22,
     "metadata": {},
     "output_type": "execute_result"
    }
   ],
   "source": [
    "findall2"
   ]
  },
  {
   "cell_type": "code",
   "execution_count": 23,
   "id": "54395d3b",
   "metadata": {},
   "outputs": [],
   "source": [
    "findall3 = re.findall(\"[a-z]+\", data[55])"
   ]
  },
  {
   "cell_type": "code",
   "execution_count": 24,
   "id": "1e43a9da",
   "metadata": {},
   "outputs": [
    {
     "data": {
      "text/plain": [
       "['merovingian']"
      ]
     },
     "execution_count": 24,
     "metadata": {},
     "output_type": "execute_result"
    }
   ],
   "source": [
    "findall3"
   ]
  },
  {
   "cell_type": "code",
   "execution_count": 25,
   "id": "3bdddef4",
   "metadata": {},
   "outputs": [],
   "source": [
    "elections =[]\n",
    "election =\"\"\n",
    "inAnElection = False\n",
    "for i in range(len(data)):\n",
    "    if ( (data[i][0] == \"E\") ): #&\\\n",
    "        #((i != len(data)-1) & (data[i+1][0]==\"T\") ) ) : #new election\n",
    "        elections.append(election)\n",
    "        election = data[i]\n",
    "    else:\n",
    "        election =  election + line"
   ]
  },
  {
   "cell_type": "code",
   "execution_count": 26,
   "id": "eff10acf",
   "metadata": {},
   "outputs": [
    {
     "data": {
      "text/plain": [
       "'E\\t1\\nV\\t1\\t28\\t2004-09-14 13:39:00\\tneutrality\\nV\\t1\\t28\\t2004-09-14 13:39:00\\tneutrality\\nV\\t1\\t28\\t2004-09-14 13:39:00\\tneutrality\\nV\\t1\\t28\\t2004-09-14 13:39:00\\tneutrality\\nV\\t1\\t28\\t2004-09-14 13:39:00\\tneutrality\\nV\\t1\\t28\\t2004-09-14 13:39:00\\tneutrality\\nV\\t1\\t28\\t2004-09-14 13:39:00\\tneutrality\\nV\\t1\\t28\\t2004-09-14 13:39:00\\tneutrality\\nV\\t1\\t28\\t2004-09-14 13:39:00\\tneutrality\\nV\\t1\\t28\\t2004-09-14 13:39:00\\tneutrality\\nV\\t1\\t28\\t2004-09-14 13:39:00\\tneutrality\\nV\\t1\\t28\\t2004-09-14 13:39:00\\tneutrality\\nV\\t1\\t28\\t2004-09-14 13:39:00\\tneutrality\\nV\\t1\\t28\\t2004-09-14 13:39:00\\tneutrality\\nV\\t1\\t28\\t2004-09-14 13:39:00\\tneutrality\\nV\\t1\\t28\\t2004-09-14 13:39:00\\tneutrality\\nV\\t1\\t28\\t2004-09-14 13:39:00\\tneutrality\\nV\\t1\\t28\\t2004-09-14 13:39:00\\tneutrality\\nV\\t1\\t28\\t2004-09-14 13:39:00\\tneutrality\\nV\\t1\\t28\\t2004-09-14 13:39:00\\tneutrality\\nV\\t1\\t28\\t2004-09-14 13:39:00\\tneutrality\\nV\\t1\\t28\\t2004-09-14 13:39:00\\tneutrality\\nV\\t1\\t28\\t2004-09-14 13:39:00\\tneutrality\\nV\\t1\\t28\\t2004-09-14 13:39:00\\tneutrality\\n'"
      ]
     },
     "execution_count": 26,
     "metadata": {},
     "output_type": "execute_result"
    }
   ],
   "source": [
    "elections[3]"
   ]
  },
  {
   "cell_type": "code",
   "execution_count": 27,
   "id": "5175b9c1",
   "metadata": {},
   "outputs": [
    {
     "name": "stdout",
     "output_type": "stream",
     "text": [
      "E\t1\n",
      "\n",
      "T\t2004-09-21 20:49:47\n",
      "\n",
      "U\t54\tzoney\n",
      "\n",
      "N\t28\tneutrality\n",
      "\n",
      "V\t1\t28\t2004-09-14 13:39:00\tneutrality\n",
      "\n",
      "V\t1\t33\t2004-09-14 13:41:00\tchmod007\n",
      "\n"
     ]
    }
   ],
   "source": [
    "for i in range(len(data[:6])):\n",
    "    print (data[i])                               "
   ]
  },
  {
   "cell_type": "markdown",
   "id": "77e1ebbe",
   "metadata": {},
   "source": [
    "### Election Objects"
   ]
  },
  {
   "cell_type": "code",
   "execution_count": 28,
   "id": "86d0b274",
   "metadata": {},
   "outputs": [],
   "source": [
    "electionsList =[]\n",
    "for i in range(len(data)):\n",
    "    #print (data[i])\n",
    "    if ((data[i][0] == \"E\") & (i<(len(data)-1)) ):\n",
    "        #def __initi__(self, success, time, user, nominator, votes):\n",
    "        try:\n",
    "            tempElection = Election(\\\n",
    "                               int(re.findall(\"\\d+\",data[i])[0]),\n",
    "                               0, #time TODO\n",
    "                               re.findall(\"\\D+\\d*\",data[i+2])[1].strip(), #user\n",
    "                               re.findall(\"\\D+\\d*\",data[i+3])[1].strip(), #nominators can be \"UNKNOWN\"\n",
    "                               [\"Not yet added\"] #votes, seprate object added a few cells down\n",
    "                              )\n",
    "            newTempElection= True\n",
    "            \n",
    "        except:\n",
    "            #uncomment these lines for troubleshooting those 8 problem users\n",
    "            #print(\"Problemm with :\", data[i])\n",
    "            #print(data[i+1])\n",
    "            #print(data[i+2])\n",
    "            #print(data[i+3])\n",
    "            #print(\"----\")\n",
    "            continue\n",
    "        if (newTempElection==True):\n",
    "            electionsList.append(tempElection)\n",
    "    else:   \n",
    "        newTempElection = False"
   ]
  },
  {
   "cell_type": "code",
   "execution_count": 29,
   "id": "42c80713",
   "metadata": {},
   "outputs": [
    {
     "name": "stdout",
     "output_type": "stream",
     "text": [
      "slyder_pilot nomitnated by:\tUNKNOWN\n",
      "pilotguy nomitnated by:\ttawker\n",
      "puckmv nomitnated by:\tUNKNOWN\n",
      "danielrocks123 nomitnated by:\tUNKNOWN\n",
      "sam_vimes nomitnated by:\taloan\n",
      "dljessup nomitnated by:\tUNKNOWN\n",
      "herostratus nomitnated by:\ttantalumtelluride\n",
      "sean_gorter nomitnated by:\tUNKNOWN\n",
      "mtz206 nomitnated by:\thughcharlesparker\n",
      "aaron_teh_tennisman nomitnated by:\tUNKNOWN\n",
      "jake0 nomitnated by:\tUNKNOWN\n",
      "ft2 nomitnated by:\tUNKNOWN\n"
     ]
    }
   ],
   "source": [
    "for i in range(1233,1245):\n",
    "    print(electionsList[i].user +\" nomitnated by:\\t\" + electionsList[i].nominator)"
   ]
  },
  {
   "cell_type": "code",
   "execution_count": 30,
   "id": "1495158a",
   "metadata": {},
   "outputs": [
    {
     "data": {
      "text/plain": [
       "2793"
      ]
     },
     "execution_count": 30,
     "metadata": {},
     "output_type": "execute_result"
    }
   ],
   "source": [
    "len(electionsList)\n",
    "#Expected length.  Success!\n",
    "#The missing users have been fixed with better regexes and encoding"
   ]
  },
  {
   "cell_type": "markdown",
   "id": "1e4da198",
   "metadata": {},
   "source": [
    "<s>There's eight entries for users who have numbers as usernames or no username, just a user ID.\n",
    "This could be cleaned up but for now, it'll just be discarded.</s>"
   ]
  },
  {
   "cell_type": "code",
   "execution_count": 31,
   "id": "55d4438c",
   "metadata": {},
   "outputs": [
    {
     "name": "stdout",
     "output_type": "stream",
     "text": [
      "andrevan nominated by:\tnode_ue\n",
      "arminius nominated by:\tthecustomoflife\n",
      "lst27 nominated by:\tUNKNOWN\n",
      "chmod007 nominated by:\tUNKNOWN\n",
      "taoster nominated by:\tUNKNOWN\n",
      "anÃ¡rion nominated by:\tUNKNOWN\n",
      "jor nominated by:\tUNKNOWN\n",
      "proteus nominated by:\tlord_emsworth\n",
      "pumpie nominated by:\tUNKNOWN\n",
      "nichalp nominated by:\tkrs\n",
      "pedanticallyspeaking nominated by:\tUNKNOWN\n",
      "benc nominated by:\tneutrality\n"
     ]
    }
   ],
   "source": [
    "for i in electionsList[2:14]:\n",
    "    print(i.user +\" nominated by:\\t\" + i.nominator)\n",
    "#electionsList works as expected"
   ]
  },
  {
   "cell_type": "markdown",
   "id": "7764e162",
   "metadata": {},
   "source": [
    "### Votes objects"
   ]
  },
  {
   "cell_type": "code",
   "execution_count": 32,
   "id": "55e580cf",
   "metadata": {},
   "outputs": [],
   "source": [
    "votesList= [] #this will be a lists of lists.  Each sub-list will be addes to the election object\n",
    "tempVotes=[]\n",
    "votingBool = False\n",
    "\n",
    "for i in data:\n",
    "    if i [0]!= \"V\":\n",
    "        if (len(tempVotes)>0):\n",
    "            votesList.append(tempVotes)\n",
    "        tempVotes=[]\n",
    "    else:\n",
    "        tempVotes.append(i)"
   ]
  },
  {
   "cell_type": "code",
   "execution_count": 33,
   "id": "1f9fb0c2",
   "metadata": {},
   "outputs": [
    {
     "data": {
      "text/plain": [
       "['V\\t-1\\t5800\\t2008-01-05 23:31:00\\tpedro\\n',\n",
       " 'V\\t-1\\t8045\\t2008-01-05 23:34:00\\tsarcasticidealist\\n',\n",
       " 'V\\t-1\\t7053\\t2008-01-05 23:36:00\\tavruch\\n',\n",
       " 'V\\t-1\\t6885\\t2008-01-06 00:44:00\\tkrator\\n',\n",
       " 'V\\t-1\\t8243\\t2008-01-06 01:07:00\\trazorflame\\n']"
      ]
     },
     "execution_count": 33,
     "metadata": {},
     "output_type": "execute_result"
    }
   ],
   "source": [
    "votesList[-1][:5]\n",
    "#the list of lists works as expected.  Next step is regex to clean it up"
   ]
  },
  {
   "cell_type": "code",
   "execution_count": 34,
   "id": "5e53ed35",
   "metadata": {},
   "outputs": [
    {
     "data": {
      "text/plain": [
       "'neutrality'"
      ]
     },
     "execution_count": 34,
     "metadata": {},
     "output_type": "execute_result"
    }
   ],
   "source": [
    "(re.findall(\"\\D+\",votesList[0][0]))[-1].strip()"
   ]
  },
  {
   "cell_type": "code",
   "execution_count": 35,
   "id": "5d37f323",
   "metadata": {},
   "outputs": [
    {
     "data": {
      "text/plain": [
       "2793"
      ]
     },
     "execution_count": 35,
     "metadata": {},
     "output_type": "execute_result"
    }
   ],
   "source": [
    "len(votesList)\n",
    "#The length of this list is the same length as the number of elections"
   ]
  },
  {
   "cell_type": "code",
   "execution_count": 36,
   "id": "832b8f31",
   "metadata": {},
   "outputs": [],
   "source": [
    "#The cell generates the list of listObjects, this cell singlehandedly took me 90 minutes\n",
    "votesObjectList =[]\n",
    "tempList =[]\n",
    "\n",
    "for item1 in votesList:\n",
    "    if len(tempList)>0:\n",
    "        votesObjectList.append(tempList)\n",
    "        tempList=[]\n",
    "    for item2 in item1:\n",
    "        # def __init__(self, vote, user_id, time, username):\n",
    "        tempVote = Vote(\\\n",
    "                        int(re.findall(\"\\d+\",item2)[0]), #vote\n",
    "                        re.findall(\"\\d+\",item2)[1], #user_id, possibly turn to int TODO\n",
    "                        re.findall(\"\\d+\",item2)[2:], #time, in a list, TODO\n",
    "                        re.findall(\"\\D+\\d*\\D*\", item2)[-1].strip() #username[2:]\n",
    "                     )\n",
    "        tempList.append(tempVote)\n",
    "\n",
    "if len(tempList)>0:\n",
    "        votesObjectList.append(tempList)\n"
   ]
  },
  {
   "cell_type": "code",
   "execution_count": 37,
   "id": "996de703",
   "metadata": {},
   "outputs": [
    {
     "data": {
      "text/plain": [
       "2793"
      ]
     },
     "execution_count": 37,
     "metadata": {},
     "output_type": "execute_result"
    }
   ],
   "source": [
    "len(votesObjectList)\n",
    "#length as expected, success"
   ]
  },
  {
   "cell_type": "code",
   "execution_count": 38,
   "id": "32bb949a",
   "metadata": {},
   "outputs": [
    {
     "name": "stdout",
     "output_type": "stream",
     "text": [
      "['Not yet added']\n"
     ]
    }
   ],
   "source": [
    "print(electionsList[0].votes)"
   ]
  },
  {
   "cell_type": "code",
   "execution_count": 39,
   "id": "666dd602",
   "metadata": {},
   "outputs": [],
   "source": [
    "for i in range(len(electionsList)):\n",
    "    electionsList[i].votes= votesObjectList[i]"
   ]
  },
  {
   "cell_type": "code",
   "execution_count": 40,
   "id": "359e3db0",
   "metadata": {},
   "outputs": [
    {
     "name": "stdout",
     "output_type": "stream",
     "text": [
      "Election for: zoney\n",
      " - - - - -\n",
      "neutrality voted 1, userID: 28\n",
      "chmod007 voted 1, userID: 33\n",
      "norm voted 1, userID: 34\n",
      "orthogonal voted 1, userID: 5\n",
      "michael voted 1, userID: 20\n",
      "antandrus voted 1, userID: 36\n",
      "_________\n",
      "Election for: gerald_farinas\n",
      " - - - - -\n",
      "neutrality voted 1, userID: 28\n",
      "thecustomoflife voted 1, userID: 55\n",
      "grunt voted 0, userID: 26\n",
      "rhymeless voted 1, userID: 21\n",
      "mirv voted 1, userID: 9\n",
      "orthogonal voted 1, userID: 5\n",
      "_________\n",
      "Election for: andrevan\n",
      " - - - - -\n",
      "node voted 1, userID: 62\n",
      "slowking voted 1, userID: 27\n",
      "merovingian voted 1, userID: 11\n",
      "norm voted 1, userID: 34\n",
      "anÃ¡rion voted 1, userID: 10\n",
      "thecustomoflife voted 1, userID: 55\n",
      "_________\n",
      "Election for: arminius\n",
      " - - - - -\n",
      "thecustomoflife voted 1, userID: 55\n",
      "neutrality voted 1, userID: 28\n",
      "antandrus voted 1, userID: 36\n",
      "chmod007 voted 1, userID: 33\n",
      "austin voted 0, userID: 51\n",
      "ffirehorse voted 1, userID: 19\n",
      "_________\n"
     ]
    }
   ],
   "source": [
    "for i in electionsList[:4]:\n",
    "    print(\"Election for:\", i.user)\n",
    "    print(\" - - - - -\")\n",
    "    for q in i.votes[:6]:\n",
    "        print (q.user_name +\\\n",
    "               \" voted \" + \\\n",
    "               str(q.vote) + \\\n",
    "                \", userID: \" \\\n",
    "                   + str(q.user_id)\\\n",
    "                  )\n",
    "    print(\"_________\")\n",
    "    # someone has a screwy user name, I have to fix this TODO\n",
    "    #note usernames can have numbers, need to fix regex"
   ]
  },
  {
   "cell_type": "markdown",
   "id": "0345b7ad",
   "metadata": {},
   "source": [
    "#### Note: The above cell is good enough, by my judgement.  It's possible there is a better RegEx for usernames, and It's also possible that times as node and edge attributed could be collected.  I'm skipping that for now"
   ]
  },
  {
   "cell_type": "markdown",
   "id": "327e45f7",
   "metadata": {},
   "source": [
    "### TODO:  Get votes list into the relevant elections, possibly using vote objects made above (vote object defined to better preserve attributes)."
   ]
  },
  {
   "cell_type": "markdown",
   "id": "404ab9d4",
   "metadata": {},
   "source": [
    "### TODO2: Once we have working list of the elections and votes, we can make the nodes (users from the votes, elections from the election objects.)  Then we can create a bipartate graph to begin Project 2 analysis"
   ]
  },
  {
   "cell_type": "markdown",
   "id": "c01235ea",
   "metadata": {},
   "source": [
    "### Pandas\n",
    "TODO"
   ]
  },
  {
   "cell_type": "code",
   "execution_count": 41,
   "id": "0670f5a0",
   "metadata": {},
   "outputs": [
    {
     "name": "stdout",
     "output_type": "stream",
     "text": [
      "2793\n",
      "2793\n"
     ]
    }
   ],
   "source": [
    "print(len([i.user for i in electionsList]))\n",
    "print(len([i.nominator for i in electionsList]))"
   ]
  },
  {
   "cell_type": "code",
   "execution_count": 42,
   "id": "99f3a45b",
   "metadata": {},
   "outputs": [
    {
     "name": "stdout",
     "output_type": "stream",
     "text": [
      "neutrality\n",
      "chmod007\n",
      "norm\n"
     ]
    }
   ],
   "source": [
    "for j in [i.votes for i in electionsList[:1]]:\n",
    "    for k in j[:3]:\n",
    "        print(k.user_name)\n"
   ]
  },
  {
   "cell_type": "code",
   "execution_count": 95,
   "id": "97b0b0b9",
   "metadata": {},
   "outputs": [],
   "source": [
    "#this is all the user_name in all the votes.  gotten from nested list comprehension.  Example below:\n",
    "#[[j for j in range(5)] for i in range(5)]\n",
    "\n",
    "\n",
    "#[[j.user_name for j in election.votes]  for election in electionsList[:3]]"
   ]
  },
  {
   "cell_type": "code",
   "execution_count": 96,
   "id": "2b6bd7cb",
   "metadata": {},
   "outputs": [],
   "source": [
    "#this is all the votes in all the votes.  gotten from nested list comprehension.  1 is a yay\n",
    "\n",
    "#[[j.vote for j in election.votes]  for election in electionsList[:2]]"
   ]
  },
  {
   "cell_type": "code",
   "execution_count": 56,
   "id": "6ea1bf74",
   "metadata": {},
   "outputs": [
    {
     "data": {
      "text/html": [
       "<div>\n",
       "<style scoped>\n",
       "    .dataframe tbody tr th:only-of-type {\n",
       "        vertical-align: middle;\n",
       "    }\n",
       "\n",
       "    .dataframe tbody tr th {\n",
       "        vertical-align: top;\n",
       "    }\n",
       "\n",
       "    .dataframe thead th {\n",
       "        text-align: right;\n",
       "    }\n",
       "</style>\n",
       "<table border=\"1\" class=\"dataframe\">\n",
       "  <thead>\n",
       "    <tr style=\"text-align: right;\">\n",
       "      <th></th>\n",
       "      <th>Election</th>\n",
       "      <th>Nominator</th>\n",
       "      <th>Voters</th>\n",
       "      <th>Votes</th>\n",
       "    </tr>\n",
       "  </thead>\n",
       "  <tbody>\n",
       "    <tr>\n",
       "      <th>0</th>\n",
       "      <td>zoney</td>\n",
       "      <td>neutrality</td>\n",
       "      <td>[neutrality, chmod007, norm, orthogonal, micha...</td>\n",
       "      <td>[1, 1, 1, 1, 1, 1, 1, 1, 1, 1, 1, 1, 1, 1, 1, ...</td>\n",
       "    </tr>\n",
       "    <tr>\n",
       "      <th>1</th>\n",
       "      <td>gerald_farinas</td>\n",
       "      <td>neutrality</td>\n",
       "      <td>[neutrality, thecustomoflife, grunt, rhymeless...</td>\n",
       "      <td>[1, 1, 0, 1, 1, 1, 1, 1, 1, 1, 0, 1, 1, 1, 1, ...</td>\n",
       "    </tr>\n",
       "    <tr>\n",
       "      <th>2</th>\n",
       "      <td>andrevan</td>\n",
       "      <td>node_ue</td>\n",
       "      <td>[node, slowking, merovingian, norm, anÃ¡rion, ...</td>\n",
       "      <td>[1, 1, 1, 1, 1, 1, 1, 1, 1, 1, 1, 1, 1, 1, 1, ...</td>\n",
       "    </tr>\n",
       "    <tr>\n",
       "      <th>3</th>\n",
       "      <td>arminius</td>\n",
       "      <td>thecustomoflife</td>\n",
       "      <td>[thecustomoflife, neutrality, antandrus, chmod...</td>\n",
       "      <td>[1, 1, 1, 1, 0, 1, 1, 0, 1, 1, 1, 1, 0, 1, 1, ...</td>\n",
       "    </tr>\n",
       "    <tr>\n",
       "      <th>4</th>\n",
       "      <td>lst27</td>\n",
       "      <td>UNKNOWN</td>\n",
       "      <td>[chmod007, anÃ¡rion, everyking, thecustomoflif...</td>\n",
       "      <td>[1, 1, 1, 1, 1, 1, 1, 1, 1, 1, 1, 1, 1, 0, 1, ...</td>\n",
       "    </tr>\n",
       "    <tr>\n",
       "      <th>5</th>\n",
       "      <td>chmod007</td>\n",
       "      <td>UNKNOWN</td>\n",
       "      <td>[merovingian, fredrik, kate, jwrosenzweig, mir...</td>\n",
       "      <td>[1, 1, 1, 1, 1, 1, 1, 1, 1, 1, 1, 1, 1, 1, 1, ...</td>\n",
       "    </tr>\n",
       "    <tr>\n",
       "      <th>6</th>\n",
       "      <td>taoster</td>\n",
       "      <td>UNKNOWN</td>\n",
       "      <td>[andrevan, grunt, merovingian, slowking, cyp, ...</td>\n",
       "      <td>[1, 1, 1, 1, 1, 1, 1, 0, 1, 1, 1, 1, 1, 1, 1, ...</td>\n",
       "    </tr>\n",
       "    <tr>\n",
       "      <th>7</th>\n",
       "      <td>anÃ¡rion</td>\n",
       "      <td>UNKNOWN</td>\n",
       "      <td>[mirv, jor, gzornenplatz, neutrality, orthogon...</td>\n",
       "      <td>[1, 1, 1, 0, 1, 1, 0, 1, 1, 1, 1, 1, 1, 1, 1, ...</td>\n",
       "    </tr>\n",
       "    <tr>\n",
       "      <th>8</th>\n",
       "      <td>jor</td>\n",
       "      <td>UNKNOWN</td>\n",
       "      <td>[cecropia, radicalbender, chris, wik, danny, r...</td>\n",
       "      <td>[1, 1, 1, 1, 1, 1, 1, 1, 1, 1, 1, 1, 1, 1, 0, ...</td>\n",
       "    </tr>\n",
       "    <tr>\n",
       "      <th>9</th>\n",
       "      <td>proteus</td>\n",
       "      <td>lord_emsworth</td>\n",
       "      <td>[mirv, orthogonal, ffirehorse, ugen64, merovin...</td>\n",
       "      <td>[1, 1, 1, 1, 1, 1, 1, 1, 1, 1, 1, 1, 1, 1, 1, ...</td>\n",
       "    </tr>\n",
       "  </tbody>\n",
       "</table>\n",
       "</div>"
      ],
      "text/plain": [
       "         Election        Nominator  \\\n",
       "0           zoney       neutrality   \n",
       "1  gerald_farinas       neutrality   \n",
       "2        andrevan          node_ue   \n",
       "3        arminius  thecustomoflife   \n",
       "4           lst27          UNKNOWN   \n",
       "5        chmod007          UNKNOWN   \n",
       "6         taoster          UNKNOWN   \n",
       "7        anÃ¡rion          UNKNOWN   \n",
       "8             jor          UNKNOWN   \n",
       "9         proteus    lord_emsworth   \n",
       "\n",
       "                                              Voters  \\\n",
       "0  [neutrality, chmod007, norm, orthogonal, micha...   \n",
       "1  [neutrality, thecustomoflife, grunt, rhymeless...   \n",
       "2  [node, slowking, merovingian, norm, anÃ¡rion, ...   \n",
       "3  [thecustomoflife, neutrality, antandrus, chmod...   \n",
       "4  [chmod007, anÃ¡rion, everyking, thecustomoflif...   \n",
       "5  [merovingian, fredrik, kate, jwrosenzweig, mir...   \n",
       "6  [andrevan, grunt, merovingian, slowking, cyp, ...   \n",
       "7  [mirv, jor, gzornenplatz, neutrality, orthogon...   \n",
       "8  [cecropia, radicalbender, chris, wik, danny, r...   \n",
       "9  [mirv, orthogonal, ffirehorse, ugen64, merovin...   \n",
       "\n",
       "                                               Votes  \n",
       "0  [1, 1, 1, 1, 1, 1, 1, 1, 1, 1, 1, 1, 1, 1, 1, ...  \n",
       "1  [1, 1, 0, 1, 1, 1, 1, 1, 1, 1, 0, 1, 1, 1, 1, ...  \n",
       "2  [1, 1, 1, 1, 1, 1, 1, 1, 1, 1, 1, 1, 1, 1, 1, ...  \n",
       "3  [1, 1, 1, 1, 0, 1, 1, 0, 1, 1, 1, 1, 0, 1, 1, ...  \n",
       "4  [1, 1, 1, 1, 1, 1, 1, 1, 1, 1, 1, 1, 1, 0, 1, ...  \n",
       "5  [1, 1, 1, 1, 1, 1, 1, 1, 1, 1, 1, 1, 1, 1, 1, ...  \n",
       "6  [1, 1, 1, 1, 1, 1, 1, 0, 1, 1, 1, 1, 1, 1, 1, ...  \n",
       "7  [1, 1, 1, 0, 1, 1, 0, 1, 1, 1, 1, 1, 1, 1, 1, ...  \n",
       "8  [1, 1, 1, 1, 1, 1, 1, 1, 1, 1, 1, 1, 1, 1, 0, ...  \n",
       "9  [1, 1, 1, 1, 1, 1, 1, 1, 1, 1, 1, 1, 1, 1, 1, ...  "
      ]
     },
     "execution_count": 56,
     "metadata": {},
     "output_type": "execute_result"
    }
   ],
   "source": [
    "df1 = pd.DataFrame({\\\n",
    "                   \"Election\" : [i.user for i in electionsList],\n",
    "                    \"Nominator\" : [i.nominator for i in electionsList],\n",
    "                    \"Voters\" : [[j.user_name for j in election.votes]  for election in electionsList],\n",
    "                    \"Votes\" : [[j.vote for j in election.votes]  for election in electionsList] \n",
    "                   }\n",
    "                  )\n",
    "df1.head(10)# other attributes could be added"
   ]
  },
  {
   "cell_type": "markdown",
   "id": "b161d0f1",
   "metadata": {},
   "source": [
    "## Next Part: NetworkX"
   ]
  },
  {
   "cell_type": "code",
   "execution_count": null,
   "id": "48d61e73",
   "metadata": {},
   "outputs": [],
   "source": []
  },
  {
   "cell_type": "code",
   "execution_count": null,
   "id": "94cfc3f8",
   "metadata": {},
   "outputs": [],
   "source": [
    "from networkx.algorithms import bipartite"
   ]
  },
  {
   "cell_type": "markdown",
   "id": "7b71a77e",
   "metadata": {},
   "source": [
    "https://networkx.org/documentation/stable/reference/algorithms/bipartite.html\n",
    "\n",
    "B = nx.Graph()\n",
    "\n",
    "#### Add nodes with the node attribute \"bipartite\"\n",
    "\n",
    "B.add_nodes_from([1, 2, 3, 4], bipartite=0)\n",
    "\n",
    "B.add_nodes_from([\"a\", \"b\", \"c\"], bipartite=1)\n",
    "\n",
    "#### Add edges only between nodes of opposite node sets\n",
    "\n",
    "B.add_edges_from([(1, \"a\"), (1, \"b\"), (2, \"b\"), (2, \"c\"), (3, \"c\"), (4, \"a\")])"
   ]
  },
  {
   "cell_type": "code",
   "execution_count": 91,
   "id": "996bb3b2",
   "metadata": {},
   "outputs": [],
   "source": [
    "B = nx.Graph()"
   ]
  },
  {
   "cell_type": "code",
   "execution_count": 92,
   "id": "eccaea92",
   "metadata": {},
   "outputs": [],
   "source": [
    "B.add_nodes_from([user.user for user in electionsList], bipartate=0) #users for elections\n",
    "#in other words, who's being voted on\n",
    "#TODO add nominator attribute"
   ]
  },
  {
   "cell_type": "code",
   "execution_count": 63,
   "id": "fc923add",
   "metadata": {},
   "outputs": [
    {
     "data": {
      "text/plain": [
       "2793"
      ]
     },
     "execution_count": 63,
     "metadata": {},
     "output_type": "execute_result"
    }
   ],
   "source": [
    "#TODO ????\n",
    "#\n",
    "allVotersList = [[j.user_name for j in election.votes]  for election in electionsList]\n",
    "len(allVotersList)"
   ]
  },
  {
   "cell_type": "code",
   "execution_count": 86,
   "id": "79b9183d",
   "metadata": {},
   "outputs": [],
   "source": [
    "allVoters = []\n",
    "for elect in allVotersList:\n",
    "    for voter in elect:\n",
    "        allVoters.append(voter)"
   ]
  },
  {
   "cell_type": "code",
   "execution_count": 87,
   "id": "cb99b4fd",
   "metadata": {},
   "outputs": [
    {
     "name": "stdout",
     "output_type": "stream",
     "text": [
      "114013\n"
     ]
    }
   ],
   "source": [
    "print (len(allVoters))"
   ]
  },
  {
   "cell_type": "code",
   "execution_count": 88,
   "id": "192b1876",
   "metadata": {},
   "outputs": [
    {
     "data": {
      "text/plain": [
       "18.5"
      ]
     },
     "execution_count": 88,
     "metadata": {},
     "output_type": "execute_result"
    }
   ],
   "source": [
    "round( (len(allVoters)) / len(set (allVoters)) , 2)\n",
    "#Each voter participates in 18.5 elections"
   ]
  },
  {
   "cell_type": "code",
   "execution_count": 89,
   "id": "53c272ce",
   "metadata": {},
   "outputs": [
    {
     "name": "stdout",
     "output_type": "stream",
     "text": [
      "6162\n"
     ]
    }
   ],
   "source": []
  },
  {
   "cell_type": "code",
   "execution_count": 93,
   "id": "adca8ce9",
   "metadata": {},
   "outputs": [],
   "source": [
    "B.add_nodes_from(set(allVoters), bipartate=1) #All voters, second node type"
   ]
  },
  {
   "cell_type": "code",
   "execution_count": 94,
   "id": "cf68ad13",
   "metadata": {},
   "outputs": [
    {
     "data": {
      "text/plain": [
       "NodeView(('zoney', 'gerald_farinas', 'andrevan', 'arminius', 'lst27', 'chmod007', 'taoster', 'anÃ¡rion', 'jor', 'proteus', 'pumpie', 'nichalp', 'pedanticallyspeaking', 'benc', 'edge', 'golbez', 'chuq', 'kloy1334', 'postdlf', 'mackensen', 'cryptoderk', 'poccil', 'rdsmith4', 'matt_crypto', 'sam_spade', 'aloan', 'fire_star', 'neutrality', 'jallan', 'slowking_man', 'gwalla', 'hawstom', 'ta_bu_shi_da_yu', 'skyler1534', 'cyborgtosser', 'rhobite', 'ffirehorse', 'cool_hand_luke', 'norm', 'lucky_6', 'scudlee', 'spencer195', 'ludraman', 'anthony', 'marine_69', 'swadair', 'netoholic', 'aranel', 'violetriga', 'p3', 'duncharris', 'lachatdelarue', 'philhibbs', 'dbachmann', 'cogden', 'ran', 'hyacinth', 'df08', 'joy_stovall', 'ortolan88', 'dankashet', 'derek_ross', 'eequor', 'indrian', 'wapcaplet', 'karada', 'frecklefoot', 'aris_katsaris', 'jeronimo', 'clockworktroll', 'yelyos', 'gamaliel', 'shaneking', 'takuyamurata', 'maury_markowitz', 'kf', 'cstar', 'lgagnon', 'zoicon5', 'timc', 'brg', 'dmn', 'jpgordon', 'macgyvermagic', 'plato', 'adamretchless', 'andyl', 'calmypal', 'chocolateboy', 'chrisdjackson', 'colipon', 'falcon_kirtaran', 'gareth_owen', 'itai', 'markalexander100', 'misterrick', 'nikola_smolenski', 'plato.07', 'rei', 'rogper', 'snowspinner', 'thecustomoflife', 'wheeler', 'dino', 'phil_sandifer', 'mustafaa', 'redwordsmith', 'woggly', 'fvw', 'malcolm_farmer', 'wernher', 'generalpatton', 'taxman', 'rfl', 'guanaco', 'ferkelparade', 'gadfium', 'jonmoore', 'pzfun', 'tkinias', 'edwinhj', 'solipsist', 'brockert', 'squash', 'maurreen', 'allyunion', 'geni', 'duk', 'mackeriv', 'nathanlarson32767', 'premeditated_chaos', 'anÃ¡rion2', 'urhixidur', 'dcedwards1966', 'tim_ivorson', 'chan_han_xiang', 'pyrop', 'rholton', 'sortior', 'edward', 'waltpohl', 'brokensegue', 'pedant', 'imaglang', 'dbiv', 'vague_rant', 'gabbe', 'jni', 'abcd', 'alteripse', 'curps', 'piotrus', 'omegatron', 'dinopup', 'inter', 'icairns', 'henrygb', 'rich_farmbrough', 'refdoc', 'dbenbenn', 'doidimais_brasil', 'grutness', 'rje', 'eventhorizon', 'improv', 'bart133', 'utcursch', 'timrollpickering', 'darwinek', 'scott_gall', 'brian0918', 'vaoverland', 'cdc', 'tony_sidaway', 'haham_hanuka', 'wereon', 'josh_grosse', 'knowledge_seeker', 'cacycle', 'mark_dingemanse', 'guanaco2', 'pharos', 'luigi30', 'sjorford', 'carbonite', 'slimvirgin', 'bumm13', 'justphil', 'scott_burley', 'alkivar', 'one_salient_oversight', 'slambo', 'mailer_diablo', 'sesel', 'banyantree', 'rlquall', 'mel_etitis', 'sundar', 'antandrus', 'jip', 'chamaeleon', 'gdr', 'jinian', 'wwoods', 'petaholmes', 'biekko', 'uncle_g', 'mindspillage', 'xezbeth', 'ellsworth', 'peter_ellis', 'burgundavia', 'wilfried_derksen', 'korath', 'phils', 'samuraiclinton', 'smoddy', 'furrykef', 'gkhan', 'khaosworks', 'trilobite', 'lommer', 'shanes', 'cburnett', 'el_c', 'worldtraveller', 'zzyzx11', 'minghong', 'evercat', 'pavel_vozenilek', 'freestylefrappe', 'bugzpal', 'rama', 'jrm', 'bishonen', 'poiuytman', 'chanting_fox', 'impalerbugz', 'ausir', 'spottedowl', 'clarkk', 'marsch', 'apollomelos', 'vikreykja', 'arcadian', 'wiglaf', 'wonderfool', 'oven_fresh', 'evil_monkey', 'freplyspang', 'ugen64', 'bobblewik', 'paul_august', 'seabhcan', 'kils', 'cesarb', 'harro5', 'bluejean', 'thryduulf', 'jyolkowski', 'hedley', 'howabout1', 'mulad', 'fawcett5', 'ingoolemo', 'pjacobi', 'radiant!', 'eugene_van_der_pijll', 'linuxbeak', 'zocky', 'kappa', 'browardplaya', 'afc', 'kelly_martin', 'jeremya', 'darrien', 'weyes', 'sjakkalle', 'kbdank71', 'b-101', 'grm_wnr', 'schissel', 'guettarda', 'weyes2', 'grue', 'deltabeignet', 'theoclarke', 'tenofalltrades', 'jojan', 'sn0', 'lir', 'willmcw', 'brandonyusuftoropov', 'y0', 'furiousfreddy', 'fcytravis', 'r3', 'bratsche', 'allen3', 'seth_ilys', 'mzajac', 'susvolans', 'denelson83', 'spangineer', 'maltesedog', 'craigy144', 'vsmith', 'woohookitty', 'starblind', 'feco', 'mb1000', 'talrias', 'william_m._connolley', 'jredmond', 'triddle', 'thorpe', 'nightscream', 'drzoidberg', 'moriori', 'bluemoose', 'essjay', 'hashar', 'gregrobson', 'master_thief_garrett', 'redwolf24', 'psufan2007', 'who', 'dmcdevit', 'stevey7788', 'sango123', 'purplefeltangel', 'jamesteterenko', 'sasquatch', 'musachachado', 'redux', 'agent003', 'canderson7', 'thomask', 'thunderbrand', 'madchester', 'longhair', 'litefantastic', 'agentsoo', 'humblefool', 'kmccoy', 'jtkiefer', 'squeakbox', 'tirin', 'jondel', 'marksweep', 'ragib', 'dan100', 'zxcvbnm', 'flcelloguy', 'boothy443', 'kaldari', 'malathion', 'func', 'baronlarf', 'zscout370', 'lacrimosus', 'alistairmcmillan', 'feloniousmonk', 'rainbowwarrior1977', 'briangotts', 'white_cat', 'changlc', 'rhaworth', 'ngb', 'tznkai', 'jitse_niesen', 'k1', 'carnildo', 'dragons_flight', 'fernando_rizo', 'ground_zero', 'rick_block', 'happycamper', 'phil_boswell', 'lupin', 'hall_monitor', 'thecoffee', 'journalist', 'bancroftian', 'rl', 'moe_epsilon', 'davetunney', 'nsr', 'marianocecowski', 'nufy8', 'celestianpower', 'sam_vimes', 'sam_hocevar', 'danielcd', 'jessew', 'casito', 'scimitar', 'asbestos', 'imdaking', 'beland', 'wikifan04', 'phroziac', 'ben_arnold', 'albertr', 'robchurch', 'ulayiti', 'joolz', 'splash', 'angr', 'ral315', 'cedar-guardian', 'nickptar', 'the_singing_badger', 'acetic_acid', 'jobe6', 'rx_strangelove', 'lectonar', 'android79', 'nv8200', 'katefan0', 'dave_souza', 'rfc1394', 'salvag', 'drini', 'zappaz', 'nandesuka', 'trevor_macinnis', 'admiral_roo', 'leonard_g.', 'bmicomp', 'bhadani', 'gordonwatts', 'r._fiend', 'ixfd64', 'doc_glasgow', 'mrmattkatt', 'coburnpharr04', 'icekarma', 'brookie', 'oleg_alexandrov', 'bovlb', 'v._molotov', 'bob_rulz', 'desiegel', 'ruairidi', 'royboy', 'robertg', 'jdavidb', 'rogerd', 'tdxiang', 'kmweber', 'jaxl', 'marudubshinki', 'a_man_in_black', 'shauri', 'gyrofrog', 'durin', 'lord_voldemort', 'instantnood', 'empty2005', 'kwamikagami', 'owenx', 'nicholasturnbull', 'deryck_chan', 'nabla', '23', 'graft', 'brian_kendig', 'mairi', 'quale', 'dragonflysixtyseven', 'roysmith', 'adam1213', 'fastfission', 'friday', 'lordameth', 'billyh', 'rjfjr', 'rn', 'karmafist', 'a_link_to_the_past', 'wikiwoohoo', 'sebastiankessel', 'brighterorange', 'evilphoenix', 'rd232', 'justinc', 'robywayne', 'wikibofh', 'jossi', 'encephalon', 'scottyboy900', 'jaranda', 'Ã†var_arnfjÃ¶rÃ°_bjarmason', 'qaz', 'nickshanks', 'cyberjunkie', 'monkbel', 'wikiacc', 'wayward', 'tregoweth', 'hermione1980', 'nickbush24', 'jcw69', 'kzollman', 'thames', 'sfoskett', 'garzo', 'appleboy', 'cambridgebayweather', 'voice_of_all(mtg)', 'mtmdem', 'comics', 'gregasche', 'alphax', 'the_wub', 'titoxd', 'cool3', 'e._brown', 'johntex', 'grenavitar', 'beau99', 'the_land', 'edcolins', 'shanel', 'tomf688', 'private_butcher', 'reflex_reaction', 'dvyost', 'kirill_lokshin', 'alabamaboy', 'einsteinmc2', 'anonymous_editor', 'chowells', 'bushytails', 'tony1', 'stevertigo1', 'spinboy', 'haukurth', 'zereshk', 'stevertigo', 'jeffrey_o._gustafson', 'tedernst', 'scottdavis', 'cognition', 'firefox', 'egil', 'shimgray', 'alai', 'cookiecaper', 'babajobu', 'necrothesp', 'markgallagher', 'commander_keane', 'pamri', 'physchim62', 'shaddack', 'mysekurity', 'drbob', 'ramallite', 'wackymacs', 'philwelch', 'silsor', 'goeagles4321', 'mc_masterchef', 'aranda56', 'chooserr', 'aaron_brenneman', 'prueda29', 'capitalistroadster', 'cryptic', 'psy_guy', 'briansmithson', 'just_zis_guy,_you_know?', 'jms625', 'johann_wolfgang', 'goodoldpolonius2', 'ianblair23', 'sherool', 'nlu', 'the_tom', 'phdrillsergeant', 'cleared_as_filed', 'joanneb', 'mongo', 'graemel', 'jareth', 'kuatofkdy', 'halibutt', 'jkelly', 'hiding', 'niz', 'miborovsky', 'sherurcij', 'demi', 'sean_black', 'eddiesegoura', 'horsepunchkid', 'ilmari_karonen', 'mushroom', 'snottygobble', 'enochlau', 'garykirk', 'ronline', 'bunchofgrapes', 'theparanoidone', 'Ð‚Ð¾Ñ€Ñ’Ðµ_Ð”._Ð‘Ð¾Ð¶Ð¾Ð²Ð¸Ñ›', 'shreshth91', 'hamster_sandwich', 'sczenz', 'mindmatrix', 'aytakin', 'cnwb', 'staxringold', 'kbh3', 'cjs102793', 'wiki_alf', 'gurubrahma', 'bd2412', 'andrew_norman', 'thebainer', 'wikifanatic', 'extreme_unction', 'awolf002', 'scehardt', 'nsle', 'eskog', 'yhoshua', 'firebug', 'pathoschild', 'jwschmidt', 'winona_gone_shopping', 'tshilo12', 'canaen', 'orioane', 'lbmixpro', 'brendanconway', 'whatwouldemperornortondo', 'megaman_zero', 'solando', 'evanprodromou', 'banes', 'syrthiss', 'clw', 'pablo-flores', 'dpotop', 'alhutch', 'rschen7754', 'freakofnurture', 'crnagora', 'bogdangiusca', 'adashiel', 'mo0', 'peruvianllama', 'leithp', 'activision45', 'anclation', 'simetrical', 'ianbrown', '80', 'borghunter', 'malo', 'joe_beaudoin_jr.', 'deathphoenix', 'gtbacchus', 'swd316', 'pinchasc', 'croat_canuck', 'w.marsh', '^demon', 'thivierr', 'firefoxman', 'bkwillwm', 'fayssalf', 'izehar', 'radiokirk', 'jnothman', 'howcheng', 'jacoplane', 'andman8', '9', 'paxequilibrium', 'soothingr', 'david_levy', 'borgqueen', 'thelb4', 'ancheta_wis', 'samuelwantman', 'walter', 'mike_rosoft', 'nixdorf', 'richard_arthur_norton_(1958', 'ricky81682', 'natalinasmpf', 'inshaneee', 'knowledgeofself', 'ari89', 'noseptember', 'punkmorten', 'nightstallion', 'timpope', 'tom_harrison', 'flarn2005', 'francistyers', 'locke_cole', 'idont_havaname', 'ed_poor', 'jonathunder', 'hollow_wilerding', 'pgk', 'sarge_baldy', 'ali_786', 'bourbons3', 'parys', 'jasenlee', 'slashme', 'rgulerdem', 'nickcatal', 'wgfinley', 'mathwiz2020', 'alex_bakharev', 'wouterstomp', 'banno', 'cjmarsicano', 'sceptre', 'admrboltz', 'luckyluke', 'juro', 'the_wookieepedian', 'xerocs', 'killerchihuahua', 'husnock', 'aecis', 'trysha', 'jzg', 'dsmdgold', 'drdisque', 'fropuff', 'crotalus_horridus', 'ambush_commander', 'anglius', 'lotsofissues', 'yamla', 'ian13', 'svera1', 'dueyfinster', 'interiot', 'naconkantari', 'eurekalott', \"can't_sleep,_clown_will_eat_me\", 'chazz88', 'brusselsshrek', 'bg', 'smurrayinchester', 'lulu_of_the_lotus-eaters', 'bugs5382', 'chairboy', 'peter', 'samuelsen', 'sunfazer', 'rexnl', 'ohnoitsjamie', 'jayanthv86', 'vegaswikian', 'dmlandfair', 'urthogie', 'babybeluga', 'sosleepy', 'jamyskis', 'ashibaka', 'dangherous', 'steinsky', 'lethe', 'keldan', 'mpf', 'neil', 'astanhope', 'benon', 'ish_ishwar', 'dynamic', 'matt_yeager', 'superm401', 'r.d.h._(ghost_in_the_machine)', 'cantthinkofagoodname', 'ec5618', 'joke137', 'gene_poole', 'kku', 'matthewund', 'femto', 'bbatsell', 'quarl', '4836', 'piedras_grandes', 'bling-chav', 'computerjoe', 'yeltensic42', 'genisock2', 'josiah_rowe', 'fred_chessplayer', 'stuffofinterest', 'water_bottle', 'canadiancaesar', 'mrbowtie', 'the_fish', 'essexmutant', 'elf-friend', 'brainhell', 'chick_bowen', 'xchrisblackx', 'xaosflux', 'texasandroid', 'megamanzero', 'ukpaolo', 'terenceong1992', 'wb', 'tmalmjursson', 'martyman', 'd-day', 'tvaughn05', 'aude', 'djr_xi', 'rogerthat', 'saint-paddy', 'som', 'cohesion', 'andy5190', 'ki', 'raven4', 'drumguy8800', 'paolo_liberatore', 'bobet', 'cooksey', 'helohe', 'dakotakahn', 'rspeer', 'brossow', 'zsinj', 'kingboyk', 'ayarktos', 'm_johnson', 'r.koot', 'bobo192', '(aeropagitica)', 'christopherlin', 'emt147', 'stifle', 'idleguy', 'minan', 'infinity0', 'ductoman16', 'cyde', 'nightdragon', 'obli', 'jdoorjam', 'deckiller', 'llamadog903', 'tawker', 'meegs', 'flowerparty', 'akghetto', 'vary', 'prohibitonions', 'martial_law', 'steveo2', 'cactus.man', 'myleslong', 'contagioustruth', 'aarons', 'gflores', 'dchiuch', 'ricardo_lagos', 'ligulem', 'larsinio', 'encyclopedist', 'chaz365', 'weyes3', 'redvers', 'rune.welsh', 'terence_ong', 'samuel_blanning', \"can't_sleep,_clown_will_eat_me_too\", 'musical_linguist', 'felinefanatic13', 'oscarthecat', 'holyromanemperor', 'pegasus1138', 'jared', 'pepsidrinka', 'makemi', 'schzmo', 'scm83', 'benon2', 'laurascudder', 'azatoth', 'robert_mcclenon', 'dustimagic', 'wikipeedio', 'dagizza', 'turnstep', 'joturner', 'zanaq', 'deeptrivia', 'information_center', 'forkattack', 'heretohelp', 'scienceman123', 'tv316', 'swiftoak', 'khoikhoi', 'gryffindor', 'bormalagurski', 'keeleysam', 'cbdunkerson', 'prodego', 'tigershark', 'maltesedog3', 'va_girl2468', 'hoary', 'circeus', 'proto', 'kungfuadam', 'stevage', 'ac1983', 'kusma', 'mdd4696', 'tyrenius', 'mark83', 'fang_aili', 'mushrambo', 'heah', 'ps2', 'slicky', 'jedi6', 'petros471', 'pschemp', 'royboycrashfan', 'the_republican', 'folajimi', 'dijxtra', 'acebrock', 'kilo-lima', 'master_jay', 'kaisershatner', 'lightdarkness', 'pagrashtak', 'no_guru', 'siva1979', 'rgtraynor', 'laurenceandrews', 'dbertman', 'rockero', 'where', 'general_eisenhower', 'lar', 'ctswyneken', 'jonathan235', 'humus_sapiens', 'weirdy', 'robert_moore', 'saltywater', 'rasputinaxp', 'ezeu', 'swatjester', 'kku2', 'david_kernow', 'aleenf1', 'the_jps', 'rory096', 'funnybunny', 'milkmiruku', 'keenan_pepper', 'deskana', 'emt1472', 'flonight', 'mets501', 'master_of_puppets', 'andyz', 'werdna', 'tijuana_brass', 'snoutwood', 'saravask', 'lcarsdata', 'joshuaz', 'joan53', 'foxearth', 'naan_kadavul', 'amgine', 'metamagician3000', 'bottesini', 'nihonjoe', 'srikeit', 'getcrunk', 'benon3', 'sue_anne', 'brownhairedgirl', 'highwaycello', 'absolutdan', 'whouk', 'timothy_usher', 'zora', 'sukh', 'xoloz', 'bastique', 'unixer', 'deiz', 'aido2002', 'messedrocker', 'carbine', 'joelr31', 'rmrfstar', 'liberal_2006', 'king_of_hearts', 'zpb52', 'gangsta-easter-bunny', 'kimchi.sg', \"rama's_arrow\", 'kjkolb', 'bucketsofg', 'crzrussian', 'cicero_dog', 'schzmo2', 'rabbott', 'm1', 'ews23', 'buchanan-hermit', 'philip_baird_shearer', 'corbinsimpson', 'antaeus_feldspar', 'dewet', 'admincopper', 'cowman109', 'hurricanehink', 'kcordina', 'olaf_stephanos', 'tone', 'bookofjude', 'grevenko_sereth', 'kevin_baas', 'conscious', 'shootjar', 'blnguyen', 'amidaniel', 'willc', 'piemanmoo', 'jesus_on_wheels', 'cchan199206', 'kimvdlinde', 'geo.plrd', 'axiomm', 'natalya', 'brendenhull', 'sganeshkumar_1989', 'gwernol', 'h', 'mjcdetroit', 'wcitymike', 'wwwwolf', 'caldorwards4', 'eternal_equinox', 'james_anatidae', 'richardcavell', 'osbus', 'griffjam', 'digitalme', 'jesterjester', 'ynhockey', 'iloveplankton', 'ben_w_bell', 'relentlessrecusant', 'kukini', 'lavakille', 'ganeshk', 'peteg913', 'todorbozhinov', 'gurch', 'flameviper12', 'amynewyork4248', 'samir_(the_scope)', 'fir0002', 'thetruthbelow', 'evadb', 'fritz_saalfeld', 'silence', 'jflash', 'kc9', 'underneath-it-all', 'kafziel', 'dvd_r_w', 'ianmanka', 'cuivienen', 'zhudyzhu', 'moink', 'slyder_pilot', 'pilotguy', 'puckmv', 'danielrocks123', 'dljessup', 'herostratus', 'sean_gorter', 'mtz206', 'aaron_teh_tennisman', 'jake0', 'ft2', 'agateller', 'doktorbuk', 'tangotango', 'winhunter', 'joshbuddy', 'alan_liefting', 'extraordinary_machine', 'poetlister', 'tuspm', \"rock's_rock\", 'fetofs', 'theproject', 'the_thadman', 'badlydrawnjeff', 'bornhj', 'avraham', 'amk152', 'mangojuice', 'mr._lefty', 'phaedriel', 'i-2', 'benon4', 'trampikey', 'geomapboy2', 'conrad_devonshire', 'cholmes75', 'alfakim', 'hexagon1', 'jlatondre', 'invisible_robot_fish', 'salman01', 'preslethe', 'aldux', 'samsara', 'schzmo3', 'kylu', 'mboverload', 'werdna648', 'addatron', 'mipadi', 'christopher_sundita', 'grandmasterka', 'northenglish', 'scienceapologist', 'bigtop', 'randall_brackett', 'wknight94', 'edgar181', 'liquidghoul', 'tpirfansteve', 'grendelkhan', 'pollux', 'micoolio101', 'arthur_rubin', 'paul_cyr', 'the_mad_bomber', 'andypandy.uk', 'misza13', 'nookdog', 'ronan.evans', 'deon555', 'abcdefghijklm', 'centrx', 'j_di', 'catamorphism', 'daniel_123', 'jakedhs07', 'ryangerbil10', 'yanksox', 'chenuevara', 'lambertman', 'mr_lefty', 'eluchil404', 'crisspy', 'jersey_devil', 'ikiroid', 'firsfron', 'tom_walker', 'wavegetarian', 'williamborg', 'ercheck', 'wcquidditch', 'chad1', 'wickethewok', 'jason_potter', 'ambuj.saxena', 'sir_nicholas_de_mimsy-porpington', 'misfittoys', 'crazycomputers', 'synergeticmaggot', 'eagle_101', 'ghe', 'gangstaeb', 'popcorn2008', 'viridae', 'cameron_nedland', 'alphachimp', 'evocativeintrigue', 'mdcollins1984', 'simpsons_contributor', 'ryulong', 'abu_badali', 'goldom', 'robdurbar', 'daveswagon', 'them62', 'tarret', 'renata3', 'the_thadman2', 'aguerriero', 'andrew_levine', 'son_of_a_peach', 'post_falls_man', 'deltaslaya', 'asydwaters', 'icelandic_hurricane', 'hezzy', 'wangi', 'pmanderson', 'bpazolli', 'imdanumber1', 'ltpowers', 'larry_v', 'consumed_crustacean', 'martinp23', 'sarah_ewart', 'stephen_b_streater', 'gien', 'kpjas', 'tomthehand', 'ramsquire', 'stevietheman', 'deville', 'crystallina', 'truthbringertoronto', 'splinter', 'nawlinwiki', 'patchouli', 'teke', 'zapptastic', 'runcorn', 'guinnog', 'randywang', 'tmorton166', 'stlet.rozinsky', 'schuminweb', 'xyrael', 'nathannoblet', 'netsnipe', 'downtowndontay', 'mina19', '68', 'jpd', 'ganfon', 'daniel_olsen', 'klingoncowboy4', 'saxteacher', 'andreasegde', 'wikidude69', 'morphh', 'tehkewl1', 'hoopydink', 'hello32020', 'luna_santin', 'maxasus', 'masssiveego', 'borisblue', 'nimur', 'adriaan', 'st47', 'konstable', 'striver', 'steel359', 'robth', 'qrc2006', 'markovich292', 'zzuuzz', 'everyking', 'mike_7', 'the_halo', 'paulwicks', 'anthony5429', 'thatcher131', 'chacor', 'rhythmnation2004', 'selmo', 'joeferret', 'mac_davis', 'bobbylee', 'pengo', 'oddmartian', 'nishkid64', 'sugarpine', 'master_chief_117', 'duja', 'morse', 'doctor_evil', 'b&w_anime_fan', 'jc37', 'hmrox', 'merope', 'irongargoyle', 'ncurse', 'chochopk', 'johan_elisson', 'adambiswanger1', 'madcowpoo', 'tawkerbottora', 'deepujoseph', 'yomangani', 'malber', 'gary_kirk', 'darthvader', 'skerhawx', 'jimwitz', 'flameviper_x-1', 'durova', 'chirp_cricket', 'triona', 'chrisgriswold', 'p.b._pilhet', 'physicq210', 'coredesat', 'atlant', 'john_anderson', 'benon5', 'ginkgo100', 'liyster', 'trÃ¶del', 'cyberskull', 'cynical', 'frankwilliams', 'plange', 'melchoir', 'katieh5584', 'tkd', 'earle_martin', 'danny_lilithborne', 'wikicats', 'pursey', 'teh_tennisman', 'betacommand', '-jmac-', 'electricbassguy', 'aksi_great', 'rick_man', 'olessi', 'elonka', 'bradbeattie', 'mcb', 'mer-c', 'jusjih', 'kf4', 'exir_kamalabadi', 'alex9891', 'mcepitome', 'hamedog', 'art_lapella', 'london_uk', 'osgoodelawyer', 'lostintherush', 'geejo', 'youngamerican', 'ombudsman', 'saxifrage', 'bobabobabo', 'rewired', 'supastargirl', 'future_perfect_at_sunrise', 'remember', 'evula', 'anonemouse', 'michaelbillington', 'rockpocket', 'husond', 'georgewilliamherbert', 'walton_one', 'shyam_bihari', 'trialsanderrors', 'sb_johnny', 'topaz', 'dalbury', 'darknesslord', 'leotolstoy', 'the_bread', 'tariqabjotu', 'opabinia_regalis', 'spawn_man', 'davidjjj', 'reybrujo', 'mike_selinker', 'terrillwhite', 'tango', 'stevebaker', 'metros232', 'doug_bell', 'gnangarra', 'exvicious', 'anthony.bradbury', \"nae'blis\", 'movementarian', 'highinbc', 'renesis13', 'fu_kinell', 'wikizach', 'sandstein', 'gogo_dodo', 'jstupple7', 'me_and_my_robot', 'the_haunted_angel', 'daveydweeb', 'ccool2', 'biruitorul', 'riana_dzasta', 'gray_porpoise', 'chrislk02', 'amalas', 'khukri', 'mrdarcy', 'rat235478683', 'the_transhumanist', 'malcolm', 'memmke', 'nick', 'stemonitis', 'mlc409', 'ceyockey', 'king_toadsworth', 'gmaxwell', 'asams10', 'davidruben', 'captaindansplashback', 'j.smith', 'azer_red', 'chaser', 'pikminlover', 'tonywalton', 'mike1', 'crawfordknights', 'mwx10', 'r', 'royalguard11', 'brian_new_zealand', 'cbrown1023', 'asterion', 'hornetman16', 'dina', 'xiner', 'dinoman', 'the_hybrid', 'smitty494', 'kizzle', 'crazytales56297', 'grika', 'tzaquiel', 'shmirlywhirl', 'rmky87', 'mikedk9109', 'canadian-bacon', 'agathoclea', 'dar-ape', 'wikiman53', 'blackjack', 'iced_kola', 'platypus222', 'maxamegalon2000', 'no1', 'anthony_appleyard', 'berig', 'bostonma', 'mudkipluver111', 'zack3', 'aresandenyo', 'grberry', 'cj_king', 'yuser31415', 'seraphimblade', 'antoinej', 'the_truth_from_texas', 'drosenbach', 'savidan', 'the_uber_ninja', 'kseferovic', 'nilfanion', 'veracious_rey', 'yao_ziyuan', 'floaterfluss', 'kinu', 'protectionbot', 'val42', 'smcafirst', 'just_h', 'shirahadasha', 'will_merchant', 'visviva', 'feydey', 'nduell', 'the_rambling_man', 'jersyko', 'chamillitaryboi94', 'bigdt', 'pascal.tesson', 'tellyaddict', 'ryan524', 'night_gyr', 'the_placebo_effect', 'foundby', 'averross', 'isotope23', 'echo_myself', 'edwincasadobaez', 'zach111493', 'tso1', 'david.mestel', 'xunex', 'yannismarou', 'peter_m_dodge', 'teckwiz', 'bozmo', 'dphantom15', 'mysid', 'cjll_wright', 'soman', 'thelistupdater', 'gndawydiak', 'randomjack', 'kuru', 'sunstar_net', 'jakew', 'newyorkbrad', 'j_milburn', 'cyclepat', 'dev920', 'wildnox', 'jp06035', 'fisherqueen', 'mentaka', 'wizardman', \"serpent's_choice\", 'hiddenhearts', 'quatreryukami', 'yandman', 'qwghlm', 'judae1', 'peregrine_fisher', 'fan-1967', 'bushcarrot', 'jfburton', 'mecu', 'wooyi', 'courtney_akins', 'gilliam', 'chris_is_me', 'picaroon9288', 'nima_baghaei', 'grubber', 'flameviper', 'drmaik', 'geniac', 'carabinieri', 'extranet', 'arjun01', 'kgv', 'ryan_keyes', 'sidhucric', 'sangak', 'anemoneprojectors', 'willscrlt', 'shadow1', 'gay_cdn', 'garion96', 'moreschi', 'somitho', 'cuchullain', 'thomasiscool', 'haysead', 'hu12', 'zazzer', 'adun12', 'vegadark', 'agk', 'persian_poet_gal', 'heimstern', 'smccandlish', 'amarkov', 'mbralchenko', 'shadowhalo', 'delldot', 'llama_man', 'natl1', 'gizwidget', 'heligoland', 'hypersonicboom', 'crum375', 'proveit', 'mehrshad123', 'caribbean1', 'mastera113', 'patricknoddy', 'navou', 'anetode', 'marskell', 'quinlanfan2', 'fram', 'irishguy', 'timvickers', 'james086', 'ferrett3', 'trebor_rowntree', 'rlevse', 'nat_wolff', 'scharks', 'wikipediarules2221', 'bighaz', 'andrwsc', 'saudiqbal', 'invader_soap', 'oliver202', 'adam_cuerden', 'extranet2', 'communist47', 'harryboyles', 'jaseemum', 'bubba_hotep', 'jesse_viviano', 'wandalstouring', 'veinor', 'auburnpilot', 'williamkf', 'kyravixen', 'jforget', 'kyriakos', 'owie123', 'davy1132', 'ryanpostlethwaite', 'john_reaves', 'matthew', 'matthewfenton', 'parker007', 'orderinchaos78', 'groupempty', 'rklawton', 'eggwo', 'natalie_erin', 'shimeru', 'creation_destruction', 'mrld', 'froth', 'davnel03', 'peacefultimes', 'jet123', 'skully_collins', 'bouncingmolar', 'alex43223', 'nenyedi', 'kntrabssi', 'alison', 'plainnym', 'maelwys', 'ben', 'clawson', 'wafulz', 'middleeastern', 'tyran7', 'rebelguys2', 'cmummert', 'razorclaw', 'revragnarok', 'copernicus_ii', 'oldelpaso', 'blakecs', 'michaelas10', 'sggh', 'sepehrsh', 'wjbscribe', 'ahadland1234', 'abela2006', 'ironduke', 'kermanshahi', 'jreferee', 'acalamari', 'casliber', 'jxm', 'waggers', 'driveus', 'dvdknight', 'guitaristlcpl', 'mcintec', 'ibeatanorexia', 'ais523', 'ezratrumpet', 'philip_gronowski', 'hirak_99', 'mewtwowimmer', 'xdamr', 'dynamictwo-o', 'bfissa', 'cool_blue', 'akhilleus', 'pulltoopen', 'anynobody', 'tails0600', 'shalom', 'jujube', 'kfp', 'soumyasch', 'chrisch', 'rigadoun', 'meno25', 'rockmfr', 'jrockley', 'shimdidly', 'darthgriz98', 'tohru_honda13', 'mikeblas', 'nmajdan', 'angusmclellan', 'danny', 'kk_2', 'bigrtex', 'mschel', 'dgies', 'w1', 'sox23', 'cla68', 'greenboxed', 'fuhghettaboutit', 'hemlock_martinis', 'coelacan', 'veesicle', 'staecker', 'joebengo', 'thefirstm', 'ameratsu', 'thenthornthing', 'wrp103', 'imever4', 'pie_man_360', 'saturation2', 'lankybugger', 'qinshihuangdi', 'cometstyles', 'fishhead64', 'darkfalls', 'makechoochoogonow', 'walton_monarchist89', 'brylcreem2', 'tonythetiger', 'susan_walton', 'andonico', 'terriersfan', 'the_juggsd86', 'trumpetband', 'ragesoss', 'mallanox', 'sam_blacketer', 'krimpet', 'ali', 'scientizzle', 'microchip08', 'adambro', 'selket', 'twinsmetsfan', 'bibliomaniac15', 'prolog', 'max_naylor', 'matt_britt', 'slgrandson', 'eukesh', 'bklounge', 'stephen', 'retiono_virginian', 'martinultima', 'errabee', 'coren', 'caribbean_h.q.', 'a.z.', 'blueboy96', 'jhfireboy', 'malevious', 'kaushal208', 'sr13', 'eyrian', 'bloodpack', 'lord_hawk', 'william_pietri', 'sfgiants', 'slumgum', 'dgg', 'mastcell', 'giggy', 'englishefternamn', 'nuclearj', 'pupster21', 'psdubow', 'peejay2', 'owainbut', 'david_fuchs', 'david_eppstein', 'mzmcbride', 'yonatan', 'pastordavid', 'after_midnight', 'rettetast', 'firefoxrocks', 'cattlegirl', 'dekimasu', 'searchme', 'aqu01', 'seattle_skier', 'stephenhjellum13', 'teniii', 'lake54', 'tenebrae', 'billy', 'sam_1123', 'dweller', 'benon6', 'brendelsignature', 'lucasbfr', 'lessheard_vanu', 'dynaflow', 'stevemcsherry', 'c.fred', 'nardman1', 'masamage', 'anas_salloum', 'maxsem', 'alvestrand', 'roastytoast', 'carioca', 'juansidious', 'audacity', 'nihiltres', 'arctic.gnome', 'akradecki', 'phoenix2', 'bjelleklang', 'bobak', 'otto4711', 'spuriousq', 'jodyb', 'nhrhs2010', 'nimrauko', 'peacent', 'jayzraptorz', 'yamamoto_ichiro', 'n734', 'booksworm', 'treywiki', 'ocatecir', 'danms', 'tenpoundhammer', 'lwarf', 'christopher_parham', 'tomcusack', 'gracenotes', 'chaza93', 'wildthing61476', 'mapsman', 'knobbie10', 'azuran', 'vassyana', 'roarinfury_69', 'hehehehehehehe', 'eastgermanallstar', 'marcschulz', 'uga_man', 'wilyd', 'dwrules', 'hdt83', 'reedy_boy', 'krakatoakatie', 'clamster5', 'mr.z-man', 'ozgod', 'daniil_maslyuk', 'john254', 'arkyan', 'black_falcon', 'doomsday349', 'goodnightmush', 'plm209', 'munkee_madness', 'greaterwikiholic', 'yonidebest', 'dfrg.msc', 'nat.tang', 'hmwith', 'jmlk17', 'simply_south', 'luigimaniac', 'yechielman', 'mattl2001', 'oo7565', 'loom91', 'beetstra', 'jonjonbt', 'americanbritishitalian', 'tito55', 'mitchazenia', 'tjstrf', 'ryanzilla13', 'fvasconcellos', 'pax:vobiscum', 'ispy1981', 'wimt', 'ief', 'meateater', 'ivoshandor', 'coallen', 'hersfold', 'tomasbat', 'sergeixxx', 'akmask', 'elinord', 'fyre2387', 'tiochaka', 'fortyniners9999', 'chetblong', 'sirfozzie', 'chuckfromchan', 'shyamal', 'magnus_animum', 'josephtheboheme', 'wikihermit', 'ck_lostsword', 'anonymous_dissident', 'drkiernan', 'kubigula', 'sir_james_paul', 'leebo', 'wantok', 'ericorbit', 'np9455', 'bymastudent', 'mattbr', 'richardshusr', 'spartaz', 'cloudnine', 'the_king_of_clay', 'eleassar', 'virtualsteve', 'greeves', 'crazytales', 'zachary_crimsonwolf', 'bovinebeast', 'u-two', 'daniel_case', 'pedro', 'sanchom', 'nonerds', 'celticfan383', 'evilclown93', 'grant65', 'andrew_c', 'milton_stanley', 'hiberniantears', 'gdonato', 'karrmann', 'popefauvexxiii', 'citicat', 'dream_out_loud', 'thefearow', 'harrymaxwell', 'mike_peel', 'dosguy', 'member', 'angie_y.', \"the_raven's_apprentice\", 'kwsn', 'captain_panda', 'chris_g', 'edmundkh', 'campbellscott', 'butseriouslyfolks', 'hbkh', 'e', 'qst', 'oldwindybear', 'neranei', 'aquastreak', 'derhexer', 'namayte', 'o', 'miggy93', 'melburnian', 'carlossuarez46', 'kitia', 'ishikawa_minoru', 'not_wikipedia_administrator', 'ryanlupin', 'mike33', 'philippe', 'charitwo', 'tomstar81', 'stephan_schulz', 'daniel.cardenas', 'lradrama', 'tra', 'useight', 'eliminatorjr', 'xnuala', 'the_undertow', 'angus_lepper', 'awiseman', 'lyrl', 'n', 'raymond_arritt', 'aarktica', 'calliopejen1', 'caknuck', 'booyabazooka', 'perspicacite', 'tabercil', 'marasmusine', 'nwwaew', 'specialagentuncletito', 'willy,_your_mate', 'acbest', 'diez2', 'mikegodwin', 'angelo.romano', 'wikidudeman', 'laleena', 'spartan-james', 'a_raider_like_indiana', 'factinspector', 'ryanborgz', 'czarbender', 'boricuaeddie', 'n3', 'slsb', 'alex_valavanis', 'fightindaman', 'l', 'gator1', 'shoessss', 'crownofworms', 'bearian', 'graham87', 'mmafan2007', 'schutz', 'stwalkerster', 'limetolime', 'unique_tree', 'bduke', 'wikisteph888', 'mattythewhite', 'airbus_a300', 'crassic', 'haemo', 'holmes.sherlock', 'trusilver', 'resolute', 'vanilla2', 'mattbroon', 'zliljoemz', '@pple', 'thejosh', 'infrangible', 'balloonman', 'luvcraft', 'melsaran', '53180', 'schumi555', 'victoria_uni', 'timysmidge', 'sobar', 'gagueci', 'wodup', 'theislander', 'jetlover', 't-dot', 'pniddy', 'tbo_157', 'wikipedianprolific', 'desalvionjr', 'dantheman531', 'bobsmith319', 'flubeca', 'chunky_rice', 'edison', 'satori_son', 'astroview120', 'tiptoety', 'elkman', 'ceres3', 'flyguy649', 'czac', 'the_random_editor', 'jayvdb', 'edmundezekielmahmudisa', 'monotonehell', 'street_scholar', 'crocka05', 'sasha_callahan', 'oddmartian2', 'mikyt90', 'shoeofdeath', 'jogers', 'markles', 'dreadstar', 'kingdom_of_crash_and_spyro', 'number_57', 'moonriddengirl', 'madman', 'cocoaguy', 'iridescent', 'barneca', 'dustihowe', 'minesweeper.007', 'pidgeonman', 'tanner-christopher', 'brettzwo', 'nehrams2020', 'penwhale', 'nather14', 'bull_borgnine', 'espresso_addict', 'amire80', 'edokter', 'aflumpire', 'addhoc', 'doyley', 'fabrictramp', 'daniel', 'captmondo', 'ronnotel', 'missingno390', 'taborlechner', 'sql', 'wikipedialuva', 'dihydrogen_monoxide', 'kicking222', 'danaman5', 'lazylaces', 'metropolitan90', 'recurring_dreams', 'jhunterj', 'mtmelendez', 'socks_01', 'nat', 'gp75', 'montchav', 'avant_guard', 'samulili', 'stormtracker94', 'beko120', 'agÃ¼eybanÃ¡', 'aktron', 'hiphopchamp', 'aa', 'cobi', 'oddparents5000', 'blood_red_sandman', 'jehochman', 'redirectcleanupbot', 'oxymoron83', 'alasdair', 'tobythetramengine', 'bennyboyz3000', 'danielfolsom', 'codelyoko193', 'kornfan71', 'kizor', 'abd', 'wisdom89', 'couriano', 'poeloq', 'vintei', 'carterdriggs', 'hut_8', 'carcharoth', 'goodshoped35110', 'racepacket', 'touch_of_light', 'tikiwont', 'nicolaslord', 'mike6271', 'rjd0060', 'rudget', 'carlosguitar', 'pats1', 'jason_quinn', 'green_kirby', 'plinkle', 'ev', 'kane5187', 'remember_the_dot', 'wenli', 'kieferskunk', 'thebestkiano', 'ojis', 'dreamafter', 'msjapan', 'dppowell', 'michfan2123', 'accounting4', 'businessman332211', 'hastingssaxonspride', 'henry_williams', 'ksy92003', 'athaenara', 'lincalinca', 'the-g-unit-boss', 'east718', 'ilyushka88', 'icestorm815', 'ineversigninsodonotmessageme', 'davewild', 'henrik', 'glasscobra', 'bencherlite', 'bkell', 'esprit15', 'bongwarrior', 'thespian', 'ramos', 'drumlineramos', 'michaelbusch', 'ohanaunited', 'hit_bull,_win_steak', 'sjp', 'pigman', 'nyttend', 'juggernaut0102', 'woodym555', 'redmarkviolinist', 'laralove', 'tempdeletionbot', 'vistro', 'cremepuff222', 'majorly', 'david_d.', 'miranda', 'lid', 'emesee', 'spellcast', 'encyclopetey', 'herbythyme', 'sebastianhelm', 'rifleman_82', 'fastlizard4', 'gimmetrow', 'emperor', 'beanojosh', 'tehbrandon', 'ioeth', 'geometry_guy', 'vantucky', 'teadrinker', 'the_sunder_king', 'a._b.', 'geoffr', 'dmacks', 'yatesy1988', 'random832', \"chase_me_ladies,_i'm_the_cavalry\", 'matthew_yeager', 'canadian_paul', 'islaammaged126', 'hisspaceresearch', 'jonathan', 'acroterion', 'gaius_cornelius', 'orangemike', 'eliz81', 'spebi', 'daven200520', 'skierrmh', 'nikki311', 'mwiley202', 'kathryn_nicdhÃ\\xa0na', 'derek.cashman', 'christhedude', 'pazan.ua', 'royalbroil', 'do11', 'phil_mypeanus', 'dlohcierekim', 'metal_to_the_max!', 'sorryguy', 'silktork', 'richard_n', 'hbdragon88', 'thedemonhog', 'finale_wiki_geek', 'flaminglawyer', 'malleus_fatuarum', 'scott5114', 'bobes66', 'satyrtn', 'alokprasad84', 'nburden', 'castastone', 'hardcore_hak', 'dalekusa', 'styrofoam1994', 'xantheif_src', 'carguy454', 'padillah', 'brianga', 'jftsang', 'chrishomingtang', 'nrdg', 'heidianddick', 'kaiser_matias', 'camaron1', 'rkitko', 'rallyinspired', 'kralizec!', 'hencetalk', 'snowolf', 'arnoldreinhold', 'fatmanonthehorse', 'xdanielx', 'o_keyes', 'keith_d', 'ruhrfisch', 'russell777', 'cjmiller', 'slakr', 'michael_greiner', 'od_mishehu', 'kurt_shaped_box', 'oliver3669', 'jetstar888', 'gatoclass', 'jerry', 'wassupwestcoast', 'michaelsanders', 'surplu', 'thumperward', 'theokaythrill', 'prestonh', 'danswiki', 'versageek', 'tony_fox', 'wikitank', 'mattinbgn', 'masem', 'shaggy9872004', 'salix_alba', 'simba3000', 'sony-youth', 'king_Ã“Ã°inn_the_aesir', 'jj137', 'primehunter', 'magioladitis', 'reaper_x', 'faithlessthewonderboy', 'revolving_bugbear', 'nick_dowling', 'cf38', 'alivefreehappy', 'iceberg2229', 'jon513', 'ibaranoff24', 'timmeh', 'whiteandnerdy111', 'dagadt', 'juliancolton', 'djsasso', 'johnny_au', 'akeen', 'canley', 'mercury', 'footballfan190', 'aqwis', 'ohmpandya', 'viviofatefan', 'j-stan', 'kbthompson', 'appraiser', 'archtransit', 'jayron32', 'caulde', 'jordan_payne', 'mr_kc', 'seanmd80', 'cuyler91093', 'gromlakh', 'olz06', '', 'bjones', 'suffice', 'clio', 'aed', 'burumbator', 'thefuzzyfive', 'satori', 'armanaziz', 'evil', 'fred', 'yid613', 'korg', 'parallel', 'roger', 'seventypercent', 'engineerscotty', 'captainktainer', 'bsf', 'bbwoman1', 'profundity06', 'ruud_koot', 'snakese', 'actown', 'vickiz', 'luna', 'bwowen', 'khodavand', 'wolf530', 'btlizard', 'wj32', 'swainstonation', 'apjake', 'ncsaint', 'wikidan829', 'chwech', 'aditya', 'kalathalan', 'ce', 'mais', 'cs', 'fredrik', 'arbeit', 'semperfidelis81', 'jbfraser', 'flavrsavr', 'argentino', 'julius1990', 'tml.zh', 'neoneo13', 'gzuckier', 'chronic', 'coolcaesar', 'geogre', 'rydia', 'peripatetic', 'roseapple', 'ip', 'dyslexiceditor', 'jesster79', 'qxz', 'stardust8212', 'freederick', 'nicagent', 'polarlys', 'superlex', 'palestine48', 'oskar', 'cyclonenim', 'archer7', 'doubleblue', 'raddicks', 'chelseaboy', 'fuzzie', 'stan', 'thue', 'cwy2190', 'marciamaria', '1ne', 'prisonbreak12345', 'premkudva', 'redxiv', 'mindstormskid', 'goodday', 'seewolf', 'ppgmd', 'nyikita', 'gblaz', 'taragui', 'imperialles', 'atari965', 'tenacious', 'szyslak', 'e104421', 'grutter', 'arniep', 'shudde', 'sastrawan', 'tim!', 'terinjokes', 'virtualdelight', 'ardenn', 'alton', 'timelessness', 'brian', 'wikidenizen', 'subhash', 'rex', 'kirill', 'squeezeweasel', 'amazon10x', 'cctoide', 'schlamniel', 'thuranx', 'wikiman', 'bschott', 'uga', 'ryan_postlethwaite', 'catchpole', 'seed', 'uninvitedcompany', 'videmus', 'mustafa', 'ungtss', 'alex', 'boy1jhn', 'rabbeinu', 'jguk', 'kscottbailey', 'dbzrocks', 'ilario', 'aibarr', 'tonym88', 'my_cat_inn', 'leflyman', 'gnomz007', 'thegreenblob', 'alexander', 'n!', 'thuglife', 'moodygroove', 'fbv65edel', 'tree_biting_conspiracy', 'wikiolap', 'paloma', 'paradiso', 'lucky', 'slp1', 'yellowassessmentmonkey', 'empoor', 'profoss', 'iicatsii', 'jibran1', 'foumidable', 'tobias', 'finnrind', 'danielt5', 'habj', 'nnfolz', 'vildricianus', 'sirmelle', 'shipmaster', 'thinkblue', 'milant', 'shenme', 'green', 'kas', 'felix', 'jklin', 'kazak', 'sam_korn', 'freedom', 'asnatu', '*kat*', 'arkady', 'thistheman', 'academy', 'antivman', 'endlessdan', 'john', 'ontarioquizzer', 'odd', 'bgs022', 'steveo', 'will', 'bluefox', 'sashazlv', 'idont', 'hackmiester', 'manekineko', 'belkis', 'jmbell', 'mehmeda', 'shantanuo', 'karimarie', 'rex071404', 'wikipeditor', 'annafoxlover', 'cymsdale', 'quill', 'obscurans', 'nemilar', 'anwar', 'imhungry', 'groovydude777', 'wisesabre', 'ironbrew', 'carmelapple', 'appleworm', 'betacommandbot', 'martial75', 'cheekymonkey', 'hammerheadhuman', 'simonp', 'never29', \"dragon's\", 'myanw', 'autumnleaf', 'wareh', 'grunt', 'aydee', 'funnyman3595', 'goethean', 'cq', 'bloodzombie', 'quaiqu', 'arcana', 'tcrow777', 'mirv', 'kensingtonblonde', 'kathryn', 'butterflys', 'timlambert', 'mariano', 'beakerk44', 'iuio', 'kaiti', 'stockdiver', 'proabivouac', 'arrow740', 'brisvegas', 'blutacker', 'sputnikcccp', 'dland', 'bluelist', 'nickw557', 'theprophetess', 'kickstart70', 'reggae', 'hkoala', '8bitjake', 'hubman', 'quentin', 'seancdaug', 'karl_dickman', 'joaquin', 'shizane', 'starx', 'sneltrekker', 'chameleon', 'tobyk777', 'blacksun', 'yamanbaiia', 'smallbones', 'tedfrank', 'zchangu', 'hydrogen', 'yaf', 'weikang', 'snoyes', 'risker', 'travistx', 'thomas', 'bassistphysicist', 'smiletoday', 'bastun', 'euskera', 'voyagerfan5761', 'allgoodnamesalreadytaken', 'baad', 'malepheasant', 'triskaideka', 'science4sail', 'varizer', 'jbetak', 'madcow257', 'moncrief', 'ed_g2s', 'xed', 'packncanes', 'assasin', 'taxwoman', 'goobergunch', 'adrian', 'elbenevolente', 'bbik', 'wikipedianinthehouse', 'itaqallah', 'pstrait', 'reyk', 'banana04131', 'tickle', 'hirohisat', 'micahmn', 'mike.lifeguard', 'bigz', 'ikh', 'kinneyboy90', 'ubiq', 'hb4026', 'nico', 'gandalf61', 'john24601', 'homestarmy', 'bomac', 'joopercoopers', 'tuzsuzdelibekir', 'tommy', 'burntsauce', 'whispertome', 'captainvindaloo', 'lurkinginchicago', 'alexj2002', 'harrisx', 'jahiegel', 'jriddell', 'crgreathouse', 'csernica', 'raphael1', 'andreww', 'chmouel', 'bikeable', 'ohconfucius', 'coolkatt', 'wjbaway', 'brianherman', 'auroranorth', 'shyam', 'stanley', 'leidiot', 'scott3', 'klownox', 'audacitor', 'kranar', 'basketball110', 'hall', 'd.m.n.', 'limin8tor', 'nickball', 'marknew', 'Ð•dit', 'masterhomer', 'peepp', 'shem', 'gungadin', 'nsh', 'baccyak4h', 'wizzy', 'j', 'marie', 'patstuart', 'aaronhill', 'nekto', 'reinis', 'franzeska', 'djmckee1', 'kl4m', 'uris', 'fuzheado', 'magicalsaumy', 'grumpytroll', 'ttyre', 'pipermantolisopa', 'chezhiyan', 'tonyw', 'backburner001', 'hermione', 'cspurrier', 'hendry1307', 'nikosilver', 'stereotek', 'lostkiwi', 'leland', 'cybbe', 'kazushi', 'alastair', 'variable', 'cassivs', 'qjuad', 'fallout', 'holy', 'supernerd', 'therealantonius', 'jodmar', 'driken', 'thepurplemonkey', \"kuratowski's\", 'truthspreader', 'coolcat', 'storm', 'dragonfiend', 'psyphics', 'gathrawn22', 'guitarist6987876', 'v.', 'molobo', 'angel', 'defrosted', 'emufarmers', 'jrg', 'thedj', 'chase', 'thb', 'solarusdude', 'ashdurbat', 'cosmokazi', 'cquan', 'animate', 'lakers', 'dhmo', 'oo64eva', 'vitriouxc', 'mmackinnon', 'jersey', 'bengalski', 'tlogmer', 'selena', 'vd64992', 'nobugs', 'marc', 'haeleth', 'jÃ©skÃ©', 'phil', 'yixiltesiphon', 'ibrahimfaisal', 'carom', 'explodicle', 'realek', 'crazydude', 'marcushan', 'bswiki', 'vasile', 'bwd', 'jasabella', 'perfect', 'mkweise', 'itub', 'xtreme', 'agent', 'connel', 'jasz', 'nathan256', 'aysz88', 'ottoman', 'kpps', 'neozoon', 'pegasus', 'dussst', 'elrith', 'd.', 'ignatzmice', 'niyant', 'askari', \"do'neil\", 'reddi', 'ravikiran', 'ringbang', 'einar', '1568', 'terryeo', 'andrewrox424', 'joelster', 'twinkler4', 'semifreddo', 'ghakko', 'cliffharris', 'unbehagen', 'shadow', 'tfine80', 'vlad', 'atlan', 'vortexrealm', 'kenosis', 'karwynn', 'duke53', 'sonic', 'warpflyght', 'blarneytherinosaur', 'jedos', 'grb1972', 'irpen', 'dickclarkmises', 'kyorosuke', 'ageo020', 'tqbf', 'daniel575', 'phenz', 'ddstretch', 'xiong', 'timichal', 'lapinmies', 'diberri', 'bless', 'lights', 'yamamoto', 'vuvar1', 'rarr', 'pravi', 'ale_jrb', 'blaxthos', 'quendus', 'hornandsoccer', 'semperf', 'askolnick', 'cygnetsaiad', 'saforrest', 'su', 'sarge', 'hannah', 'imeowbot', 'solitude', 'razorflame', 'jojit', 'teppupkcos', 'nol888', 'green451', 'autocracy', 'canuckid', 'czj', 'gaurav1146', 'nn-user', 'mikez', 'tyson', 'jmount', 'cameoappearance', \"argos'dad\", 'wikislasher', 'xihr', 'par', 'nevermind2', 'teggles', 'dudesleeper', 'chessandcookies', 'cyclone1', 'heqs', 'tabor', 'kareeser', 'puppy', 'mrdolomite', 'sumalsn', 'misou', 'andylkl', 'litany', 'norvy', 'karol', 'lesfer', 'hawkestone', 'someone', 'alabamaslamma', 'dori', 'vmv', 'rami', 'co', 'empezardesdecero123', 'finnancier', 'it4chi', 'terrancommander', 'gscshoyru', 'thekman', 'ericr', 'rhion', 'kolokol', 'spasage', 'shorne', 'prevert', 'utopianheaven', 'scaife', 'aquilina', 'warthogdemon', 'skywalker', 'efansay', 'ifnord', 'theseer', 'lollipop', 'bbwlover', 'zhatt', 'umalee', 'drk', 'cormaggio', 'future54', 'michaelgabrielsen', 'emir', 'sickdrummerkid', 'marcotolo', 'e@l', 'dfbot', 'chussid', 'harlowraman', 'surachit', 'gaylemadwin', 'doczilla', 'gretab', 'sinhala', 'colin', 'draeco', 'petr', 'ghosts', 'aestetix', 'voiceofreason', 'lax', 'shaundakulbara', 'polanco', 'jpg-gr', 'rh3nry', 'eugenezelenko', 'count', 'wikitownsvillian', 'sciandtech', 'yakudza', 'nazli', 'dihydrogen', \"serpent's\", 'abÃ¶garp', 'onthost', 'rifleman', 'sunborn', 'bluegoose', 'nemt', 'dysprosia', 'radomil', 'tim62389', 'vengeful', 'mike18xx', 'imoeng', 'cool', 'yamaka122', 'miraluka', 'p4k', 'guroadrunner', 'lulu', 'yskyflyer', 'manuprasanna', 'ghcool', 'asics', 'dj', 'zouavman', 'pmeisel', 'ciarang', 'vodkajazz', 'don', 'chris24', 'oneupthextraman', \"'sed\", 'kwame', 'legal', '-midorihana-', 'winklethorpe', 'jecowa', 'caniago', 'geometry', 'iamzodyourzodeveryzod', 'russeasby', 'froggy', 'kurieeto', 'avg', 'enviroknot', 'wikimachine', 'brya', 'mikehunt35', 'r.d.h.', 'extraordinary', 'guest9999', 'dw290', 'orgullomoore', 'michelleg', 'k.', 'aliasd', 'eskimospy', 'zayzayem', 'keitei', 'revived', 'zazou', 'gordon39', 'chavatshimshon', 'off!', 'rg2', 'joey.thompson@gmail.com', 'dual', 'dionyseus', 'erikny', 'real', 'barkjon', 'flooey', 'sverdrup', 'hadal', 'skyelarke', 'jon', 'asim', 'interesdom', 'derwig', 'boris', 'chunky', 'solar', 'alterego', 'kesac', 'redrocketboy', 'eloquence', 'splarka', 'avogadro94', 'nl-ninane', 'luckyherb', 'false', 'burgwerworldz', 'girolamo', 'lukaspietsch', 'davkal', 'yksin', 'h92', 'hemmingsen', 'georgemoney', 'xp', 'ghostpirate', 'frazzydee', 'corvus', 'bluesquadronraven', 'dovi', 'coumarin', 'sebesta', 'crossmr', 'kirper', 'sciurinÃ¦', 'rabidgavin', 'here', 'uninsured', 'drbat', 'icez', 'decumanus', 'hornplease', 'monfared', 'monty845', 'neothermic', 'bugturd', 'kavadi', 'sesshomaru', 'ladodgersangelsfan', 'moby', 'r_lee_e', 'reason', 'giftlite', 'anonmoos', 'pmlf', 'opark', 'kushan', 'snek01', 'vampwillow', 'radicalbender', 'bigdunc', 'hurricane111', 'funkyfly', 'apyule', 'bluemoonlet', 'obsidianorder', 'mymii', 'ronabop', 'heynow10029', 'claudevsq', 'ekki01', 'phoenix-wiki', 'eastlaw', 'hephaestos', 'tuf-kat', 'mdmanser', 'balancerestored', 'francisco', 'garfield', 'quatloo', 'jeffklib', 'maximusnukeage', 'folantin', 'part', 'silverhand', 'farhansher', 'andrew_pmk', 'jergen', 'mozasaur', 'tony', 'paxse', 'reflex', 'dreftymac', 'kkrouni', 'kleenupkrew', 'sbowers3', 'texture', 'testpilot', 'i.m.', 'futurenjgov', 'rhymeless', 'kamrynmatika2', 'starghost', 'kin', 'mrmacman', 'voltronforce', 'gold', 'arseni', 'grazingshipiv', 'davidwbrooks', 'samir_grover', 'odysses', 'martial', 'wezzo', 'elf', 'tembelejderha', 'olp1999', 'ivanknight69', 'dave2', 'pavel', 'madhyako', 'trevor', 'ivygohnair', 'pcb21', 'yellowdesk', 'berasategui', 'krator', 'morton_devonshire', 'bhouston', 'scottydude', '10014derek', 'primus', 'darkhorizon', 'nscheffey', 'tantalumtelluride', 'otto', 'susanlarson', 'silverside', 'ground', 'eon', 'rwr8189', 'sharkface217', 'mmcknight4', 'sartaj', 'ultraexactzz', 'maverick', 'bggoldie', 'sarcasticidealist', 'hammer1980', 'rmt2m', 'inkquill', 'edward321', 'wissahickon', 'howrealisreal', 'how', 'jord', 'consumed', 'littleteddy', 'fahrenheit451', 'tdc', 'rkevins', 'mandel', 'piroko', 'trebor', 'a2kafir', 'adamjacobmuller', 'rdf', 'nightbeast', 'i', 'llama', 'dspserpico', 'zanthalon', 'jza84', 'soulresin', 'fire', 'jmcw37', 'croatian', 'steven91', 'chairman', 'radman1', 'sean_william', 'ezhiki', 'markusrtk', 'gutworth', 'telsa', 'sound', 'cbfan', 'geedubber', 'vivaldi', 'whitstable', 'bondego', 'leonard', 'petar', 'eddideigel', 'gerald', 'jcoug', 'suriel1981', 'whispering', 'ancheta', 'doctorbruno', 'rlandmann', 'mrjingjing', 'tordek', 'chensiyuan', 'frummerthanthou', 'billc', 'mkamensek', 'arcayne', 'thewayforward', 'localzuk', 'cdamvvwgs', 'charonx', 'facethefacts', 'no31328', 'emx', 'timtrent', 'benb4', 'blu', 'zacharys', 'anas', 'burner0718', 'sseballos', 'echuck215', 'ashay', 'oldadamml', 'mrsomeone', 'michaellinnear', 'microtonal', 'bscar23625', 'lordkazan', 'genyec', 'archtrain', 'xyzzyplugh', 'stringops', 'kyle_barbour', 'that', 'quizquick', 'abdelkweli', 'agamemnon2', 'umofomia', 'moffedille', 'orange', 'senegal', 'austrian', 'hoverfish', 'marine', 'whatdaheck4444', 'rjii', 'everlast1910', 'ergot', 'zafiroblue05', 'berton', 'anonymous_anonymous', 'sushant', 'commodore', 'ruy', 'terence', 'richard', 'orthogonal', 'damsleth', 'socom49', 'tchadienne', 'ctjf83', 'tonyst', 'masterxc', 'avador', 'lou', 'muchness', 'alaric', 'benmay', 'new', 'introvert', 'ilir', 'sniperz11', 'monsieurdl', 'lord_bob', 'bobby', 'feezo', 'mattb90', 'shlomke', 'pretty', 'jimmyvanthach', 'h2o', 'desiphral', 'paiev', 'emira', 'blueamethyst', 'stefana', 'slamdiego', 'epbr123', 'tor', 'noypi380', 'supermachine', 'pladask', 't.', 'manhattanny', 'nogwa', 'dspradau', 'zippedmartin', 'farosdaughter', 's.Ã–rvarr.s', 'seanmack', 'whomp', 'ds1953', 'thewanderer', 'soxrock', 'dolive21', 'bouquet', 'deadkid', 'leonweber', 'cwood', 'pokey5945', 'magalhÃ£es', 'bungle', 'cortonin', 'graibeard', 'arnzy', 'veryverily', 'mathx314', 'sylwias', 'radio_orange', 'g-man', 'rx', 'babynuke', 'baryonic', 'wolfman', 'apantomimehorse', 'exrat', 'periklis*', 'jwrosenzweig', 'sn0wflake', 'saikiri', 'riana', 'muhamed', 'caps', 'levine2112', 'ntennis', 'gordonofcartoon', 'admiraltreydavid', 'max', 'lecour', 'dacium', 'atren', 'sarahe', 'thewinchester', 'thetruesora', 'the.griffter', 'dvortygirl', 'theone00', 'think', 'ifcar', 'regan123', 'wesley', 'mrsc', 'szquirrel', 'poy', 'stephan', 'delirium', 'niteowlneils', 'ionas68224', 'complainer', 'noroton', 'publunch', 'cornerbock', 'toddst1', 'billlion', 'june', 'kaly99', 'harland1', 'geohevy', 'random26', 'cpl.luke', 'tomnason1010', 'mathknight', 'hemlock', 'mcphail', 'elenseel', 'anonguy', 'sg', 'diluna25', 'sewing', 'ambivalenthysteria', 'amcbride', 'avb', 'luka', 'bootstoots', \"i'll\", 'randykaelber', 'david618', 'eastmain', 'mister', 'chriso', 'gnevin', 'alargeelk', 'arakunem', 'caponer', 'ibyte', 'junglecat', 'retiono', 'dunemaire', 'toffelginkgo', 'kwh', 'ertz', '172', 'bigcow', 'aillema', 'edgl', 'ciphergoth', 'ccommack', 'stromcarlson', 'colle', 'scottbeck', 'soleil', 'general', 'stammer', 'csnewton', 'impi', 'anilocra', 'steele', 'dropdeadgorgias', 'mirlen', 'dlodge', 'skywolf', 'lessheard', 'chowbok', 'torinir', 'pelzi', 'psi', 'raichu', 'sunny910910', 'erik', 'allynj', 'mikereichold', 'kelleycook', 'comedy240', 'dysepsion', 'mcginnly', 'scarbor', 'jasper33', 'skudrafan1', 'petesmiles', 'bdamokos', 'jyril', 'ssilvers', 'vintagekits', 'davidelit', 'henna', 'boltonfan22', 'weasel', 'coppertwig', 'sparkhead', 'pia', 'anecdote', 'project2501a', 'gaviidae', 'clarence', 'sarvagnya', 'twsx', 'kjs77', 'donarreiskoffer', 'logologist', 'amerique', 'deuterium', 'icudocmd', 'yossiea', 'mcfly85', 'scottyboy900q', 'radicalsubversiv', 'marcus', 'modernist', 'slippered', 'jokestress', 'araxen', 'alexfusco5', 'igor', 'darrenhusted', 'sippan', 'raffaello9', 'emc2', 'celithemis', 'kiand', 'francis', 'american', 'cluebot', 'dancter', 'mikej9919', 'hydkat', 'coricus', 'oakshade', 'mla', 'gxti', 'lovelaughterlife', 'rickyrab', 'whosyourjudas', 'tso1d', 'pedriana', 'evrik', 'khalif', 'naveenbm', 'icey', 'constantzeanu', ':45z', 'gabbec', 'jacek', 'rs2007', 'columbia', \"someoneinmyheadbutit'snotme\", 'kwekubo', 'kandal', 'cakeprophet', 'tomas417', 'imjustmatthew', 'juanmuslim', 'ddcc', 'audiovideo', 'ansell', 'arabani', 'aravind', 'orderinchaos', 'tpk', 'chickyfuzz14', 'charlottewebb', 'dtbohrer', 'gtrmp', 'bobmarlye', 'mark', 'hussainabbas', 'midgley', 'romanspinner', 'waltcip', 'wbositg', 'idude', 'staffelde', 'danielross40', 'jac16888', 'teemeah', 'partylikeahatunicorn', 'colourburst', 'ashenai', 'menchi', 'jumping', 'waerth', 'yngvarr', 'dvd', 'vpoko', 'thuglas', 'abecedare', 'peteshanosky', 'vision', 'soadluver', 'ac1983fan', 'stepanovas', 'sigo', 'daycd', 'foresth2', 'rayven', 'ricardo', 'ouro', 'fnhddzs', 'gregg', 'jebba', 'william', 'zeq', 'hcheney', 'madhev0', 'tractorkingsfan', 'scottperry', 'jackaranga', 'meile', 'hal2008', 'linzer2002', 'purple', 'goodcop', 'orangemarlin', 'asabbagh', 'morton', 'dawson', 'ronbo76', 'novelbank', 'bucephala', 'thebigpicture', 'invictahog', 'tintin1107', 'subversified', 'scott', 'm7', 'usrnme', 'eco', 'vinceb', 'susanlesch', 'reaverdrop', 'dmharvey', 'jeff503', 'johnnybgood', 'treacka', 'warpstarrider', \"rama's\", 'thesydneyknowitall', 'noon', 'rs1900', 'hal', 'aromanian', 'mitrius', 'vodomar', 'romihaitza', 'siroxo', 'alensha', 'nezzadar', 'dude42', 'sophrosune', 'pigsonthewing', 'robin', 'ceejayoz', 'saranghae', 'dieter', 'sumoeagle179', 'warrush', 'dukeegr93', 'spryde', 'linuxerist', 'fitzpatrickjm', 'ashlin', 'agne27', 'mrs.easterbunny', 'ldingley', 'pepso', 'yankees10', 'jeffrey', 'into', 'lowercase', 'smc', 'una', 'viviandarkbloom', 'rmhermen', 'caribbean', 'muriel', 'slrubenstein', 'kuzaar', 'goodshoped35110s', 'shuki', 'grwikiman', 'perfectstorm', 'avocado', 'cretanforever', 'reswobslc', 'kerathfreeman', 'paulcicero', 'coldmachine', 'od', 'buickcenturydriver', 'd-rock', 'fishboy', 'sjsharksrs', 'jrdioko', 'bharatveer', 'wot', 'nationalparks', 'cricket02', 'chrisjnelson', 'gabycs', 'shindo9hikaru', 'mr.crabby', 'mc', 'alltalking', 'neiln', 'timbentley', 'armon', 'gentgeen', 'jigs41793', 'spacebirdy', 'neofelis', 'diceman', 'naja', 'agnte', 'folic', 'richman271', 'yongblood', 'panoptical', 'vivin', 'readro', 'lankiveil', 'manderiko', 'rodsan18', 'makuro', 'etacar11', 'blue520', 'neonerd', 'tacodeposit', 'jossifresco', 'whopper', 'fordmadoxfraud', 'gulogulogulo', 'midnighttonight', 'jscott', 'rahk_ex', 'mallocks', 'cimon', 'redspruce', 'cp\\\\m', 'xiphon', 'quaque', 'sietse', 'xtreambar', 'bstone', 'sigma995', 'hotwiki', 'sting_au', 'nigelr', 'academic', 'habashia', 'sosomk', 'jbeach56', 'malc82', 'smokizzy', 'fthepostingquota', 'jonny-mt', 'zanorath', 'night', 'luckylittlegrasshopper', 'van', 'counter-revolutionary', 'albertcahalan', 'o11', 'fredwall', 'kahuroa', 'xrblsnggt', 'prasi90', 'hildanknight', 'zoe', 'hirak', 'mccready', 'ganryuu', 'chris.lester', 'arwel_parry', '578', 'thunderboltz', 'tanya', 'rajeshpandey', 'bungle44', 'aranae', 'kramden4700', 'ipstenu', 'dara', 'denizz', 'wizardry', 'zaxem', 'squalla', 'tasc', 'robny', 'luckylouie', 'dreamguy', 'minfo', 'pfctdayelise', 'abu-fool', 'henry', 'orthologist', 'stormz', 'jayhenry', 'yankeefan2006', 'dcmacnut', 'dgrimshaw', 'relhistbuff', 'master', 'davis160', 'jengod', 'jeff', 'yodakii', 'arthur', 'icelandic', 'oge', 'qmunke', 'eagle', 'jerrch', 'hohohob', 'hetar', 'jack', 'thedagomar', 'christopher', 'ichbinbored', 'someguy0830', 'eoghanacht', 'sarsaparilla', \"it's-is-not-a-genitive\", 'infrogmation', 'paulvif', 'rbarreira', 'jigglz2003', 'mwl', 'oni', 'cunado19', 'eaomatrix', 'anirudhsbh', 'lukejon1995', 'waqas.usman', 'danthaman17', 'dust', 'gcbirzan', 'caltas', 'andrew73', 'blackkrash', 'pparazorback', 'gamer28', 'xy7', 'rick', 'vsion', 'morven', 'ninaodell', 'dervish', 'shaunmacpherson', 'missmarple', 'redcountess', 'kungming2', 'darkspots', 'secisek', 'szopen', 'col_tom', 'rock09', 'french', 'excaliburo', 'dreaded', 'fredrick', 'mintguy', 'weniwidiwiki', 'pasonia', 'maunus', 'hypersushi21', 'caligvla', 'jmason888', 'salix', 'dr.khan', 'redzebra', 'acegikmo1', 'jÃ³n', 'jacob1207', 'loz:', 'turcottem', 'owenblacker', 'harrycane', 'fuelwagon', 'somestranger', 'l33tminion', 'editwriter2300', 'zserghei', 'ereinion', 'freestyle.king', 'nineteenninetyfour', 'euthymios', 'wjhonson', 'pinkville', 'definition12', 'enkil', 'd.brodale', 'ambroodey', 'ganymead', 'iago', 'lordkinbote', 'gavia', 'gandoman', 'chuck', 'delarge', 'gchriss', 'lexicon', 'hornetmike', 'gazwim', 'amphytrite', 'emmelie', 'elaragirl(awb)', 'marmot', 'supasoldier', 'itamar', 'johan', 'galactor213', 'lan3y', 'spike_wilbury', 'cleduc', '33451', 'zantastik', 'jtmichcock', 'huldra', 'orngjce223', 'knowpedia', 'ukrained', 'zacbowling', 'luigizanasi', 'starryeyes', 'salmon_fish', 'shinealight2007', 'umdrums', 'sophysduckling', 'cma', 'iterator12n', 'arielglenn', 'dschwen', 'dungodung', 'seicer', 'lquilter', 'mostssa', 'sunstar', 'voyevoda', 'y0u', 'moneyballing', 'eagleeyes', 'viajero', 'quartermaster', 'chicocvenancio', 'monkeesage', 'froggydarb', 'slavik', 'kuban', 'edwin', 'matilda', 'alan.ca', 'roisterer', 'cephyr', 'certified.gangsta', 'docboat', 'aqu01rius', 'djlayton4', 'ashdog137', 'lucasbunchi', 'ucucha', 'rray', 'bltpdx', 'awesome', 'amatulic', 'genghizrat', 'improfane', 'ilp', 'textorus', 'ya', 'ne2', 'miljoshi', 'pageantupdater', 'mostly', 'disneyfreak96', 'kaiser', 'hattusili', 'elbridgegerry', 'uthbrian', 'maestrosync', 'dbratton', 'jacqui', 'abeo', \"sabine's\", 'carla', 'jcarriker', 'nickj', 'xenoneon', 'ziggurat', 'celardore', 'ultramarine', 'scottw', 'timecop', 'avala', 'schneelocke', 'creationlaw', 's.dedalus', 'lowellian', 'baldhur', 'messhermit', 'alibabs', 'apolloboy', 'noisy', 'beelzebubs', \"hirohisat's\", 'mom2jandk', 'paroxysm', 'maayanh', 'floria', 'rumiton', 'giovanni33', 'sjones23', 'bsayusd', 'igman', 'dannycas', 'adnghiem501', 'them62manchester', 'microtony', 'gphoto', 'joesmack', 'mikm', 'amir85', 'fantasy', 'lalaitshannah', 'shimmin', \"aren't\", 'benjamin', 'friedmilk', 'persian', 'cunya', 'dbtfz', 'afs', 'pogogunner', 'jmh123', 'edwy', 'canderous0', 'outriggr', 'mbc362', 'michaelbeckham', 'eeprom', 'nymphadoratonks', 'borgarde', 'smthmanly', 'conti', 'isentropiclift', 'dennycolt', 'jademaniac', 'dig', 'mystytopia', 'davidpdx', 'pyrospirit', 'rebroad', 'sengkang', 'skyemoor', 'rmhed', 'myrtone86', 'eluchil', 'stayinanon', 'jiang', 'shultz', 'irmgard', 'nileena', 'carmen', 'liveste', 'domthedude001', 'defender', 'jimbo_wales', 'fangz', 'slipknot222', 'mrlob', 'vizjim', \"blake's\", 'chalst', 'eternal', 'r._koot', 'liempt', 'kjetil', 'theblueflamingo', 'vyzasatya', 'alr', 'pcassidy', 'rbj', 'skyraider', 'psy', 'libertyville', 'pierremenard', '4kinnel', 'cuddlyable3', 'astronaut', 'cjcurrie', 'bigdottawa', 'jsin', 'xevious', 'someguy1221', 'lambiam', 'monkeyman', 'markussep', 'willmak050389', 'severa', 'isopropyl', 'galloglass', 'jag123', 'zifnabxar', 'realkyhick', 'save', 'akendall', 'wyv', 'andris', 'canadianshoper', 'craigkbryant', 'dekkappai', 'badgerpatrol', 'billdeancarter', 'donama', 'furon', 'orfen', 'vbd', 'zmmz', 'thegrappler', 'serge', 'moe', 'coasttocoast', 'tennis', 'saksham', 'grand', 'e.', 'mathmo', 'jwillbur', 'bedivere', 'chcknwnm', 'cbing01', 'lzur', 'bjÃ¶rn', 'sjc', 'uppland', 'mholland', 'gary', 'altosax456', 'yuckfoo', 'fabricationary', 'abf', 'effk', 'mcr616', 'falphin', 'jontsang', 'kommondant', 'bobbybuilder', 'horatio', 'gareth', 'aatomic1', 'eduard', 'shaericell', 'arrowhead1', 'dr', 'lysy', 'plop', 'mike1024', 'mihnea', 'covington', 'splintax', 'resurgent', 'professor', 'jnk', 'thunderwing', 'wallie', 'caster23', 'bfigura', 'baku87', 'shard', 'den', 'leehunter', 'eddie', 'vald', 'bignate37', 'estherrice', 'grider', 'wesleydodds', 'scotchmb', 'atlantis', 'segv11', 'merkinsmum', 'poli', 'rewtguy', 'huntersquid', 'foenyx', 'dbinder', 'hahnchen', 'accounting4taste', 'conman', 'justforasecond', 'oberiko', 'keb25', 'pdd', 'mkdw', 'rxkaffee', 'wooty', 'mainemainer', 'ptr', 'metros', 'hadÅ¾ija', 'andrew4010', 'sturat', 'gzornenplatz', 'gregnorc', 'crypticbacon', 'cardamon', 's1', 'isarig', 'isomorphic', 'grandmaster', 'elian', 'neurophyre', 'lmc169', 'marlith', 'dcunitedfan2011', 'cbm', 'daadshead', \"don'tblockme\", 'demicx', 'jayjg', 'harpchad', 'bogman2', 'paukrus', 'ossified', 'mav', 'le', 'confuzion', 'albatross2147', 'crew29', 'luci', 'acela', 'angryparsley', 'olando', 'labelledamesansmerci', 'mahanga', 'heights', 'jifish', 'wally', 'black', 'nascar', 'awyong_jeffrey_mordecai_salleh', 'backsigns', 'naval', 'ireland101', 'gsingh', 'evolver', 'type', 'thegreenfaerae', 'eli', 'sisodia', 'humanthing', 'axon', 'simply', 'montenegro', 'besigedb', 'deus', 'finell', 'stilgar135', 'dinosaur', 'nate1481', 'gruntiida', 'grahamec', 'bowsy', 'munta', 'wn', 'novasource', 'jwjw', 'viva', 'wryspy', 'picaroon', 'greatscott!', 'castellanet', 'theotherbob', 'kudret', 'kÃ©krÅ\\x8dps', 'tearlach', 'mister.manticore', 'hpnadig', 'gandalfxviv', 'manojlo', 'elfguy', 'georgestepanek', 'f.o.e.', 'kennedygr', 'god_of_war', 'ewlyahoocom', 'commander', 'nephron', 'phoebe', 'sethmahoney', 'paolo', 'masterpiece2000', 'stubbleboy', 'muÃ©ro', 'snuffles72', 'malcolmgin', 'chancemill', 'mannafredo', 'android', 'thirteen', 'mgreenbe', 'cvene64', 'ipsos', 'darkest', 'dark', 'randomp', 'hughcharlesparker', 'spawn', 'nahum', 'dgx', 'nn123645', 'arejay', 'beneaththelandslide', 'gretnagod', 'heidijane', 'trapolator', 'henchman', 'o.b.', 'fares', 'ghirlandajo', 'seal', 'chrisdhdr', 'zerida', 'tasoskessaris', 'dhaifley', 'jamessugrono', 'mike', 'qyd', 'merzbow', 'lustead', 'gareon', 'ccool2ax', 'johnbod', 'deryck', 'barneyboo', 'tmh', 'jellypuzzle', 'rkstaylor', 'tronglewagon', 'rambutan', 'sxeptomaniac', 'crazynas', 'lesnail', 'nimbat230', 'ahoerstemeier', 'moon', 'markbeer', 'yeshivish', 'shadowhntr', 'xcali', 'rodzilla', 'mitsos', 'confuciusornis', 'deepak', 'future', 'astrowob', 'ford', 'assimoff', 'seans', 'reo', 'cheesehead', 'n96', 'thincat', 'switchercat', 'mrmoocow', 'fred.e', 'lima', 'alnokta', 'jedrothwell', 'wikigull', 'turgidson', 'jake', 'pollinator', 'allan', 'jogloran', 'axg', 'p.b.', 'mrt50', 'clockworksoul', '~k', 'yaksha', 'wobble', 'Ð’asil', 'locke', 'prsgoddess187', 'kmorozov', 'geneviÃ¨ve', 'tim.bounceback', 'miskwito', 'moeron', 'digwuren', 'explorercdt', 'kakofonous', 'edin', 'francs2000', 'liface', 'miltopia', 'bear', 'brendanfox', 'cleonis', 'pfhlai', 'tizio', 'stephanie', 'samorchard', 'almog', 'digitalninja', 'mozzerati', 'youreyesonly', 'normaneinstein', 'tannin', 'sarah', 'voltron', 'ekantik', 'arthurweasley', 'callipides', 'seattle', 'attishoculus', 'dalillama', 'astroview120mm', 'lisathurston', 'bobby1011', 'political', 'truthcrusader', 'twooars', 'kim', 'sannse', 'ydam', 'honza', 'morhange', 'davidlevinson', 'causesobad', 'elaragirl', 'calton', 'treebark', 'archon', 'johnleemk', 'maximus', 'p.k.niyogi', 'avril', 'nsr77', 'saltmarsh', 'ugur', 'marks', 'vendettax', 'hillock65', 'julius', 'vk35', 'nzd', 'boven', 'bulldog123', 'trevdna', 'fyslee', 'zouf', 'thedreamdied', 'hgb', 'hiteshrajbhagat', 'bubba', 'lethargy', 'digby', 'deadbot', 'johnfos', 'harism', 'daveh4h', 'phaunt', 'stormscape', 'sam', 'phantoms', 'celain', 'el', 'mindman1', 'dado', 'shirimasen', 'havelock', 'philip', 'hajor', 'apwoolrich', 'patricka', 'andrewgnf', 'link9er', 'lockeownzj00', 'spinn', 'stefan', 'cyan', 'gimmiet', 'herschelkrustofsky', 'warren', 'dethme0w', 'simonkoldyk', 'sycthos', 'chiwara', 'allstarecho', 'rasillon', 'hut', 'derktar', 'casualfighter', 'bridgeplayer', 'romanpoet', 'coolfox', 'jebenson', 'vay', 'gidonb', 'komdori', 'j.j.sagnella', 'minun', 'cassowary', 'dilip', 'masterhatch', 'wellmann', 'murgh', 'ashley', 'nobleeagle', 'gk', 'erikster', 'justin', 'ehheh', 'tnfiddler', 'azathar', 'witty', 'antoniomartin', 'rhetoricalwater', 'karmosin', 'dr.poison', 'sirex98', 'scarian', 'cascadia', 'avatar-en', 'fneep', 'tasco', 'diba', 'mwanner', 'iantresman', 'xoddam', 'roninbk', 'lucifermorgan', 'sagaciousuk', 'endroit', 'derek', 'spui', 'bryang', 'quasyboy', 'ashapochka', 'mdchachi', 'shushruth', 'shotwell', 'bacbka', 'gilbertosilvafan', 'yilloslime', 'trey', 'congolese', 'runewiki777', 'birgittesb', 'maralia', '*spark*', 'mus', 'wikipedier', 'wyss', 'yidisheryid', 'spasemunki', 'chergles', 'tilman', 'mishauli', '9cds', 'timotab', 'mattisse', 'robert', 'omtay38', 'subwayguy', 'projectoxide', 'outerlimits', 'dolpins', 'st.isaac', 'nev1', 'celcius', 'dakpowers', 'ramir', 'kazakhpol', 'frise', 'snillet', 'al', 'scm83x', 'l1am', 'thezodiac2', 'balcer', 'jack1956', 'nahid', 'indiver', 'sweet', 'nobs01', 'rufus', 'carpet9', 'mrprada911', 'nigelj', 'Ð‚Ð¾Ñ€Ñ’Ðµ', 'willow177', 'jeeny', 'huaiwei', 'kyle', 'globeism', 'laughing', 'simonides', 'mindraker', 'lisasmall', 'nethgirb', 'nyc', 'cranberry', 'toffile', 'cryptfiend64', 'suntiger', 'felisleo', 'willy,', 'pentawing', 'reene', 'flesh-n-bone', 'hpfan9374', 'thekey', 'cmouse', 'ems2', 'ltwinters', 'mrholybrain', 'jareand', 'oysterguitarist', 'aaron', 'danelo', 'abhinandan', 'earth', 'choess', 'vkokielov', 'knowing', 'anser', 'dorange', 'salsb', 'kevin', \"isola'd\", 'z.e.r.o.', 'jitse', 'eugene', 'singularity', 'onunicorn', 'davidjk', 'tragic', 'phase1', 'mjg0503', 'sbharris', 'sasa', 'sugaar', 'obradovic', 'benjiboi', 'leshkuq', 'dittaeva', 'pasboudin', 'jco312', 'violingirl', 'von', 'moondyne', 'zahakiel', 'derumi', 'travb', 'slivester', 'norseodin', 'zaui', 'meelar', 'raul654', 'tarawneh', 'ryan_delaney', 'vltavahf', 'vadder', 'larry', 'good', 'alm', 'pablothegreat85', 'almost', 'pundit', 'auger', 'al-qairawani', 'leifern', 'rockstar915', 'bethling', 'eye', 'grace', 'simonfairfax', 'gravitan', 'borb', 'r613vlu', 'gateman1997', 'skinwalker', 'bruce1ee', 'mir', 's', 'martinre', 'blood', 'evan', 'jfreeman', 'gdk411', 'nawsum526', 'yamara', 'pedropvz', 'color', 'xiaopo', 'imageboy1', 'fennec', 'benne', 'squiddy', 'was', 'panda', 'argyriou', 'behmod', \"can't\", 'germen', 'keefer4', 'tswsl1989', 'gilgamesh', 'flyer22', 'mishatx', 'bagel7', 'iriseyes', 'ricdod', 'bobblehead', 'stbalbach', 'user27091', 'arknascar44', 'southern', 'doctorw', 'antidote', 'elipongo', 'acetic', 'nomader', 'aatuapina', 'sp3000', 'murphiaman', 'ride', 'dinojerm', 'squirepants101', 'nikodemos', 'uncke', 'natalie', 'wardhog', 'inkypaws', '(.y.)', 'steiger', 'daisuke-matsuzaka', 'kribbeh', 'hipocrite', 'fredil', 'pveankman', 'revolving', 'atsakiris', 'politics', 'folic_acid', 'turbinator', 'chammy', 'theronj', 'bazookajoe', 'dlyons493', 'bibigon', 'male1979', 'gavin', 'bcat', 'and-rew', 'heartofadog', 'gt', 'probert', 'm', \"i'm\", 'arnon', 'nat91', 'spazure', 'orlady', 'p.wormer', 'pxma', 'tgenieyi', 'clt13', 'rachelbrown', 'vanm', 'btm', 'curt', 'jakiÅ¡a', 'cylonhunter', 'all', 'jheald', 'folksong', 'metallic95', 'some', 'cwire4', 'walter_humala', 'recurring', 'Ã†var', 'eivind_f_Ãyangen', 'manif', 'kel-nage', 'englishrose', 'hillman', 'lindentree', 'kyo', 'spartiate', 'krystyn', 'thesaddestday', 'latish', 'opes', 'gardener', 'dragomiloff', 'cfif', 'ruennsheng', 'tdwin476', 'kpalion', 'dure', 'fedayee', 'vectorposse', \"ali'i\", 'mereda', 'mystery', '.v.', 'exploding', 'clonedeath', 'chosen', 'matia.gr', 'blow', 'sergeant', 'jakken', '71demon', 'greengopher', 'scobell302', 'veyklevar', 'oven', 'b', 'frs', 'lenticel', 'jeanenawhitney', 'harvzsf', 'dojarca', 'avriette', 'dave', 'cowcam', 'electricray', 'trackertv', 'jsc83', 'arbustoo', 'flyingtoaster1337', 'student7', 'pÃ¡draic', 'cyp', 'people', 'mathmartin', 'culverin', 'tlim7882', 'lucille', 'rebecca', 'mona23653', 'mirandargh', 'orizon', 'kpavery', 'murcielago', 'infophile', 'dbm11085', 'king', 'heptor', 'netscott', 'hkt', 'skynet', 'jniemenmaa', 'morgan695', 'firespike', 'natkeeran', 'wme', 'kashk', 'jonharder', 'dorftrottel', 'cube', 'kahriman', 'arielgold', 'cyrius', 'walton77', 'greier', 'orbitone', 'grasslandt', 'markus', 'tisthammerw', 'theranger', 'rednblu', 'utsrelativity', 'nunh-huh', 'rodii', 'nevica', 'rackabello', 'a.', 'vlatkoto', 'thelatedentarthurdent', 'philosophus', 'jmabel', 'username132', 'smee', 'dr.gonzo', 'beit', 'cswrye', 'rb972', 'olei', 'papa', 'pill-', 'jahangard', 'hemanshu', 'cicero', 'peace', 'tummellil', 'excirial', 'alpta', 'drn8', 'stefano', 'jackrm', 'aivazovsky', 'masterjamie', 'novacatz', 'samboy', 'smit', 'palnu', 'wpktsfs', 'xtv', 'hikingdom', 'monor', 'sandygeorgia', 'tede', 'kyla', 'jbkramer', 'drunkenmonkey', 'archola', 'goldflower', 'big', 'bluegoblin7', 'sj', 'krich', 'akaf', 'baristarim', 'pencefn', 'wile', 'wikileon', 'hort', 'fullstop', 'minaretdk', 'karim', 'eleland', 'randy', 'abeg92', 'rossnixon', 'wossi', 'sgeureka', 'mitchberg', 'kashwialariski', 'gofg', 'dryman', 'islami', 'thehelpfulone', 'extreme', 'scoo', 'yom', 'writerfromafar755', 'eliade', 'thomas_goldammer', 'kamikaze', 'bidabadi', 'clayoquot', 'voice', 'carbonlifeform', 'jjjsixsix', 'aknorals', 'comic', 'pinball22', 'serinde', 'cacophony', 'medtopic', 'jonaswarding', 'netesq', 'porcupine', 'comrade', 'macrusgail', 'deenoe', 'demonweed', 'claygate', 'ssteedman', 'hjuk', 'gvorl', 'arndisdunja', 'johnlp', 'benaveling', 'editor88', 'vilcxjo', 'spm', 'visorstuff', 'patken4', 'pgreenfinch', 'prodigy130', 'mike5193', 'ioannes', 'jbolden1517', 'phronima', 'pinky49', 'cribananda', 'jtrainor', 'goddess', 'bwithh', 'thejerm', 'omegawikipedia', 'greglocock', 'jezebel', 'euryalus', 'rudjek', 'igortrieste', 'afusco', 'james', 'absar', 'icerinkprincess', 'thesparton', 'smbarnzy', 'hansnesse', 'paul', 'ping', 'live', 'atlantic', 'tgies', 'blueman102', 'riffsyphon1024', 'kalan', 'flex', 'gustuv', 'gentlemanghost', 'jacklee', 'karl', 'suit-n-tie', 'dralwik', 'aaa!', 'olve', 'kevinwong913', 'yao', 'qp10qp', 'caglarkoca', 'freshgavin', 'sweetiepetie', 'klanda', 'oneliner', 'airodyssey', 'geoffrey', 'scohoust', 'silverback', 'hotr', 'marriedtofilm', 'hakozen', 'blankverse', 'dereks1x', 'umedard', 'fallstorm', 'ckatz', 'teketime', 'mceder', 'acupofcoffee', 'freelancewizard', 'shinjiman', 'martijn', 'generaliroh', 'sunray', 'gnetwerker', 'tml', 'flehmen', 'unfocused', 'ealdgyth', 'bec-thorn-berry', 'mno', 'arhugefan', 'golden_wattle', 'buford2004', 'kierano', 'brewcrewer', 'harikishore', 'r.', 'tdevries', 'whereizben', 'pjm', 'joanofanarchy', 'moosh88', 'necrowarrio0', 'londoneye', 'kaganer', 'x', 'nzgabriel', 'plinoifax', 'skoppensboer', 'wizrdwarts', 'scheinwerfermann', 'aphrael', 'davidcannon', 'bahn', 'crazyinsane', 'callelinea', 'ejf', 'ackoz', 'njyoder', 'information', 'taemyr', 'tristan_uchiha', 'rickk', 'kittenklub', 'spinach', 'ruud', 'antoinou2958', 'milomedes', 'dwaipayanc', 'flowersofnight', 'limegreen', 'equendil', 'nebular110', 'high', 'donhalcon', 'pudeo', 'col', 'theblog', 'gr8er', 'lentower', 'kusunose', 'sparkit', 'buckeye80', 'teryx', 'nixer', 'novo-rei', 'belovedfreak', 'starionwolf', 'bladestorm', 'evenprime', 'harrisonb', 'str1977', 'accurizer', 'ballista', 'polotet', 'adam', 'matthead', 'wine', 'curranh', 'blue', 'stewartadcock', 'jareha', 'touch', 'terraventura', 'mbisanz', 'harald_hansen', 'thorsten1', 'son', 'iridescence', 'peripitus', 'vpopescu', 'gubbubu', 'zachsmind', 'allefant', 'adamsan', 'draicone', 'g-dett', 'folken', 'kurykh', 'jet', 'rjaguar3', 'rfbailey', 'maximaximax', 'meni', 'apoc2400', '198', 'ryoutou', 'aldebaer', 'shenzhou', 'shutterbug', 'republitarian', 'yelsent', 'uthersrg', 'anomo', 'sopoforic', 'malikcarr', 'kaori', 'doogie2k', 'eclecticology', 'p0lyglut', 'coemgenus', 'austin', 'cautious', 'canjth', 'timidguy', 'brimba', 'revoluciÃ³n', 'merovingian', 'ds2434', 'ryu', 'filmcom', 'pseudosudo', 'ao', 'quicksandish', 'meldshal42', 'pureblade', 'roo72', 'alecmconroy', 'golden', 'ai', 'paine', 'jacj', 'sean', 'domer48', 'antelan', 'chiacomo', \"ra'ike\", 'psumark2006', 'saltyboatr', 'blackjack48', 'mbk004', 'prince', 'afonso', 'webdinger', 'tim', 'chasingsol', 'kaihsu', 'soxred93', 'cumulus', 'calgary', 'chondrite', 'thogo', 'denisrs', 'vsimonian', 'piccolonamek', 'd', 'richardf', 'lipsticked', 'javacava', 'karatelady', 'vitaly', 'aeÃ¦', 'lkinkade', 'iamthejabberwock', 'matchups', 'amcfreely', 'halfofelement29', 'grcampbell', 'ayatollah', 'matt', 'werdan7', 'ytny', 'windfish', 'clarkbhm', 'angelbo', 'indon', 'chick', 'dirak', 'pma', 'peregrine', 'tankred', 'bass', 'juicifer', 'bertilvidet', 'elephantus', 'fr33kman', 'greenjoe', 'myrtone', 'zero1328', 'cjewell', 'avruch', 'canuckman', 'throwawayhack', 'saberwyn', 'badanedwa', 'kedi', 'lincher', 'randfan', 'johnnyalbert10', 'ann', 'josiah', 'ham', 'barryob', 'miss', 'weighted', 'prashanthns', 'lingeron', 'sheffieldsteel', 'newmanbe', 'valmi', 'flockmeal', 'dozenist', 'prestonmcconkie', 'wimvandorst', 'quadzilla99', 'richard0612', 'oden', 'zerorules677', 'skittle', 'swik78', 'deepblue06', 'fadix', 'tutmosis', 'biofoundationsoflanguage', 'shmitra', 'filnik', 'bcnviajero', 'sushigeek', 'stco23', 'sirkad', 'joe', 'jnc', 'crumbsucker', 'howee', 'ripberger', 'olivier', 'mahewa', 'gzkn', 'missinglinks', 'quiddity', 'ramdrake', 'zer0faults', 'dominick', 'cantus', 'jjay', 'pomte', 'littleolive', 'legolost', 'saluyot', 'martin-c', 'social', 'bearly541', 'firestorm', 'johann', 'tammams', 'orphic', 'daniel5127', 'kablammo', 'gargaj', 'jk', 'oleg', 'isis4563', 'loui', 'klonimus', 'cjk', 'nadavspi', 'sophitus', 'nycmstar', 'solumeiras', 'muldrake', 'wiki', 'hokeman', 'hinotori', 'shallot', 'viriditas', 'u', 'jerkcity', 'crockspot', 'tiggerjay', 'andrewh', 'gene', 'amir1', 'avalon', 'albinomonkey', 'hit', 'darkfox123', 'dradin', 'sxt40', 'watchdogb', 'alexr', 'madyasiwi', 'venomousninja', 'seglea', 'tomlillis', 'trampled', 'marktheprices', 'kingjeff', 'ceoil', 'jtrh', 'chill', 'samir', 'yamaguchiå…ˆç”Ÿ', 'meersan', 'jguk_2', 'smmurphy', 'ww', 'lyellin', 'jacklumber', 'snow', 'priyanath', 'che', 'pete.hurd', 'aeuio', 'corpx', 'jjjjust', 'ryan', 'juan', 'maclean25', 'deeceevoice', 'martinphi', 'margana', 'skinnyweed', 'economicsguy', 'tbc2', 'karanacs', 'sansculotte', 'nuggetboy', 'tinlinkin', 'subversive', 'lucpol', 'condem', 'ethereal', 'threeafterthree', 'bryson109', 'kusonaga', 'samuel', 'neochaosx', 'musaabdulrashid', 'eleemosynary', 'pippu', 'tompw', 'exxolon', 'sakotgrimshine', 'virtual', 'grafikm_fr', 'elliskev', 'groovedog', 'zordrac', 'thunderhead1', 'xhysa', 'demosdemon', 'silensor', 'merorffjs', 'sarz', 'rise', 'kevinalewis', 'andrew', 'carrp', 'joy', 'rhb', 'dissident', 'dheyward', 'fishpaste', 'simesa', 'humain-comme', 'srose', 'cyrus', 'stanzegel', 'notafish', 'trooperz', 'until(1', 'rat', 'macropode', 'duncanhill', 'gangleri', '068152', 'tombseye', 'gonzo_fan2007', 'rocksanddirt', 'badseed', 'anittas', 'untifler', 'ste4k', 'cream147', 'davidcbryant', 'cqj', 'pomegranite', 'two-sixteen', 'ijzeren', 'edboy002', 'dureo', 'cygnis', 'flamingspinach', 'humus', 'djorgensen', 'ineffable3000', 'kotepho', 'miskin', 'gcfreak2', 'benplowman', 'tparameter', 'denis', 'artaxiad', 'etz', 'avillia', 'wiggy!', 'bcorr', 'shimmera', 'fabrib', 'whstchy', 'megamix', 'phgao', 'annalisa_ventola', 'momento', 'jd2718', 'professional', 'sephiroth', 'haham', 'sewilco', 'angelofsadness', 'rajab', 'psychonaut', 'javmilos', 'thumbelina', 'dragon695', 'biggspowd', 'atari2600tim', 'hoovernj', 'wedian', 'douglasmtaylor', 'atilimgunesbaydin', 'ilmari', 'daduzi', 'loren36', 'bakasuprman', 'frankzappo', 'dineshkannambadi', 'citizen', 'cltfn', 'raymond', 'countincr', 'raghu.kuttan', 'ekn', 'keeper76', 'minderbinder', 'alx-pl', 'javit', 'prince06', 'tuckdogg', 'aabha', 'aiden', 'a', 'rpired', 'guÃ°sÃ¾egn', 'casmith_789', 'eagleamn', 'romanm', 'bluemask', 'rajithmohan', 'anonimu', 'groundzero', 'limeheadnyc', 'dpeterson', 'crazytalespublic', 'truthseeker', 'watchingyoulikeahawk', 'gleng', 'walton', 'feedthepigeons', 'nixwisser', 'mrzaius', 'jcam', 'optigan13', 'swirlix', 'agapetos', 'gordonjcp', 'oggleboppiter', 'ernestistheman', 'boojiboy', 'finishedwithschool', 'amren', 'cj', 'ding', 'jeffpw', 'tubular', 'zeibura', 'izzy259', 'pecher', 'merzul', 'oldakquill', 'the', 'gimboid13', 'ryan57', 'qmwne235', 'phr', 'avineshjose', 'franktobia', 'newport', 'tgr', 'horologium', 'perceval', 'dragons', 'caf3623', 'yoshiah', 'supergeo', 'kubura', 'stabiloboss', 'hagerman', 'aaaaa', 'jononeill', 'mr.', 'punk', 'inkbottle', 'arf!', 'roadmr', 'primate', 'jaksmata', 'pekaje', '!!', 'grog304', 'implificator', 'agp', 'zanimum', 'rentastrawberry', 'misterhand', 'node', 'james26', 'jayden54', 'suva', 'wl219', 'fsotrain09', 'obiterdicta', 'trolleybus', 'aristovoul0s', 'slash', 'georgian', 'uncle', 'hossen27', 'isolani', 'josie', 'aquasplash', 'rattleman', 'thanatosimii', 'snowolfd4', 'alan', 'soulkeeper', 'daniel.bryant', 'bucky', 'fethers', 'majoreditor', 'skybum', 'writerlistener', 'joebeone', 'ccwaters', 'arthurrh', 'chrisbradley', 'bramlet', 'lovemonkey', 'heywool', 'kaaveh', 'dankeshet', 'funpika', 'sors', 'joevanisland', 'palmiro', 'zerbey', 'hobbeslover', 'wikibout', 'becksguy', 'adm58', 'just', 'duke', 'splot', 'abtract', 'kokota', 'friejose', 'ld', 'andyfinkenstadt', 'mail2amitabha', 'dr.', 'synkobiety', 'my', 'eivind', 'marco', 'kp', 'dhowell', 'zetawoof', 'pitchka', 'rock2e', 'megapixie', 'tulkolahten', 'uapatriot', 'tothebarricades.tk', 'uberisaac', 'tommyboy1334', 'thorri', 'prester', 'monedula', 'streamwater', 'rodw', 'drboggs', 'ebyabe', 'ninasmite', 'jiy', 'agha', 'tohru', 'tom', 'malleus', 'unschool', 'dep.', 'goldkingtut5', 'tuomas', 'illyria05', 'cerealkiller13', 'cireland', 'nancy', 'helenkmarks', 'pvenegas', 'mabm', 'sarekofvulcan', 'weird', 'tukan', 'actinide', 'lizardwizard', 'mcstcisco', 'disavian', 'gaff', 'homejames', 'qborg', 'academia', 'albedo', 'bachrach44', 'judaspolice', 'roosa', 'knm', 'pejman47', 'sandydancer', 'malfidus', 'jbamb', 'iamunknown', 'bonafide.hustla', 'erechtheus', 'kf4bdy', 'kaibabsquirrel', 'metta', 'linas', 'spook`', 'edtropolis', 'khendon', 'sp', '-ril-', 'shaunes', 'theoldanarchist', 'dougie', 'aeon1006', 'seth', 'impumozhi', 'publife', 'captain', 'kewp', 'unforgettableid', 'priis', 'gsl', 'zen-master', 'geocachernemesis', 'alansohn', 'mstcrow', 'de', 'bsharvy', 'silversmith', 'davidcary', 'lamenta3', 'constantine', 'andrei', 'stormie', 'davidpk212', 'rich', 'bobo', 'wazaaaa', 'zs', 'zello', 'marsden', 'ling.nut', 'canuckguy', 'vulcanstar6', 'geo', 'seav', 'go', 'usgnus', 'keakealani', 'sesameball', 'duinemerwen', 'stupid2', 'masterbobo', 'brandmeister', 'dixiepixie', 'mareino', 'mysidia', 'ysangkok', 'jggardiner', 'teh', 'jboyle4eva', 'reedy', 'ta', 'sonicad', 'bm', 'sango125', 'mÃ¡rio', 'jgp', 'mastereagle', 'anchoress', 'jaspencer', 'nauticashades', 'drhydeous', 'cmapm', 'ardric47', 'andreaswashington', 'deb', 'uber', 'stevemccluskey', 'jessica', 'pikachu9000', 'twenty', 'crisu', 'memty', 'rodhullandemu', 'southerncomfort', 'pv7721', 'brownman40', 'dharmabum420', 'eatalbertabeef', 'iain99', 'crotalus', 'pgio', 'greswik', 'birdmessenger', 'aucaman', 'wegianwarrior', 'polonium', 'satusuro', 'jimfbleak', 'soapy', 'cjll', 'bradeos', 'wikipedia', 'dante', 'mallarme', 'mitb', 'tbeatty', 'tms63112', 'drogo', 'lucid', 'deipnosophista', 'kheider', 'victoria', 'ich', 'dave101', 'dderby', 'q', 'sgrayban', 'baryonyx', 'brookshawn', 'gadykozma', 'neofreak', 'ichormosquito', 'mariusm', 'trsj', 'cao', 'cnyborg', 'primetime', 'nmchico24', 'jra', 'rcm', 'gogo', 'bloodofox', 'shortjason', 'gego', 'deanhinnen', 'luis1972', 'socratesjedi', 'seventy', 'xiutwel', 'wesleypinkham', 'myciconia', 'luffy487', 'appleseed', 'zachary', 'atabek', 'f9t', 'leprechaun99', 'iced', 'drboisclair', 'zeerus', 'warofdreams', 'mattwright', 'microfeet', 'alanyst', 'dcoetzee', 't-rex', 'ruhrjung', 'cheesedreams', 'keithd', 'santhoshguru', 'mikex', 'dragonrouge', 'lupo', 'zimzalabim', 'keepscases', 'martin', 'jute', 'brokenfrog', 'inksplotch', 'jfdwolff', 'keepsleeping', 'skomorokh', 'baegis', 'aleta', 'metb82', 'ollieplatt', 'adz', 'monsterofthelake', 'xebat', 'keesiewonder', 'ugenbot', 'dangerous-boy', 'squidsk', 'bwfc', 'wp', 'warriorscribe', 'rosicrucian', 'hpjoker', 'ludahai', 'lifefeed', 'tjc', 'captainj', 'ralhazzaa', 'giano', 'atm', 'paddym', 'uvouvo', 'haiduc', 'davidhozau', 'cunninglinguist', 'dmighton', 'electriceye', 'advanced', 'randella', 'street', 'a1octopus', '23skidoo', 'kasreyn', 'dbroadwell', 'gol', 'wisden17', 'verrucktedan', 'interestingstuffadder', '*drew', 'womble', 'magnus', 'bashmentboy', 'glen', 'jtdirl', 'wslack', 'gpyoung', 'ar', 'khatru2', 'abaddon314159', 'mrwhich', 'dhanak', 'jachin', 'hydnjo', 'cheeser1', 'dennymeta', 'leif', 'thugchildz', 'edinborgarstefan', 'lethaniol', 'private', 'tropicality', '.snoopy.', 'calwatch', 'jtrost', 'sethie', 'geneb1955', 'ed-it', 'jarlaxleartemis', 'a.garnet', 'seivad', 'reywas92', 'ahwaz', 'redwolf', 'kimon', 'chicagopimp', 'dcabrilo', 'rootology', 'editmaniac', 'super', 'hyperbole', 'stevenzenith', 'pevarnj', 'm.k', 'nahallac', 'irishpunktom', 'chris', 'raffaelloo9', 'hanoi', 'yoninah', 'carboncopy', 'aksi', 'space', 'shyamsunder', 'obroy', 'skaz', 'garglebutt', 'parsifal', 'chan', 'qviri', 'pouponontoast', 'andries', 'shii', 'bjewiki', 'user:tree', 'zero', 'yuber', 'ensredshirt', 'nealparr', 'blankfaze', 'syss', 'matthuxtable', 'mel', 'richard_d._lecour', 'badbilltucker', 'i%27ll_bring_the_food', 'esteffect', 'zero0000', 'walkerma', 'white', 'blinking', 'biophys', 'onco', 'cberlet', 'euphoria', 'brownlee', 'astrotrain', 'kelly', 'jpeob', 'ghostbusters', 'bishzilla', 'chelman', 'secretlondon', 'spevw', 'wingsandsword', 'bazzajf', 'editor', 'fineday', 'rapanui', 'viridian', 'jnavas', '24ip', 'makalp', 'calum', 'atropos', 'habap', 'dmz5', 'dycedarg', 'elkevbo', 'moshe', 'krm500', 'sweetcarmen', 'jrr', 'arfan', 'leibniz', 'cdthieme', 'pr4ever', 'dominus', 'dadude3320', 'suit', 'haveaquestion', 'utafa', 'drizzt_jamo', 'alethiophile', 'shalezero', 'ssbohio', 'maltmomma', 'melforbes', 'tds', 'springeragh', 'gutterball1219', 'wik', 'frenchman113', 'jstewart', 'hojimachong', 'katalaveno', 'daniel11', 'kundan', 'robster2001', '82', 't', 'macmad', 'deiaemeth', 'wearingsunglasses', 'dtm142', 'tewfik', 'atomic', 'lakhim', 'gtstricky', 'yankee', 'syrcro', 'molerat', 'weatherman90', 'mig11', 'hairchrm', 'oreos', 'import007', 'ng.j', 'sean_whitton', 'arcfrk', 'terrybader', 'ck', 'beginskaj', 'jerzy', 'acorn98', 'spike', 'tijuana', 'c.', 'parishan', 'taprobanus', 'schwalbe', 'dimension31', 'complex', 'brianwalker', 'lesleyw', 'kensho', 'hesperian', 'mawfive', 'watp', 'seanmcg', 'grumpygrumpy', 'xyzzy_n', 'pharaoh', 'yummifruitbat', 'rainbowswirl', 'jsherman256', '{{{user', 'urdna', 'keyyek', 'roamataa', 'mentifisto', 'musical', 'anonymous', 'justinpwilsonadvocate', 'bush', 'mystÃ¬c', 'one', 'mikeage', 'ciraric', 'ahonc', 'force10', 'hizkiah', 'bluevalour', 'chris.b', 'editman9000', 'nolamgm', 'sonicchao', 'acs4b', 'khm03', 'lego3400', 'kieff', 'gia.cossa', 'no', 'aminz', 'm7it', 'cumbrowski', 'mmx1', 'sneftel', 'cat', 'haza-w', 'scorpion0422', 'izak', 'chazbeckett', 'werdnabot', 'yahel', 'icewedge', 'nrcprm2026', 'ned', 'cindery', 'tubezone', 'aquillion', 'tufflaw', 'eyemd', 'buyamountain', 'hosedeck', 'kookykman', 'mistress', 'marcus2', 'jamesite', 'conce', 'poindexter', 'xdenizen', 'wikipediarul', 'plek', 'projex', 'ericg', 'reperire', 'heather', 'danieltiger45', 'delta', 'yodo', 'west', 'theinfinityzero', 'khashayar', 'jenny', 'armedblowfish', 'akamad', 'epthorn', 'is', 'orannis', 'fooladin', 'goldensun', 'lovecoconuts', 'spiceman', 'fireduck', 'jaberwocky6669', 'fbd', 'ryguy', 'pdh', 'fellowwikipedian', 'eronmain', 'falsedef', 'sunderland06', 'crowstar', 'smuuv', 'olorin28', 'badger', 'lord_eru', 'cadorna', 'hectorian', 'thechief', 'edjohnston', 'credofromstart', 'tazangel', 'bl', 'jishacj', 'adijapan', 'ww2censor', 'thatdog', 'k37', 'mrfixter', 'colchicum', 'netkinetic', 'krugs', 'nicodemus75', 'zeraeph', 'tabootikigod', 'cribcage', 'sir_lewk', 'kk', 'vague', 'passw0rd', 'khorshid', 'sergeantbolt', 'gadig', 'dan', 'kamrynmatika', 'groggy', 'pak21', 'metsfan76', 'number', 'fnmf', 'rernst', 'ian', 'buffadren', 'vilerage', 'bignole', 'megaman', 'novalis', 'wetman', 'aboutmovies', 'hamster', 'mardavich', 'frelke', 'doom127', 'data8504', 'merecat', 'panonian', 'ktc', 'jenmoa', 'ds.mt', 'sd31415', 'sophia', 'sandahl', 'altruism', 'ericthered', 'aitias', 'espresso', 'antaeus', 'catherinemunro', 'gabrielf', 'singopo', 'boÅ¾e', 'llywrch', 'vickystreater', 'kewpid', 'howardberry', 'spobmur', 'isimsizzorbebe', 'cprompt', 'nadav1', 'ctwikipedier', 'barely', 'kijog', 'flowerpotman', 'nonsuch', 'ellisjm', 'mpd01605', 'renesis', 'meshach', 'fabartus', 'bad', 'casmith', 'manopingo', 'havok', 'wbardwin', 'father', 'arkon', 'fnagaton', 'get-back-world-respect', 'jackyr', 'francogg', 'abscissa', 'longbow4u', 'yury', 'fireplace', 'gray62', 'frontline', 'robomaeyhem', 'joyous!', 'rferreira', 'jespinos', 'patman2648', 'cs42', 'bsmntbombdood', 'randomorca2', 'raystorm', 'sa.vakilian', 'thankyoubaby', 'monobi', 'cailil', 'red', 'zleitzen', 'ndcompugeek', 'andriyk', 'skully', 'rye1967', 'lordrm', 'omicronpersei8', 'holdenhurst', 'dalziel', 'theeditrix2', 's.', 'ryan4314', 'locriani', 'cleared', 'reuvenk', 'opentoppedbus', 'szumyk', 'newnoise', 'themindset', 'ksmrq', 'padraig', 'tsu', 'andrewjd', 'keegan', 'noren', 'goninzo', 'kleinzach', 'master_son', 'drunkensmurf', 'water', 'hermesbot', 'deiv007', 'gen.', 'salazar', 'shelfskewed', 'metros235', 'gronky', 'kendrick7', 'fisenko', 'bmdavll', 'arrigo', 'poetic', 'skapur', 'tippt', 'ramitmahajan', 'justanother', 'alias', 'quitacetconsentiret', 'lordharris', 'sharpdust', 'hbow3', 'bryan', 'user6854', 'vic', 'bigglove', 'marcsin', 'danlina', 'bletch', 'phoenix741', 'bearcat', 'sambc', 'thesocialistesq', 'arichnad', 'agriculture', 'slideshow', 'wistless', 'caribdigita', 'jam01', 'tiddly', 'action', 'lostvalley', 'jodyw1', 'light', 'apers0n', 'rayis', 'opabinia', 'finetooth', 'spectatrix', 'hahaimbored', 'sue', 'tarquin', 'amoruso', 'newsjunkie', 'j.steinbock', 'sr', 'pdeitiker', 'mnemeson', 'urshyam', 'l337', 'benapgar', 'chrislintott', 'lbbzman', 'agoodperson', 'ubercryxic', 'eclectek', 'poulsen', 'mutebutton', 'stirling_newberry', 'davidshankbone', 'vanky', '(:julien:)', 'htonl', 'fabexplosive', 'lahiru_k', 'gaillimh', 'paul_pigman', 'crocogator', 'matttm', 'nubknacker', 'woody', 'verdlanco', 'larryq', 'mrfirewall', 'rentaferret', 'batman2005', 'fluit', 'felixboy', 'alcidebava', 'astrokey44', 'loganberry', 'pgwg', 'columbuscrew29', 'davenbelle', 'matt57', 'lunar', 'wikidsmaht', 'jefffire', 'eddedmondson', 'ps2pcgamer', 'rjensen', 'stlemur', 'plumcouch', 'st.daniel', 'rk', 'ceha', 'keilana', \"r'son-w\", 'fpahl', 'rad', 'flamurai', 'tigranthegreat', 'ram-man', '23prootie', 'thuresson', 'bkonrad', 'goplat', 'u.s.a.u.s.a.u.s.a.', 'juppiter', 'sideshow', 'holderca1', 'jimregan', 'diego', 'estebanf', 'webhamster', 'jovanvb', 'rjm656s', 'evanx', 'yankeesrj12', 'boxero', 'tvoz', 'dario', 'c', 'hanuman', 'phg', 'eyeserene', 'effeietsanders', 'exir', 'axskov', 'wknight8111', 'james.spudeman', 'haber', 'pilatus', 'philipo', 'lawlore', 'bigtimepeace', 'chrisieboy', 'telex', 'storkk', 'stude62', 'garcilaso', 'nesher', 'yzak', 'p.haney', 'tekleni', 'komunysta', 'lycaon', 'lion', 'ferrylodge', 'xolatron', 'drl', 'matrix', 'hollyam', 'bjrobinson', 'cduck2', 'cirt', 'alexwcovington', 'dman727', 'oncamera', 'abu', 'mhking', 'piedras', 'rossami', 'diablo-d3', 'mastrchf91', 'arwel', 'pumpmeup', 'arunram', 'istvan', 'mido', 'splette', 'mpolo', 'ars', 'stollery', 'wegge', 'kangie', 'erwin', 'iamtheeggman', 'omni', 'kate', 'trnj2000', 'shadyaftrmathgunit', 'fair', 'mystar', 'riserobotrise', 'ayinyud', 'fys', 'jewbacca', 'icewolf34', 'pmeleski', 'goatasaur', 'eupator', 'hoodedman', 'ajm81', 'polaris999', 'wilfried', 'lestatdelioncourt', 'danntm', 'mbecker', 'linkofazeroth', 'mjal', 'twisted', 'fernando', 'waris', 'clyde', 'warlordjohncarter', 'osidge', 'dukeofduchessstreet', 'ed', 'polarwolf', 'quagmiredog', 'yamakiri', 'spahbod', 'mkmcconn', 'dreddnott', 'shelburne', 'chardish', 'dariusk', 'sefringle', 'dcsohl', '12', 'schmuckythecat', 'kosebamse', 'lossisnotmore', 'mmeinhart', 'mbimmler', 'guapovia', 'dlae', 'dclxvi', 'saltypig', 'wsiegmund', 'zoz', 'angela', 'knightlago', 'sunholm', 'sluzzelin', 'helloannyong', 'stillstudying', 'anthere', 'vacuum', 'siobhanhansa', 'marcin', 'idorunet', 'thedjatclubrock', 'dissolve', 'asperal', 'windturbine', 'leon', 'xandrewx', 'quadell', 'augustz', 'krellis', 'derex', 'shamir1', 'killing', 'doric', 'jorcoga', 'y', \"l'aquatique\", 'strothra', 'charlie', 'theresa', 'justen', 'kalogeropoulos', 'martinp', 'mexcellent', 'mikkalai', 'bmaganti', 'deli', 'jeendan', 'ilyanep', 'pheonix15', 'mrtea', 'hresearcher', 'zaheer89', 'zachlipton', 'phoenix', 'kerotan', 'nohat', 'earl', 'chodorkovskiy', 'centurion', 'animum', 'kbh3rd', 'cronholm144', 'kyaa', 'hnsampat', 'lemonflash', 'mms', 'stirling', 'xenocide321', 'npeters22', 'mscuthbert', 'lady', 'snakes', 'czolgolz', 'laveol', 'lawrence', \"d'n\", 'looper5920', 'gray', 'caliga10', 'nousernamesleft', 'sganeshkumar', 'sasha', 'deiryassin', 'xor24', 'david.monniaux', 'tuxide', 'rockfan1', 'anietor', 'krisroe', 'drbug', 'djegan', 'aeusoes1', 'benjamintsai', 'maxim', 'doctor', 'aegis', 'milo', 'kefalonia', 'ddima', 'ifaqeer', 'michael', 'valley2city', 'supten', 'gordyb', 'mendel', 'eusebeus', 'colincbn', 'danblackham', 'politis', 'asyndeton', 'thricecube', 'rfd', 'pvara', 'whimemsz', 'jsarek', 'christiaan', 'averykrouse', 'ejrrjs', 'lordvid', 'pwqn', 'va', 'nina-no', 'btball', 'milan', 'sethdoe92', 'rangerdude', 'funky', 'hosterweis', 'znode', 'asteraki', 'lordnasher', 'dtobias', 'jpbrenna', 'expensivehat', 'cxi', 'tevildo', 'palffy', 'jim', 'adamcobb', 'filll', 'arch', 'omniplex', 'ckjy', 'akut', 'd-bot', 'philx', 'shell_kinney', 'mario', 'mr', 'volatile', 'junes', 'alanbarrett', 'nick123', 'cdogsimmons', 'factitious', 'xtra', 'knucmo2', 'daniil', 'david', 'pmc', 'fortunecookie289', 'denni', 'bezking', 'purples', 'gerardm', '-slash-', 'mmounties', 'justinhall', 'awyong', 'maser', 'addyboy', 'bhaisaab', 'encephalonseven', 'lambdoid', 'timothy', 'madd4max', 'nealirc', 's!', 'littleoldme', 'reinoutr', 'nuge', 'exlibris', 'eurowikij', 'jamiejones', 'kittybrewster', 'dogears', 'ptse', 'gothnic', 'intersofia', 'crested', 'smiley77', 'ybbor', 'bsveen', 'kafuffle', 'tsca', 'insanephantom', 'p3net', 'codemonk', 'klemen', 'brianjd', 'baseballmes', 'pal', 'darkoneko', 'tree', 'williamthweatt', 'pan', '-asx-', 'earle', 'geoffspear', 'tnarg_12345', 'mglcm', 'law', 'doc', 'valentinian', 'doright', 'bmg916', 'cielomobile', 'vice', 'ryanfreisling', 'eric', 'sarg', 'stangbat', 'rrburke', 'pavlvsrex', 'poloyoe', 'efg', 'canderous', 'user', 'alynna_kasmira', 'alcemÃ¡e', 'johnhistory', 'search4lancer', 'quarterz', 'firstprinciples', 'speciate', 'fluzwup', 'brendj', 'bobdoe', 'seraphim', 'shinmawa', 'epousesquecido', 'astrohurricane001', 'thequandry', 'zephyr2k', 'daryou', 'banzai777', 'dg', 'toxic', 'chrisd87', 'tinkleheimer', 'neil916', 'crispy1989', 'finlay', 'pÃ¡draic_macuidhir', 'johnson542', 'tonyballioni', 'sparr', 'wikipedical', 'guy', 'lomn', 'aranherunar', 'pi', 'the_ed17', 'fysidiko', 'blindeagle', 'db099221', 'bridesmill', 'lmcelhiney', 'hanumandas', 'swinger222', 'nielswik', 'osu8907', 'm3tal', 'mira', 'fang', 'batmanand', 'bedford', 'flailing', 'harry491', 'pgunn', 'j.', 'apclark', 'drunken', 'bbx', 'hlj', 'wdanwatts', 'crestville', 'g3', 'rustavo', 'nicklew', 'donnedwards', 'skeezix1000', 'jdforrester', 'jimbo', 'lol', '32x', 'stevecov', 'roderick', 'globegores', 'osu80', 'c-randles', 'mukadderat', 'aspects', 'luis', 'sakis79', 'loverofbirds', 'nd0', 'thatguy96', 'bob', 'taggard', 'ante', 'jim62sch', 'gbenemy', 'ramblinwreck90', 'simul8', 'robludwig', 'domitius', 'ghostieguide', 'jauerback', 'krash', 'neuropedia', 'shakespearefan00', 'nathanrdotcom', 'dr_debug', 'pusher', 'nunquam', 'sca', 'evanwohrman', 'alexanderwinston', 'njaard', 'saoshyant', 'arce', 'zaian', 'poorleno', 'candice', 'avenue', 'lonelybeacon', 'porqin', 'capitalr', 'gmatsuda', 'kober', 'besu', 'legcircus', 'ardo191', 'jhmm13', 'aris', 'mattley', 'croat', 'bielle', 'soren9580', 'trey56', 'sdedeo', 'arichperson', 'polaron', 'adamsmithee', 'gnanapiti', 'konstablesock', 'preschooler.at.heart', 'seeaxid', 'anger22', 'lenberisha', 'monicasdude', 'vizcarra', 'c.logan', 'italiavivi', 'lord', 'pktm', 'hidrnick', 'caesura', 'mcy', 'bballoakie', 'badagnani', 'sir', 'tezeti', 'daverocks', 'msgj', 'haabet', 'a._exeunt', 'kderrida', 'hernie', 'werideatdusk33', 'cjrs', 'morwen', 'arvindn', 'el_hombre_de_haha', 'mikker', 'porge', 'grim_revenant', 'grÃ¶n', 'charlie_huggard', 'malinaccier', 'secret', 'lisatwo', 'natusroma', 'estel', 'krashlandon', 'charles', 'lazy', 'toytoy', 'bang!', 'cyp43r', 'dakshayani', 'honcharov', 'mgiganteus1', 'mailer', 'gwern', 'indigogenius', 'nopuzzlestranger', 'jason', 'kojidude', 'willoww', 'rebskii', 'stevenfruitsmaak', 'descendall', 'knewman', 'jcornelius', 'qaanaaq', 'twrigley', 'mrfizyx', 'bugtrio', 'crux', 'attic', 'filiocht', 'lordmontu', 'kertrats', 'f-m-t', 'sonjaaa', 'steelviper', 'zivko85', 'trident13', 'spamwatcher', '.:ajvol:.', 'vslashg', 'slowking', 'ravedave', 'tjday', 'blueshirts', 'oberst', 'kateshortforbob', 'randalschwartz', '17drew', 'newsmare', 'bjweeks', 'the_neokid', 'pirish', 'pakaran', 'joseph', 'zeldatime', 'nil', 'millosh', 'cecropia', 'pir', 'peaceman', 'ariedartin', 'vadakkan', 'mrvacbob', 'bjÃ¶rn-isak', 'kingturtle', 'javatenor', 'armadillofromhell', 'sorna', 'ronreed', 'al2tb', '999', 'w.', 'davidmendoza', 'aaronbrick', 'government07', 'zmaj', 'kfc1864', 'kyoko', 'rathne', 'mantanmoreland', 'quentin_x', 'ideogram', 'mustafa_akalp', 'sgt', 'dorismith', 'jamesontai', 'ciarabeth', 'brusegadi', 'bigman17', 'explicitimplicity', 'heraclius', 'thedaveross', 'onceonthisisland', 'lanky', 'devalt', 'juntung', 'katr67', 'zamkudi', 'onnaghar', 'axelboldt', 'dh993', 'twas', 'armeisen', 'bonaparte', 'danieldemaret', 'rrjanbiah', 'dahn', 'waggishmab', 'nathan', 'vulturell', 'rayfield', 'deliciously', 'samtheboy', 'mperel', 'baby', 'buickid', 'after', 'c-m', 'vladaig', 'cyopardi', 'mykreeve', 'lwf', 'edivorce', 'feddhicks', 'alastor', 'fnlayson', 'smeelgova', 'peteforsyth', 'axl', 'dottoreso', 'veledan', 'dincher', 'jfingers88', 'josh', 'atanamir', 'doug', 'stillnotelf', 'premeditated', 'nv8200p', 'jamason', 'adraeus', 'fasach', 'avnative', 'pioneer-12', 'rlest', 'bookandcoffee', 'madman2001', 'pookeymaster', 'dpbsmith', 'downunda', 'diomidis', 'julian', 'alisonw', 'knowledge', 'dbraceyrules', 'skenmy', 'patsw'))"
      ]
     },
     "execution_count": 94,
     "metadata": {},
     "output_type": "execute_result"
    }
   ],
   "source": [
    "B.nodes()"
   ]
  },
  {
   "cell_type": "code",
   "execution_count": null,
   "id": "c9e2339d",
   "metadata": {},
   "outputs": [],
   "source": []
  }
 ],
 "metadata": {
  "kernelspec": {
   "display_name": "Python 3 (ipykernel)",
   "language": "python",
   "name": "python3"
  },
  "language_info": {
   "codemirror_mode": {
    "name": "ipython",
    "version": 3
   },
   "file_extension": ".py",
   "mimetype": "text/x-python",
   "name": "python",
   "nbconvert_exporter": "python",
   "pygments_lexer": "ipython3",
   "version": "3.7.13"
  }
 },
 "nbformat": 4,
 "nbformat_minor": 5
}
