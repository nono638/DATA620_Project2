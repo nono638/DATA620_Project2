{
 "cells": [
  {
   "cell_type": "markdown",
   "id": "69aba4c8",
   "metadata": {},
   "source": [
    "# Project 2"
   ]
  },
  {
   "cell_type": "markdown",
   "id": "953faeb6",
   "metadata": {},
   "source": [
    "### Prompt:\n",
    " Identify a large 2-node network dataset—you can start with a dataset in a repository.  Your data should meet the criteria that it consists of ties between and not within two (or more) distinct groups.\n",
    "    Reduce the size of the network using a method such as the island method described in chapter 4 of social network analysis.\n",
    "    What can you infer about each of the distinct groups?\n",
    "\n",
    "You may work in a small group on the project.\n",
    "\n",
    "Your code and analysis should be delivered in an IPython Notebook by end of day Sunday. "
   ]
  },
  {
   "cell_type": "markdown",
   "id": "b242b803",
   "metadata": {},
   "source": [
    "### Data"
   ]
  },
  {
   "cell_type": "markdown",
   "id": "10b9ed91",
   "metadata": {},
   "source": [
    "https://snap.stanford.edu/data/wiki-Elec.html"
   ]
  },
  {
   "cell_type": "markdown",
   "id": "cdfa76ad",
   "metadata": {},
   "source": [
    "### Libraries"
   ]
  },
  {
   "cell_type": "code",
   "execution_count": 79,
   "id": "0c1e88e5",
   "metadata": {},
   "outputs": [],
   "source": [
    "import pandas as pd\n",
    "import os\n",
    "import io\n",
    "import networkx as nx\n",
    "import re\n",
    "\n",
    "importedScipy = False\n",
    "try:    \n",
    "    import scipy\n",
    "    importedScipy = True\n",
    "except:\n",
    "    pass\n",
    "try:    \n",
    "    import nltk\n",
    "except:\n",
    "    pass"
   ]
  },
  {
   "cell_type": "code",
   "execution_count": 80,
   "id": "a34435c3",
   "metadata": {},
   "outputs": [
    {
     "name": "stdout",
     "output_type": "stream",
     "text": [
      "Pandas Version 1.3.5\n",
      "Newtworkx Version 2.6.3\n",
      "scipy wasn't imported.\n",
      "NLTK Version 3.7\n"
     ]
    }
   ],
   "source": [
    "print (\"Pandas Version {}\".format(pd.__version__))\n",
    "print (\"Newtworkx Version {}\".format(nx.__version__))\n",
    "if (importedScipy):\n",
    "    print (\"scipy Version {}\".format(scipy.__version__))\n",
    "else:\n",
    "    print(\"scipy wasn't imported.\")\n",
    "print(\"NLTK Version {}\".format(nltk.__version__))"
   ]
  },
  {
   "cell_type": "markdown",
   "id": "9e1efdaf",
   "metadata": {},
   "source": [
    "### Read in Data"
   ]
  },
  {
   "cell_type": "code",
   "execution_count": 81,
   "id": "954c1e40",
   "metadata": {},
   "outputs": [],
   "source": [
    "#The filename may have to be renamed with the .txt extention.  That has to be done manually.\n",
    "#This was only the case on one of my machines for some reason??\n",
    "filename = \"wikiElec.ElecBs3.txt\""
   ]
  },
  {
   "cell_type": "code",
   "execution_count": 82,
   "id": "696c6148",
   "metadata": {},
   "outputs": [],
   "source": [
    "#This method works for a portion of the file but not the entire file, there's some encoding issue.\n",
    "\n",
    "#file = io.open(filename, mode=\"r\", encoding=\"utf-8\")\n",
    "#print(file.read(5555))"
   ]
  },
  {
   "cell_type": "code",
   "execution_count": 83,
   "id": "c1b487d6",
   "metadata": {},
   "outputs": [],
   "source": [
    "with open(filename, 'rb') as f:\n",
    "  data = f.read()"
   ]
  },
  {
   "cell_type": "code",
   "execution_count": 84,
   "id": "369bf2b7",
   "metadata": {},
   "outputs": [],
   "source": [
    "data = str(data)"
   ]
  },
  {
   "cell_type": "code",
   "execution_count": 85,
   "id": "6c02180e",
   "metadata": {},
   "outputs": [],
   "source": [
    "#data[:500]"
   ]
  },
  {
   "cell_type": "code",
   "execution_count": 86,
   "id": "07813a42",
   "metadata": {},
   "outputs": [
    {
     "data": {
      "text/plain": [
       "392"
      ]
     },
     "execution_count": 86,
     "metadata": {},
     "output_type": "execute_result"
    }
   ],
   "source": [
    "#start of data. before character 392 is an explanation\n",
    "str(data).find(\"E\\\\t1\")"
   ]
  },
  {
   "cell_type": "code",
   "execution_count": 87,
   "id": "b2eb5e34",
   "metadata": {},
   "outputs": [],
   "source": [
    "dataDocs = data[:391]"
   ]
  },
  {
   "cell_type": "code",
   "execution_count": 88,
   "id": "523431bf",
   "metadata": {},
   "outputs": [
    {
     "data": {
      "text/plain": [
       "'b\"# Wikipedia elections (http://cs.stanford.edu/people/jure/pubs/triads-chi10.pdf). Data format:\\\\r\\\\n#   E: is election succesful (1) or not (0)\\\\r\\\\n#   T: time election was closed\\\\r\\\\n#   U: user id (and username) of editor that is being considered for promotion\\\\r\\\\n#   N: user id (and username) of the nominator\\\\r\\\\n#   V: <vote(1:support, 0:neutral, -1:oppose)> <user_id> <time> <username>\\\\r\\\\'"
      ]
     },
     "execution_count": 88,
     "metadata": {},
     "output_type": "execute_result"
    }
   ],
   "source": [
    "#dataDocs can be called to see the data explanation that came from the file\n",
    "dataDocs"
   ]
  },
  {
   "cell_type": "code",
   "execution_count": 89,
   "id": "37d6ccc5",
   "metadata": {},
   "outputs": [],
   "source": [
    "#remove the explanation from the data\n",
    "data = data[392:]"
   ]
  },
  {
   "cell_type": "markdown",
   "id": "aed3c07f",
   "metadata": {},
   "source": [
    "#### make a class to store the data"
   ]
  },
  {
   "cell_type": "code",
   "execution_count": 90,
   "id": "f0ea3674",
   "metadata": {},
   "outputs": [],
   "source": [
    "#TODO, might make work easier later.  For now, making seprate lists to combine into DF\n",
    "class election:\n",
    "    def __init__(self,outcome):\n",
    "        if( (type(outcome)==int) & (outcome >=0) & (outcome <=1)):\n",
    "            self.outcome=outcome\n",
    "        else:\n",
    "            print('invalid election outcome, {}'.format(str(outcome)))\n",
    "            self.outcome= \"-\""
   ]
  },
  {
   "cell_type": "markdown",
   "id": "22319c82",
   "metadata": {},
   "source": [
    "### Parse Data"
   ]
  },
  {
   "cell_type": "code",
   "execution_count": 91,
   "id": "8e8f63a5",
   "metadata": {},
   "outputs": [],
   "source": [
    "electionsText = []"
   ]
  },
  {
   "cell_type": "code",
   "execution_count": 92,
   "id": "bb72e40e",
   "metadata": {},
   "outputs": [
    {
     "data": {
      "text/plain": [
       "5314884"
      ]
     },
     "execution_count": 92,
     "metadata": {},
     "output_type": "execute_result"
    }
   ],
   "source": [
    "len(data)"
   ]
  },
  {
   "cell_type": "code",
   "execution_count": 93,
   "id": "8728a50f",
   "metadata": {},
   "outputs": [],
   "source": [
    "#this loop maekes each election a seprate element of a list by finding each \"E\"\n",
    "# \"E\" means new elections (see dataDocs a few cells above)\n",
    "election = \"\"\n",
    "for i in range(len(data)):\n",
    "    if (data[i] == \"E\"):\n",
    "        if(data[i+1]==(\"\\\\\")):\n",
    "            if(data[i+2]==\"t\"):\n",
    "                electionsText.append(election)\n",
    "                election=str(data[i])\n",
    "    else:\n",
    "        election = election +data[i]"
   ]
  },
  {
   "cell_type": "code",
   "execution_count": 94,
   "id": "4c5ec646",
   "metadata": {},
   "outputs": [
    {
     "data": {
      "text/plain": [
       "2794"
      ]
     },
     "execution_count": 94,
     "metadata": {},
     "output_type": "execute_result"
    }
   ],
   "source": [
    "len(electionsText)"
   ]
  },
  {
   "cell_type": "code",
   "execution_count": 95,
   "id": "06066869",
   "metadata": {},
   "outputs": [],
   "source": [
    "#remove first blank entry due to loop\n",
    "electionsText = electionsText[1:]"
   ]
  },
  {
   "cell_type": "code",
   "execution_count": 96,
   "id": "194e1238",
   "metadata": {},
   "outputs": [
    {
     "data": {
      "text/plain": [
       "2793"
      ]
     },
     "execution_count": 96,
     "metadata": {},
     "output_type": "execute_result"
    }
   ],
   "source": [
    "len(electionsText)\n",
    "#there were 2793 elections"
   ]
  },
  {
   "cell_type": "code",
   "execution_count": 97,
   "id": "d07404ca",
   "metadata": {},
   "outputs": [
    {
     "name": "stdout",
     "output_type": "stream",
     "text": [
      "E\\t1\\r\\nT\\t2004-09-21 01:15:53\\r\\nU\\t30\\tcjcurrie\\r\\nN\\t32\\tandyl\\r\\nV\\t1\\t3\\t2004-09-14 16:26:00\\tludraman\\r\\nV\\t-1\\t25\\t2004-09-14 16:53:00\\tblankfaze\\r\\nV\\t1\\t4\\t2004-09-14 17:08:00\\tgzornenplatz\\r\\nV\\t1\\t5\\t2004-09-14 17:37:00\\torthogonal\\r\\nV\\t1\\t6\\t2004-09-14 19:28:00\\tandrevan\\r\\nV\\t1\\t7\\t2004-09-14 19:37:00\\ttexture\\r\\nV\\t1\\t8\\t2004-09-14 21:04:00\\tlst27\\r\\nV\\t1\\t9\\t2004-09-14 21:30:00\\tmirv\\r\\nV\\t1\\t10\\t2004-09-14 22:13:00\\tan\\xc3\\xa1rion\\r\\nV\\t0\\t26\\t2004-09-14 22:18:00\\tgrunt\\r\\nV\\t0\\t27\\t2004-09-15 03:19:00\\tslowking\\r\\nV\\t0\\t28\\t2004-09-15 03:20:00\\tneutrality\\r\\nV\\t1\\t11\\t2004-09-15 04:28:00\\tmerovingian\\r\\nV\\t1\\t12\\t2004-09-15 06:56:00\\twile\\r\\nV\\t1\\t13\\t2004-09-15 09:19:00\\tsjc\\r\\nV\\t1\\t14\\t2004-09-15 12:20:00\\t172\\r\\nV\\t0\\t29\\t2004-09-16 00:58:00\\tugen64\\r\\nV\\t1\\t15\\t2004-09-16 14:50:00\\tdanny\\r\\nV\\t1\\t16\\t2004-09-16 15:31:00\\tsimonp\\r\\nV\\t1\\t17\\t2004-09-17 13:49:00\\tjwrosenzweig\\r\\nV\\t1\\t18\\t2004-09-17 20:57:00\\tadam\\r\\nV\\t1\\t19\\t2004-09-17 22:11:00\\tffirehorse\\r\\nV\\t1\\t20\\t2004-09-18 00:02:00\\tmichael\\r\\nV\\t1\\t21\\t2004-09-18 01:06:00\\trhymeless\\r\\nV\\t1\\t22\\t2004-09-20 05:36:00\\tbearcat\\r\\nV\\t1\\t23\\t2004-09-20 14:28:00\\tcryptoderk\\r\\nV\\t1\\t24\\t2004-09-20 22:20:00\\tjayjg\\r\\n\\r\\n\n"
     ]
    }
   ],
   "source": [
    "#Each element of this list is a mess and the data needs to be parsed out.\n",
    "print(electionsText[0])"
   ]
  },
  {
   "cell_type": "code",
   "execution_count": 98,
   "id": "146a047e",
   "metadata": {},
   "outputs": [],
   "source": [
    "#The third char is the outcome result.  \n",
    "#So this list is a list of all the election outcomes.  Election outcomes might eventually be\n",
    "#a node attribute. \n",
    "electionOutcomes =[]\n",
    "for i in electionsText:\n",
    "    electionOutcomes.append(i[3])"
   ]
  },
  {
   "cell_type": "code",
   "execution_count": 99,
   "id": "e594e964",
   "metadata": {},
   "outputs": [
    {
     "data": {
      "text/plain": [
       "2793"
      ]
     },
     "execution_count": 99,
     "metadata": {},
     "output_type": "execute_result"
    }
   ],
   "source": [
    "len(electionOutcomes)\n",
    "#same length as data texts"
   ]
  },
  {
   "cell_type": "code",
   "execution_count": 100,
   "id": "8ab81fc5",
   "metadata": {},
   "outputs": [
    {
     "data": {
      "text/plain": [
       "['1', '1', '1', '1', '1', '0', '1', '0', '0', '0', '1', '0', '1', '0', '1']"
      ]
     },
     "execution_count": 100,
     "metadata": {},
     "output_type": "execute_result"
    }
   ],
   "source": [
    "electionOutcomes[:15]\n",
    "#works"
   ]
  },
  {
   "cell_type": "code",
   "execution_count": null,
   "id": "3a8966b1",
   "metadata": {},
   "outputs": [],
   "source": []
  },
  {
   "cell_type": "code",
   "execution_count": 101,
   "id": "4cfc5acf",
   "metadata": {},
   "outputs": [
    {
     "data": {
      "text/plain": [
       "'U\\\\t465\\\\tmoink\\\\r\\\\n'"
      ]
     },
     "execution_count": 101,
     "metadata": {},
     "output_type": "execute_result"
    }
   ],
   "source": [
    "electionsText[3].find(\"U\")\n",
    "\n",
    "beingVotedOnRaw[1233]\n",
    "#The above loop worked to get raw text like this one."
   ]
  },
  {
   "cell_type": "code",
   "execution_count": 102,
   "id": "a3cec5ea",
   "metadata": {},
   "outputs": [],
   "source": [
    "#beingVotedOnRaw is the raw text of who was voted on in the elction.  There's also a user ID \n",
    "#number in the text.  Either the name or the text could be the node \"name\" / identifier\n",
    "#for a given election. \n",
    "beingVotedOnRaw =[]\n",
    "for i in electionsText:\n",
    "    beingVotedOnRaw.append(i[i.find(\"U\"):i.find(\"N\")])\n",
    "#This find the text between U and N which, from the Docs, is the username and ID num up\n",
    "#for election."
   ]
  },
  {
   "cell_type": "code",
   "execution_count": 103,
   "id": "c9aae979",
   "metadata": {},
   "outputs": [],
   "source": [
    "beingVotedOn = [] #Node names, ie. \"who's up for election\"\n",
    "\n",
    "#re.split(\"\\d+\",beingVotedOnRaw[1233]) #This line splits the raw text to get what \n",
    "#comes after the number, so you can just find the name"
   ]
  },
  {
   "cell_type": "code",
   "execution_count": 104,
   "id": "1e759331",
   "metadata": {},
   "outputs": [],
   "source": [
    "#The following code is one parsing job of the user id,\n",
    "#which happens in a loop in the next cell.  You can uncomment it for testing.\n",
    "\n",
    "#match2 = re.search(\"[a-z]+\",re.split(\"\\d+\",beingVotedOnRaw[1233])[1])\n",
    "#match2.span()\n",
    "#re.split(\"\\d+\",beingVotedOnRaw[0])[1])[match2.span()[1]]\n",
    "#re.split(\"\\d+\",beingVotedOnRaw[1233])[1][match2.span()[0]:match2.span()[1]][1:]"
   ]
  },
  {
   "cell_type": "code",
   "execution_count": 105,
   "id": "b94ddec5",
   "metadata": {},
   "outputs": [],
   "source": [
    "for i in range(len(electionsText)):\n",
    "    match2 = re.search(\"[a-z]+\",re.split(\"\\d+\",beingVotedOnRaw[i])[1])\n",
    "    beingVotedOn.\\\n",
    "    append(\n",
    "        re.split(\"\\d+\",beingVotedOnRaw[i])[1][match2.span()[0]:match2.span()[1]][1:]      \n",
    "        )"
   ]
  },
  {
   "cell_type": "code",
   "execution_count": 106,
   "id": "3e5a7497",
   "metadata": {},
   "outputs": [
    {
     "name": "stdout",
     "output_type": "stream",
     "text": [
      "cjcurrie  from this raw text:\t\\t30\\tcjcurrie\\r\\nN\\t32\\t\n",
      "zoney  from this raw text:\t\\t54\\tzoney\\r\\nN\\t28\\tneu\n",
      "gerald  from this raw text:\t\\t61\\tgerald_farinas\\r\\nN\n",
      "andrevan  from this raw text:\t\\t6\\tandrevan\\r\\nN\\t70\\tn\n",
      "arminius  from this raw text:\t\\t38\\tarminius\\r\\nN\\t55\\t\n",
      "lst  from this raw text:\t\\t8\\tlst27\\r\\nN\\t-1\\tUNKN\n",
      "chmod  from this raw text:\t\\t33\\tchmod007\\r\\nN\\t-1\\t\n",
      "taoster  from this raw text:\t\\t93\\ttaoster\\r\\nN\\t-1\\tU\n"
     ]
    }
   ],
   "source": [
    "for i in range(8):\n",
    "    print(beingVotedOn[i] + \"  from this raw text:\\t\" +  electionsText[i][35:60])\n",
    "#works"
   ]
  },
  {
   "cell_type": "markdown",
   "id": "a2030bd4",
   "metadata": {},
   "source": [
    "## Disregard all code below here!"
   ]
  },
  {
   "cell_type": "markdown",
   "id": "788ee4ac",
   "metadata": {},
   "source": [
    "## TODO: Get the votes from the raw text, who voted for who.  So it'll have to be some sort of dictionary or custom class --> \"A voted for B\", \"C voted for B\", \"D voted for B\", etc."
   ]
  },
  {
   "cell_type": "code",
   "execution_count": 107,
   "id": "6facc529",
   "metadata": {},
   "outputs": [],
   "source": [
    "#this gets the user associated with the election\n",
    "#electionsText[3][electionsText[3].find(\"U\"):electionsText[3].find(\"N\")]"
   ]
  },
  {
   "cell_type": "code",
   "execution_count": 108,
   "id": "faba623f",
   "metadata": {},
   "outputs": [],
   "source": [
    "#intInQuestion= 3\n",
    "#userRaw = re.search(\"U\",electionsText[intInQuestion])\n",
    "#userRaw2 = re.search(\"N\",electionsText[intInQuestion])#.find(\"U\"))#:electionsText[intInQuestion].find(\"N\"))\n",
    "#print(electionsText[intInQuestion][userRaw.span()[0]:userRaw2.span()[1]])\n"
   ]
  },
  {
   "cell_type": "code",
   "execution_count": 109,
   "id": "7593193f",
   "metadata": {},
   "outputs": [],
   "source": [
    "#userIDMatchObject = re.search(\"\\d+\",electionsText[intInQuestion]\\\n",
    "#                              [electionsText[intInQuestion].find(\"U\"):electionsText[intInQuestion].find(\"N\")])\n",
    "#print(userIDMatchObject)\n",
    "#UserID = electionsText[userIDMatchObject.span()[0]:userIDMatchObject.span()[1]]\n",
    "#UserID"
   ]
  },
  {
   "cell_type": "code",
   "execution_count": 110,
   "id": "b03f2843",
   "metadata": {},
   "outputs": [],
   "source": [
    "#dir(userID)\n",
    "#userID.span()"
   ]
  },
  {
   "cell_type": "code",
   "execution_count": 111,
   "id": "e16abab8",
   "metadata": {},
   "outputs": [],
   "source": [
    "#userIDExtracted  = \"\"\n",
    "#for i in range(userID.span()[0],userID.span()[1]):\n",
    "#    userIDExtracted = userIDExtracted + userID[i]\n"
   ]
  },
  {
   "cell_type": "code",
   "execution_count": 112,
   "id": "e0dfbd62",
   "metadata": {},
   "outputs": [],
   "source": [
    "#userID[3]"
   ]
  },
  {
   "cell_type": "code",
   "execution_count": null,
   "id": "22c3b72d",
   "metadata": {},
   "outputs": [],
   "source": []
  }
 ],
 "metadata": {
  "kernelspec": {
   "display_name": "Python 3 (ipykernel)",
   "language": "python",
   "name": "python3"
  },
  "language_info": {
   "codemirror_mode": {
    "name": "ipython",
    "version": 3
   },
   "file_extension": ".py",
   "mimetype": "text/x-python",
   "name": "python",
   "nbconvert_exporter": "python",
   "pygments_lexer": "ipython3",
   "version": "3.7.13"
  }
 },
 "nbformat": 4,
 "nbformat_minor": 5
}
