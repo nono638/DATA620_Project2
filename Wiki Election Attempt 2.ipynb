{
 "cells": [
  {
   "cell_type": "markdown",
   "id": "43bd73b5",
   "metadata": {},
   "source": [
    "### Prompt:\n",
    " Identify a large 2-node network dataset—you can start with a dataset in a repository.  Your data should meet the criteria that it consists of ties between and not within two (or more) distinct groups.\n",
    "    Reduce the size of the network using a method such as the island method described in chapter 4 of social network analysis.\n",
    "    What can you infer about each of the distinct groups?\n",
    "\n",
    "You may work in a small group on the project.\n",
    "\n",
    "Your code and analysis should be delivered in an IPython Notebook by end of day Sunday. "
   ]
  },
  {
   "cell_type": "markdown",
   "id": "23580a85",
   "metadata": {},
   "source": [
    "### Data\n",
    "https://snap.stanford.edu/data/wiki-Elec.html"
   ]
  },
  {
   "cell_type": "markdown",
   "id": "36e7ccdf",
   "metadata": {},
   "source": [
    "### Libraries"
   ]
  },
  {
   "cell_type": "code",
   "execution_count": 1,
   "id": "86b52e73",
   "metadata": {},
   "outputs": [],
   "source": [
    "import pandas as pd\n",
    "import os\n",
    "import io\n",
    "import networkx as nx\n",
    "import re\n",
    "\n",
    "importedScipy = False\n",
    "try:    \n",
    "    import scipy\n",
    "    importedScipy = True\n",
    "except:\n",
    "    pass\n",
    "try:    \n",
    "    import nltk\n",
    "except:\n",
    "    pass"
   ]
  },
  {
   "cell_type": "code",
   "execution_count": 2,
   "id": "c77a1385",
   "metadata": {},
   "outputs": [
    {
     "name": "stdout",
     "output_type": "stream",
     "text": [
      "Pandas Version 1.3.5\n",
      "Newtworkx Version 2.6.3\n",
      "scipy Version 1.7.3\n",
      "NLTK Version 3.7\n"
     ]
    }
   ],
   "source": [
    "print (\"Pandas Version {}\".format(pd.__version__))\n",
    "print (\"Newtworkx Version {}\".format(nx.__version__))\n",
    "if (importedScipy):\n",
    "    print (\"scipy Version {}\".format(scipy.__version__))\n",
    "else:\n",
    "    print(\"scipy wasn't imported.\")\n",
    "print(\"NLTK Version {}\".format(nltk.__version__))"
   ]
  },
  {
   "cell_type": "markdown",
   "id": "3a2d1a26",
   "metadata": {},
   "source": [
    "### Read in Data"
   ]
  },
  {
   "cell_type": "code",
   "execution_count": 3,
   "id": "03b107d3",
   "metadata": {},
   "outputs": [],
   "source": [
    "#The filename may have to be renamed with the .txt extention.  That has to be done manually.\n",
    "#This was only the case on one of my machines for some reason??\n",
    "filename = \"wikiElec.ElecBs3.txt\""
   ]
  },
  {
   "cell_type": "code",
   "execution_count": 4,
   "id": "1dec7ec3",
   "metadata": {},
   "outputs": [
    {
     "name": "stdout",
     "output_type": "stream",
     "text": [
      "# Wikipedia elections (http://cs.stanford.edu/people/jure/pubs/triads-chi10.pdf). Data format:\n",
      "#   E: is election succesful (1) or not (0)\n",
      "#   T: time election was closed\n",
      "#   U: user id (and username) of editor that is being considered for promotion\n",
      "#   N: user id (and username) of the nominator\n",
      "#   V: <vote(1:support, 0:neutral, -1:oppose)> <user_id> <time> <username>\n",
      "E\t1\n",
      "T\t2004-09-21 01:15:53\n",
      "U\t30\tcjcurrie\n",
      "N\t32\tandyl\n",
      "V\t1\t3\t2004-09-14 16:26:00\tludraman\n",
      "V\t-1\t25\t2004-09-14 16:53:00\tblankfaze\n",
      "V\t1\t\n"
     ]
    }
   ],
   "source": [
    "file = io.open(filename, mode=\"r\", encoding=\"ANSI\") #This encoding was missing before\n",
    "print(file.read(500))\n",
    "data = file.readlines()"
   ]
  },
  {
   "cell_type": "code",
   "execution_count": 5,
   "id": "c32880e7",
   "metadata": {
    "scrolled": false
   },
   "outputs": [
    {
     "name": "stdout",
     "output_type": "stream",
     "text": [
      "4\t2004-09-14 17:08:00\tgzornenplatz\n",
      "\n",
      "V\t1\t5\t2004-09-14 17:37:00\torthogonal\n",
      "\n",
      "V\t1\t6\t2004-09-14 19:28:00\tandrevan\n",
      "\n",
      "V\t1\t7\t2004-09-14 19:37:00\ttexture\n",
      "\n",
      "V\t1\t8\t2004-09-14 21:04:00\tlst27\n",
      "\n"
     ]
    }
   ],
   "source": [
    "for line in data[:5]:\n",
    "    print(line)"
   ]
  },
  {
   "cell_type": "code",
   "execution_count": 6,
   "id": "1f5169d1",
   "metadata": {},
   "outputs": [
    {
     "data": {
      "text/plain": [
       "'4\\t2004-09-14 17:08:00\\tgzornenplatz\\n'"
      ]
     },
     "execution_count": 6,
     "metadata": {},
     "output_type": "execute_result"
    }
   ],
   "source": [
    "data[0]"
   ]
  },
  {
   "cell_type": "code",
   "execution_count": 7,
   "id": "713b4bbd",
   "metadata": {},
   "outputs": [
    {
     "data": {
      "text/plain": [
       "'V\\t1\\t5\\t2004-09-14 17:37:00\\torthogonal\\n'"
      ]
     },
     "execution_count": 7,
     "metadata": {},
     "output_type": "execute_result"
    }
   ],
   "source": [
    "data[1]"
   ]
  },
  {
   "cell_type": "code",
   "execution_count": 8,
   "id": "c4cf7ec1",
   "metadata": {},
   "outputs": [
    {
     "data": {
      "text/plain": [
       "'V\\t1\\t6\\t2004-09-14 19:28:00\\tandrevan\\n'"
      ]
     },
     "execution_count": 8,
     "metadata": {},
     "output_type": "execute_result"
    }
   ],
   "source": [
    "data[2]"
   ]
  },
  {
   "cell_type": "markdown",
   "id": "2d88216e",
   "metadata": {},
   "source": [
    "I don't know why, but the reading in of the file starts at an abitrary spot and the first election is screwed up.  We'll just disregard it, I know from previous data exploration that are 2900+ other elections.  "
   ]
  },
  {
   "cell_type": "markdown",
   "id": "b381a323",
   "metadata": {},
   "source": [
    "### Discarding the first several screwed up rows"
   ]
  },
  {
   "cell_type": "code",
   "execution_count": 9,
   "id": "ca10de3c",
   "metadata": {},
   "outputs": [
    {
     "name": "stdout",
     "output_type": "stream",
     "text": [
      "26\n"
     ]
    }
   ],
   "source": [
    "for i in range(len(data)):\n",
    "    if data[i][0] ==\"E\": #first proper \"election in the data, as read in\"\n",
    "        print(i)\n",
    "        break"
   ]
  },
  {
   "cell_type": "code",
   "execution_count": 10,
   "id": "cdcb89cd",
   "metadata": {},
   "outputs": [
    {
     "data": {
      "text/plain": [
       "['E\\t1\\n',\n",
       " 'T\\t2004-09-21 20:49:47\\n',\n",
       " 'U\\t54\\tzoney\\n',\n",
       " 'N\\t28\\tneutrality\\n',\n",
       " 'V\\t1\\t28\\t2004-09-14 13:39:00\\tneutrality\\n',\n",
       " 'V\\t1\\t33\\t2004-09-14 13:41:00\\tchmod007\\n',\n",
       " 'V\\t1\\t34\\t2004-09-14 14:40:00\\tnorm\\n',\n",
       " 'V\\t1\\t5\\t2004-09-14 15:00:00\\torthogonal\\n',\n",
       " 'V\\t1\\t20\\t2004-09-14 15:43:00\\tmichael\\n']"
      ]
     },
     "execution_count": 10,
     "metadata": {},
     "output_type": "execute_result"
    }
   ],
   "source": [
    "data[26:35]"
   ]
  },
  {
   "cell_type": "code",
   "execution_count": 11,
   "id": "0aaf3903",
   "metadata": {},
   "outputs": [],
   "source": [
    "thisCellRan1 = False\n",
    "# Do no rerun this cell or you will \"erase\" data from memory and need to rerun the notebook"
   ]
  },
  {
   "cell_type": "code",
   "execution_count": 12,
   "id": "53f3979a",
   "metadata": {},
   "outputs": [],
   "source": [
    "if (thisCellRan1 == False):\n",
    "    data = data[26:]\n",
    "    thisCellRan1 = True  ##This first 25 cells have been discarded already\n",
    "    del thisCellRan1\n",
    "        \n",
    "#dicarding the first 25 rows\n",
    "#Only run this cell once!!!  That's the point of the thisCellRan1 variable."
   ]
  },
  {
   "cell_type": "code",
   "execution_count": 13,
   "id": "85380029",
   "metadata": {},
   "outputs": [
    {
     "data": {
      "text/plain": [
       "['E\\t1\\n',\n",
       " 'T\\t2004-09-21 20:49:47\\n',\n",
       " 'U\\t54\\tzoney\\n',\n",
       " 'N\\t28\\tneutrality\\n',\n",
       " 'V\\t1\\t28\\t2004-09-14 13:39:00\\tneutrality\\n']"
      ]
     },
     "execution_count": 13,
     "metadata": {},
     "output_type": "execute_result"
    }
   ],
   "source": [
    "data[0:5]\n",
    "#line 0 should start with \"E\", election. \n",
    "#If it doesn't, restart the kernel and rerun the notebook."
   ]
  },
  {
   "cell_type": "code",
   "execution_count": 14,
   "id": "220057ba",
   "metadata": {},
   "outputs": [
    {
     "data": {
      "text/plain": [
       "2793"
      ]
     },
     "execution_count": 14,
     "metadata": {},
     "output_type": "execute_result"
    }
   ],
   "source": [
    "ECount = 0\n",
    "for i in data:\n",
    "    if i[0] ==\"E\":\n",
    "        ECount +=1\n",
    "ECount\n",
    "#there should be 2793 elections in the dataset, as read in (the first elction read in wrong)"
   ]
  },
  {
   "cell_type": "markdown",
   "id": "5c09586b",
   "metadata": {},
   "source": [
    "### Makes some classes to work with data"
   ]
  },
  {
   "cell_type": "code",
   "execution_count": 15,
   "id": "11430a62",
   "metadata": {},
   "outputs": [],
   "source": [
    "#from the docs\n",
    "#E: is election succesful (1) or not (0)\\\\r\\\\n#   \n",
    "#T: time election was closed\\\\r\\\\n#   \n",
    "#U: user id (and username) of editor that is being considered for promotion\\\\r\\\\n#   \n",
    "#N: user id (and username) of the nominator\\\\r\\\\n#\n",
    "#V: <vote(1:support, 0:neutral, -1:oppose)> <user_id> <time> <username>\n",
    "\n",
    "class Election():# A node type in the graph\n",
    "    def __init__(self, success, time, user, nominator, votes):\n",
    "        if((success!= 1) & (success!=0)):\n",
    "            print(\"invalid success entered: \",success)\n",
    "            self.success = \"unknown\"\n",
    "        else:\n",
    "            self.success = success\n",
    "        self.time = 0 #TODO possibly if we want more edge data\n",
    "        self.user = user\n",
    "        self.nominator = nominator\n",
    "        self.votes = votes"
   ]
  },
  {
   "cell_type": "code",
   "execution_count": 16,
   "id": "123ada5a",
   "metadata": {},
   "outputs": [],
   "source": [
    "#   V: <vote(1:support, 0:neutral, -1:oppose)> <user_id> <time> <username>\n",
    "class Vote: #Edges in the graph\n",
    "    def __init__(self, vote, user_id, time, username):\n",
    "        if ((vote <-1) | (vote >1)):\n",
    "            print(\"invalid vote:\", vote)\n",
    "            self.vote = \"invalid\"\n",
    "        else:\n",
    "            self.vote = vote\n",
    "        self.time = 0 #TODO if we want more attributes\n",
    "        self.user_id = user_id\n",
    "        self.user_name = username"
   ]
  },
  {
   "cell_type": "code",
   "execution_count": 17,
   "id": "38ac1d4b",
   "metadata": {},
   "outputs": [
    {
     "name": "stdout",
     "output_type": "stream",
     "text": [
      "V\t1\t28\t2004-09-14 13:39:00\tneutrality\n",
      "\n",
      "1\n",
      "<re.Match object; span=(1, 3), match='28'>\n"
     ]
    }
   ],
   "source": [
    "votes = []\n",
    "for line in data[3:5]:\n",
    "    if line[0]==\"V\":\n",
    "        print(line)\n",
    "        print(line[2]) #vote\n",
    "        print(re.search(\"\\d+\", line[3:]))\n",
    "    "
   ]
  },
  {
   "cell_type": "code",
   "execution_count": 18,
   "id": "d14a9674",
   "metadata": {},
   "outputs": [
    {
     "data": {
      "text/plain": [
       "'V\\t1\\t11\\t2004-09-12 06:21:00\\tmerovingian\\n'"
      ]
     },
     "execution_count": 18,
     "metadata": {},
     "output_type": "execute_result"
    }
   ],
   "source": [
    "data[55]"
   ]
  },
  {
   "cell_type": "code",
   "execution_count": 19,
   "id": "119a29e2",
   "metadata": {},
   "outputs": [
    {
     "data": {
      "text/plain": [
       "'\\t11\\t2004-09-12 06:21:00\\tmerovingian\\n'"
      ]
     },
     "execution_count": 19,
     "metadata": {},
     "output_type": "execute_result"
    }
   ],
   "source": [
    "data[55][3:]"
   ]
  },
  {
   "cell_type": "code",
   "execution_count": 20,
   "id": "ce72ade9",
   "metadata": {},
   "outputs": [],
   "source": [
    "match2 = re.search(\"\\d+\",data[55][3:]) "
   ]
  },
  {
   "cell_type": "code",
   "execution_count": 21,
   "id": "66f1c770",
   "metadata": {},
   "outputs": [],
   "source": [
    "findall2 = re.findall(\"\\d+\" , data[55])"
   ]
  },
  {
   "cell_type": "code",
   "execution_count": 22,
   "id": "53fd4384",
   "metadata": {},
   "outputs": [
    {
     "data": {
      "text/plain": [
       "['1', '11', '2004', '09', '12', '06', '21', '00']"
      ]
     },
     "execution_count": 22,
     "metadata": {},
     "output_type": "execute_result"
    }
   ],
   "source": [
    "findall2"
   ]
  },
  {
   "cell_type": "code",
   "execution_count": 23,
   "id": "54395d3b",
   "metadata": {},
   "outputs": [],
   "source": [
    "findall3 = re.findall(\"[a-z]+\", data[55])"
   ]
  },
  {
   "cell_type": "code",
   "execution_count": 24,
   "id": "1e43a9da",
   "metadata": {},
   "outputs": [
    {
     "data": {
      "text/plain": [
       "['merovingian']"
      ]
     },
     "execution_count": 24,
     "metadata": {},
     "output_type": "execute_result"
    }
   ],
   "source": [
    "findall3"
   ]
  },
  {
   "cell_type": "code",
   "execution_count": 25,
   "id": "3bdddef4",
   "metadata": {},
   "outputs": [],
   "source": [
    "#\n",
    "elections =[]\n",
    "election =\"\"\n",
    "inAnElection = False\n",
    "for i in range(len(data)):\n",
    "    if ( (data[i][0] == \"E\") ): #&\\\n",
    "        #((i != len(data)-1) & (data[i+1][0]==\"T\") ) ) : #new election\n",
    "        elections.append(election)\n",
    "        election = data[i]\n",
    "    else:\n",
    "        election =  election + line\n",
    "    "
   ]
  },
  {
   "cell_type": "code",
   "execution_count": 26,
   "id": "eff10acf",
   "metadata": {},
   "outputs": [
    {
     "data": {
      "text/plain": [
       "'E\\t1\\nV\\t1\\t28\\t2004-09-14 13:39:00\\tneutrality\\nV\\t1\\t28\\t2004-09-14 13:39:00\\tneutrality\\nV\\t1\\t28\\t2004-09-14 13:39:00\\tneutrality\\nV\\t1\\t28\\t2004-09-14 13:39:00\\tneutrality\\nV\\t1\\t28\\t2004-09-14 13:39:00\\tneutrality\\nV\\t1\\t28\\t2004-09-14 13:39:00\\tneutrality\\nV\\t1\\t28\\t2004-09-14 13:39:00\\tneutrality\\nV\\t1\\t28\\t2004-09-14 13:39:00\\tneutrality\\nV\\t1\\t28\\t2004-09-14 13:39:00\\tneutrality\\nV\\t1\\t28\\t2004-09-14 13:39:00\\tneutrality\\nV\\t1\\t28\\t2004-09-14 13:39:00\\tneutrality\\nV\\t1\\t28\\t2004-09-14 13:39:00\\tneutrality\\nV\\t1\\t28\\t2004-09-14 13:39:00\\tneutrality\\nV\\t1\\t28\\t2004-09-14 13:39:00\\tneutrality\\nV\\t1\\t28\\t2004-09-14 13:39:00\\tneutrality\\nV\\t1\\t28\\t2004-09-14 13:39:00\\tneutrality\\nV\\t1\\t28\\t2004-09-14 13:39:00\\tneutrality\\nV\\t1\\t28\\t2004-09-14 13:39:00\\tneutrality\\nV\\t1\\t28\\t2004-09-14 13:39:00\\tneutrality\\nV\\t1\\t28\\t2004-09-14 13:39:00\\tneutrality\\nV\\t1\\t28\\t2004-09-14 13:39:00\\tneutrality\\nV\\t1\\t28\\t2004-09-14 13:39:00\\tneutrality\\nV\\t1\\t28\\t2004-09-14 13:39:00\\tneutrality\\nV\\t1\\t28\\t2004-09-14 13:39:00\\tneutrality\\n'"
      ]
     },
     "execution_count": 26,
     "metadata": {},
     "output_type": "execute_result"
    }
   ],
   "source": [
    "elections[3]"
   ]
  },
  {
   "cell_type": "code",
   "execution_count": 27,
   "id": "5175b9c1",
   "metadata": {},
   "outputs": [
    {
     "name": "stdout",
     "output_type": "stream",
     "text": [
      "E\t1\n",
      "\n",
      "T\t2004-09-21 20:49:47\n",
      "\n",
      "U\t54\tzoney\n",
      "\n",
      "N\t28\tneutrality\n",
      "\n",
      "V\t1\t28\t2004-09-14 13:39:00\tneutrality\n",
      "\n",
      "V\t1\t33\t2004-09-14 13:41:00\tchmod007\n",
      "\n"
     ]
    }
   ],
   "source": [
    "for i in range(len(data[:6])):\n",
    "    print (data[i])                               "
   ]
  },
  {
   "cell_type": "code",
   "execution_count": 28,
   "id": "86d0b274",
   "metadata": {},
   "outputs": [],
   "source": [
    "electionsList =[]\n",
    "for i in range(len(data)):\n",
    "    #print (data[i])\n",
    "    if ((data[i][0] == \"E\") & (i<(len(data)-1)) ):\n",
    "        #def __initi__(self, success, time, user, nominator, votes):\n",
    "        try:\n",
    "            tempElection = Election(\\\n",
    "                               int(re.findall(\"\\d+\",data[i])[0]),\n",
    "                               0, #time TODO\n",
    "                               re.findall(\"\\D+\",data[i+2])[1].strip(), #user\n",
    "                               re.findall(\"[\\D]+\",data[i+3])[1].strip(), #nominators can be \"UNKNOWN\"\n",
    "                               [3] #votes, TODO\n",
    "                              )\n",
    "            newTempElection= True\n",
    "            \n",
    "        except:\n",
    "            #uncomment these lines for troubleshooting those 8 problem users\n",
    "            #print(\"Problemm with :\", data[i])\n",
    "            #print(data[i+1])\n",
    "            #print(data[i+2])\n",
    "            #print(data[i+3])\n",
    "            #print(\"----\")\n",
    "            continue\n",
    "        if (newTempElection==True):\n",
    "            electionsList.append(tempElection)\n",
    "    else:   \n",
    "        newTempElection = False"
   ]
  },
  {
   "cell_type": "code",
   "execution_count": 29,
   "id": "42c80713",
   "metadata": {},
   "outputs": [
    {
     "name": "stdout",
     "output_type": "stream",
     "text": [
      "slyder_pilot nomitnated by:\tUNKNOWN\n",
      "pilotguy nomitnated by:\ttawker\n",
      "puckmv nomitnated by:\tUNKNOWN\n",
      "danielrocks nomitnated by:\tUNKNOWN\n",
      "sam_vimes nomitnated by:\taloan\n",
      "dljessup nomitnated by:\tUNKNOWN\n",
      "herostratus nomitnated by:\ttantalumtelluride\n",
      "sean_gorter nomitnated by:\tUNKNOWN\n",
      "mtz nomitnated by:\thughcharlesparker\n",
      "aaron_teh_tennisman nomitnated by:\tUNKNOWN\n",
      "jake nomitnated by:\tUNKNOWN\n",
      "ft nomitnated by:\tUNKNOWN\n"
     ]
    }
   ],
   "source": [
    "for i in range(1233,1245):\n",
    "    print(electionsList[i].user +\" nomitnated by:\\t\" + electionsList[i].nominator)"
   ]
  },
  {
   "cell_type": "code",
   "execution_count": 30,
   "id": "1495158a",
   "metadata": {},
   "outputs": [
    {
     "data": {
      "text/plain": [
       "2793"
      ]
     },
     "execution_count": 30,
     "metadata": {},
     "output_type": "execute_result"
    }
   ],
   "source": [
    "len(electionsList)\n",
    "#Expected length.  Success!\n",
    "#The missing users have been fixed with better regexes and encoding"
   ]
  },
  {
   "cell_type": "markdown",
   "id": "1e4da198",
   "metadata": {},
   "source": [
    "<s>There's eight entries for users who have numbers as usernames or no username, just a user ID.\n",
    "This could be cleaned up but for now, it'll just be discarded.</s>"
   ]
  },
  {
   "cell_type": "code",
   "execution_count": 31,
   "id": "55d4438c",
   "metadata": {},
   "outputs": [
    {
     "name": "stdout",
     "output_type": "stream",
     "text": [
      "andrevan nominated by:\tnode_ue\n",
      "arminius nominated by:\tthecustomoflife\n",
      "lst nominated by:\tUNKNOWN\n",
      "chmod nominated by:\tUNKNOWN\n",
      "taoster nominated by:\tUNKNOWN\n",
      "anÃ¡rion nominated by:\tUNKNOWN\n",
      "jor nominated by:\tUNKNOWN\n",
      "proteus nominated by:\tlord_emsworth\n",
      "pumpie nominated by:\tUNKNOWN\n",
      "nichalp nominated by:\tkrs\n",
      "pedanticallyspeaking nominated by:\tUNKNOWN\n",
      "benc nominated by:\tneutrality\n"
     ]
    }
   ],
   "source": [
    "for i in electionsList[2:14]:\n",
    "    print(i.user +\" nominated by:\\t\" + i.nominator)\n",
    "#electionsList works as expected"
   ]
  },
  {
   "cell_type": "markdown",
   "id": "7764e162",
   "metadata": {},
   "source": [
    "### Votes"
   ]
  },
  {
   "cell_type": "code",
   "execution_count": 32,
   "id": "55e580cf",
   "metadata": {},
   "outputs": [],
   "source": [
    "votesList= [] #this will be a lists of lists.  Each sub-list will be addes to the election object\n",
    "tempVotes=[]\n",
    "votingBool = False\n",
    "\n",
    "for i in data:\n",
    "    if i [0]!= \"V\":\n",
    "        if (len(tempVotes)>0):\n",
    "            votesList.append(tempVotes)\n",
    "        tempVotes=[]\n",
    "    else:\n",
    "        tempVotes.append(i)"
   ]
  },
  {
   "cell_type": "code",
   "execution_count": 75,
   "id": "1f9fb0c2",
   "metadata": {},
   "outputs": [
    {
     "data": {
      "text/plain": [
       "['V\\t-1\\t5800\\t2008-01-05 23:31:00\\tpedro\\n',\n",
       " 'V\\t-1\\t8045\\t2008-01-05 23:34:00\\tsarcasticidealist\\n',\n",
       " 'V\\t-1\\t7053\\t2008-01-05 23:36:00\\tavruch\\n',\n",
       " 'V\\t-1\\t6885\\t2008-01-06 00:44:00\\tkrator\\n',\n",
       " 'V\\t-1\\t8243\\t2008-01-06 01:07:00\\trazorflame\\n']"
      ]
     },
     "execution_count": 75,
     "metadata": {},
     "output_type": "execute_result"
    }
   ],
   "source": [
    "votesList[-1][:5]\n",
    "#the list of lists works as expected.  Next step is regex to clean it up"
   ]
  },
  {
   "cell_type": "code",
   "execution_count": 57,
   "id": "5e53ed35",
   "metadata": {},
   "outputs": [
    {
     "data": {
      "text/plain": [
       "'neutrality'"
      ]
     },
     "execution_count": 57,
     "metadata": {},
     "output_type": "execute_result"
    }
   ],
   "source": [
    "(re.findall(\"\\D+\",votesList[0][0]))[-1].strip()"
   ]
  },
  {
   "cell_type": "code",
   "execution_count": 34,
   "id": "5d37f323",
   "metadata": {},
   "outputs": [
    {
     "data": {
      "text/plain": [
       "2793"
      ]
     },
     "execution_count": 34,
     "metadata": {},
     "output_type": "execute_result"
    }
   ],
   "source": [
    "len(votesList)\n",
    "#The length of this list is the same length as the number of elections"
   ]
  },
  {
   "cell_type": "code",
   "execution_count": 76,
   "id": "832b8f31",
   "metadata": {},
   "outputs": [],
   "source": [
    "#The cell generates the list of listObjects, this cell singlehandedly took me 90 minutes\n",
    "votesObjectList =[]\n",
    "tempList =[]\n",
    "\n",
    "for item1 in votesList:\n",
    "    if len(tempList)>0:\n",
    "        votesObjectList.append(tempList)\n",
    "        tempList=[]\n",
    "    for item2 in item1:\n",
    "        # def __init__(self, vote, user_id, time, username):\n",
    "        tempVote = Vote(\\\n",
    "                        int(re.findall(\"\\d+\",item2)[0]), #vote\n",
    "                        re.findall(\"\\d+\",item2)[1], #user_id, possibly turn to int TODO\n",
    "                        re.findall(\"\\d+\",item2)[2:], #time, in a list, TODO\n",
    "                        re.findall(\"\\D+\", item2)[-1].strip() #username[2:]\n",
    "                     )\n",
    "        tempList.append(tempVote)\n",
    "\n",
    "if len(tempList)>0:\n",
    "        votesObjectList.append(tempList)\n"
   ]
  },
  {
   "cell_type": "code",
   "execution_count": 78,
   "id": "996de703",
   "metadata": {},
   "outputs": [
    {
     "data": {
      "text/plain": [
       "2793"
      ]
     },
     "execution_count": 78,
     "metadata": {},
     "output_type": "execute_result"
    }
   ],
   "source": [
    "len(votesObjectList)\n",
    "#length as expected, success"
   ]
  },
  {
   "cell_type": "code",
   "execution_count": null,
   "id": "666dd602",
   "metadata": {},
   "outputs": [],
   "source": []
  },
  {
   "cell_type": "markdown",
   "id": "327e45f7",
   "metadata": {},
   "source": [
    "### TODO:  Get votes list into the relevant elections, possibly using vote objects made above (vote object defined to better preserve attributes)."
   ]
  },
  {
   "cell_type": "markdown",
   "id": "404ab9d4",
   "metadata": {},
   "source": [
    "### TODO2: Once we have working list of the elections and votes, we can make the nodes (users from the votes, elections from the election objects.)  Then we can create a bipartate graph to begin Project 2 analysis"
   ]
  },
  {
   "cell_type": "code",
   "execution_count": null,
   "id": "0a077e20",
   "metadata": {},
   "outputs": [],
   "source": []
  }
 ],
 "metadata": {
  "kernelspec": {
   "display_name": "Python 3 (ipykernel)",
   "language": "python",
   "name": "python3"
  },
  "language_info": {
   "codemirror_mode": {
    "name": "ipython",
    "version": 3
   },
   "file_extension": ".py",
   "mimetype": "text/x-python",
   "name": "python",
   "nbconvert_exporter": "python",
   "pygments_lexer": "ipython3",
   "version": "3.7.13"
  }
 },
 "nbformat": 4,
 "nbformat_minor": 5
}
