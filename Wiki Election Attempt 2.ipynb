{
 "cells": [
  {
   "cell_type": "markdown",
   "id": "897dba4f",
   "metadata": {},
   "source": [
    "### Prompt:\n",
    " Identify a large 2-node network dataset—you can start with a dataset in a repository.  Your data should meet the criteria that it consists of ties between and not within two (or more) distinct groups.\n",
    "    Reduce the size of the network using a method such as the island method described in chapter 4 of social network analysis.\n",
    "    What can you infer about each of the distinct groups?\n",
    "\n",
    "You may work in a small group on the project.\n",
    "\n",
    "Your code and analysis should be delivered in an IPython Notebook by end of day Sunday. "
   ]
  },
  {
   "cell_type": "markdown",
   "id": "73dc89cd",
   "metadata": {},
   "source": [
    "### Data\n",
    "https://snap.stanford.edu/data/wiki-Elec.html"
   ]
  },
  {
   "cell_type": "markdown",
   "id": "09c6fcd1",
   "metadata": {},
   "source": [
    "### Libraries"
   ]
  },
  {
   "cell_type": "code",
   "execution_count": 1,
   "id": "6db37e2f",
   "metadata": {},
   "outputs": [],
   "source": [
    "import pandas as pd\n",
    "import os\n",
    "import io\n",
    "import networkx as nx\n",
    "import re\n",
    "\n",
    "importedScipy = False\n",
    "try:    \n",
    "    import scipy\n",
    "    importedScipy = True\n",
    "except:\n",
    "    pass\n",
    "try:    \n",
    "    import nltk\n",
    "except:\n",
    "    pass"
   ]
  },
  {
   "cell_type": "code",
   "execution_count": 2,
   "id": "93d020a1",
   "metadata": {},
   "outputs": [
    {
     "name": "stdout",
     "output_type": "stream",
     "text": [
      "Pandas Version 1.3.5\n",
      "Newtworkx Version 2.6.3\n",
      "scipy wasn't imported.\n",
      "NLTK Version 3.7\n"
     ]
    }
   ],
   "source": [
    "print (\"Pandas Version {}\".format(pd.__version__))\n",
    "print (\"Newtworkx Version {}\".format(nx.__version__))\n",
    "if (importedScipy):\n",
    "    print (\"scipy Version {}\".format(scipy.__version__))\n",
    "else:\n",
    "    print(\"scipy wasn't imported.\")\n",
    "print(\"NLTK Version {}\".format(nltk.__version__))"
   ]
  },
  {
   "cell_type": "markdown",
   "id": "0de72c97",
   "metadata": {},
   "source": [
    "### Read in Data"
   ]
  },
  {
   "cell_type": "code",
   "execution_count": 3,
   "id": "7f8ee11f",
   "metadata": {},
   "outputs": [],
   "source": [
    "#The filename may have to be renamed with the .txt extention.  That has to be done manually.\n",
    "#This was only the case on one of my machines for some reason??\n",
    "filename = \"wikiElec.ElecBs3.txt\""
   ]
  },
  {
   "cell_type": "code",
   "execution_count": 4,
   "id": "dd4c70cb",
   "metadata": {},
   "outputs": [
    {
     "name": "stdout",
     "output_type": "stream",
     "text": [
      "# Wikipedia elections (http://cs.stanford.edu/people/jure/pubs/triads-chi10.pdf). Data format:\n",
      "#   E: is election succesful (1) or not (0)\n",
      "#   T: time election was closed\n",
      "#   U: user id (and username) of editor that is being considered for promotion\n",
      "#   N: user id (and username) of the nominator\n",
      "#   V: <vote(1:support, 0:neutral, -1:oppose)> <user_id> <time> <username>\n",
      "E\t1\n",
      "T\t2004-09-21 01:15:53\n",
      "U\t30\tcjcurrie\n",
      "N\t32\tandyl\n",
      "V\t1\t3\t2004-09-14 16:26:00\tludraman\n",
      "V\t-1\t25\t2004-09-14 16:53:00\tblankfaze\n",
      "V\t1\t\n"
     ]
    }
   ],
   "source": [
    "file = io.open(filename, mode=\"r\", encoding=\"ANSI\") #This encoding was missing before\n",
    "print(file.read(500))\n",
    "data = file.readlines()"
   ]
  },
  {
   "cell_type": "code",
   "execution_count": 5,
   "id": "f071c06b",
   "metadata": {
    "scrolled": false
   },
   "outputs": [
    {
     "name": "stdout",
     "output_type": "stream",
     "text": [
      "4\t2004-09-14 17:08:00\tgzornenplatz\n",
      "\n",
      "V\t1\t5\t2004-09-14 17:37:00\torthogonal\n",
      "\n",
      "V\t1\t6\t2004-09-14 19:28:00\tandrevan\n",
      "\n",
      "V\t1\t7\t2004-09-14 19:37:00\ttexture\n",
      "\n",
      "V\t1\t8\t2004-09-14 21:04:00\tlst27\n",
      "\n"
     ]
    }
   ],
   "source": [
    "for line in data[:5]:\n",
    "    print(line)"
   ]
  },
  {
   "cell_type": "code",
   "execution_count": 6,
   "id": "079f8fd7",
   "metadata": {},
   "outputs": [
    {
     "data": {
      "text/plain": [
       "'4\\t2004-09-14 17:08:00\\tgzornenplatz\\n'"
      ]
     },
     "execution_count": 6,
     "metadata": {},
     "output_type": "execute_result"
    }
   ],
   "source": [
    "data[0]"
   ]
  },
  {
   "cell_type": "code",
   "execution_count": 7,
   "id": "774deb20",
   "metadata": {},
   "outputs": [
    {
     "data": {
      "text/plain": [
       "'V\\t1\\t5\\t2004-09-14 17:37:00\\torthogonal\\n'"
      ]
     },
     "execution_count": 7,
     "metadata": {},
     "output_type": "execute_result"
    }
   ],
   "source": [
    "data[1]"
   ]
  },
  {
   "cell_type": "code",
   "execution_count": 8,
   "id": "186fadd3",
   "metadata": {},
   "outputs": [
    {
     "data": {
      "text/plain": [
       "'V\\t1\\t6\\t2004-09-14 19:28:00\\tandrevan\\n'"
      ]
     },
     "execution_count": 8,
     "metadata": {},
     "output_type": "execute_result"
    }
   ],
   "source": [
    "data[2]"
   ]
  },
  {
   "cell_type": "markdown",
   "id": "4eba477f",
   "metadata": {},
   "source": [
    "I don't know why, but the reading in of the file starts at an abitrary spot and the first election is screwed up.  We'll just disregard it, I know from previous data exploration that are 2900+ other elections.  "
   ]
  },
  {
   "cell_type": "markdown",
   "id": "fa796c3c",
   "metadata": {},
   "source": [
    "### Discarding the first several screwed up rows"
   ]
  },
  {
   "cell_type": "code",
   "execution_count": 9,
   "id": "ec7df64e",
   "metadata": {},
   "outputs": [
    {
     "name": "stdout",
     "output_type": "stream",
     "text": [
      "26\n"
     ]
    }
   ],
   "source": [
    "for i in range(len(data)):\n",
    "    if data[i][0] ==\"E\": #first proper \"election in the data, as read in\"\n",
    "        print(i)\n",
    "        break"
   ]
  },
  {
   "cell_type": "code",
   "execution_count": 10,
   "id": "cb7b0c21",
   "metadata": {},
   "outputs": [
    {
     "data": {
      "text/plain": [
       "['E\\t1\\n',\n",
       " 'T\\t2004-09-21 20:49:47\\n',\n",
       " 'U\\t54\\tzoney\\n',\n",
       " 'N\\t28\\tneutrality\\n',\n",
       " 'V\\t1\\t28\\t2004-09-14 13:39:00\\tneutrality\\n',\n",
       " 'V\\t1\\t33\\t2004-09-14 13:41:00\\tchmod007\\n',\n",
       " 'V\\t1\\t34\\t2004-09-14 14:40:00\\tnorm\\n',\n",
       " 'V\\t1\\t5\\t2004-09-14 15:00:00\\torthogonal\\n',\n",
       " 'V\\t1\\t20\\t2004-09-14 15:43:00\\tmichael\\n']"
      ]
     },
     "execution_count": 10,
     "metadata": {},
     "output_type": "execute_result"
    }
   ],
   "source": [
    "data[26:35]"
   ]
  },
  {
   "cell_type": "code",
   "execution_count": 11,
   "id": "7e329bd7",
   "metadata": {},
   "outputs": [],
   "source": [
    "thisCellRan1 = False\n",
    "# Do no rerun this cell or you will \"erase\" data from memory and need to rerun the notebook"
   ]
  },
  {
   "cell_type": "code",
   "execution_count": 12,
   "id": "b0fe9d92",
   "metadata": {},
   "outputs": [],
   "source": [
    "if (thisCellRan1 == False):\n",
    "    data = data[26:]\n",
    "    thisCellRan1 = True  ##This first 25 cells have been discarded already\n",
    "    del thisCellRan1\n",
    "        \n",
    "#dicarding the first 25 rows\n",
    "#Only run this cell once!!!  That's the point of the thisCellRan1 variable."
   ]
  },
  {
   "cell_type": "code",
   "execution_count": 13,
   "id": "79db2447",
   "metadata": {},
   "outputs": [
    {
     "data": {
      "text/plain": [
       "['E\\t1\\n',\n",
       " 'T\\t2004-09-21 20:49:47\\n',\n",
       " 'U\\t54\\tzoney\\n',\n",
       " 'N\\t28\\tneutrality\\n',\n",
       " 'V\\t1\\t28\\t2004-09-14 13:39:00\\tneutrality\\n']"
      ]
     },
     "execution_count": 13,
     "metadata": {},
     "output_type": "execute_result"
    }
   ],
   "source": [
    "data[0:5]\n",
    "#line 0 should start with \"E\" for election. If it doesn't, rerun the notebook"
   ]
  },
  {
   "cell_type": "code",
   "execution_count": 46,
   "id": "75c3eb19",
   "metadata": {},
   "outputs": [
    {
     "data": {
      "text/plain": [
       "2793"
      ]
     },
     "execution_count": 46,
     "metadata": {},
     "output_type": "execute_result"
    }
   ],
   "source": [
    "ECount = 0\n",
    "for i in data:\n",
    "    if i[0] ==\"E\":\n",
    "        ECount +=1\n",
    "ECount"
   ]
  },
  {
   "cell_type": "markdown",
   "id": "11a62726",
   "metadata": {},
   "source": [
    "### Makes some classes to work with data"
   ]
  },
  {
   "cell_type": "code",
   "execution_count": 14,
   "id": "a240f892",
   "metadata": {},
   "outputs": [],
   "source": [
    "#from the docs\n",
    "#E: is election succesful (1) or not (0)\\\\r\\\\n#   \n",
    "#T: time election was closed\\\\r\\\\n#   \n",
    "#U: user id (and username) of editor that is being considered for promotion\\\\r\\\\n#   \n",
    "#N: user id (and username) of the nominator\\\\r\\\\n#\n",
    "\n",
    "class Election():# A node type in the graph\n",
    "    def __init__(self, success, time, user, nominator, votes):\n",
    "        if((success!= 1) & (success!=0)):\n",
    "            print(\"invalid success entered: \",success)\n",
    "            self.success = \"unknown\"\n",
    "        else:\n",
    "            self.success = success\n",
    "        self.time = 0 #TODO possibly if we want more edge data\n",
    "        self.user = user\n",
    "        self.nominator = nominator\n",
    "        self.votes = votes"
   ]
  },
  {
   "cell_type": "code",
   "execution_count": 15,
   "id": "31073dbb",
   "metadata": {},
   "outputs": [],
   "source": [
    "#   V: <vote(1:support, 0:neutral, -1:oppose)> <user_id> <time> <username>\n",
    "class Vote: #Edges in the graph\n",
    "    def __init__(self, vote, user_id, time, username):\n",
    "        if ((vote <-1) | (vote >1)):\n",
    "            print(\"invalid vote:\", vote)\n",
    "            self.vote = \"invalid\"\n",
    "        else:\n",
    "            self.vote = vote\n",
    "        self.time = 0 #TODO if we want more attributes\n",
    "        self.user_id = user_id\n",
    "        self.user_name = username"
   ]
  },
  {
   "cell_type": "code",
   "execution_count": 16,
   "id": "5052580b",
   "metadata": {},
   "outputs": [
    {
     "name": "stdout",
     "output_type": "stream",
     "text": [
      "V\t1\t28\t2004-09-14 13:39:00\tneutrality\n",
      "\n",
      "1\n",
      "None\n",
      "V\t1\t33\t2004-09-14 13:41:00\tchmod007\n",
      "\n",
      "1\n",
      "None\n",
      "V\t1\t34\t2004-09-14 14:40:00\tnorm\n",
      "\n",
      "1\n",
      "None\n",
      "V\t1\t5\t2004-09-14 15:00:00\torthogonal\n",
      "\n",
      "1\n",
      "None\n",
      "V\t1\t20\t2004-09-14 15:43:00\tmichael\n",
      "\n",
      "1\n",
      "None\n",
      "V\t1\t36\t2004-09-14 16:02:00\tantandrus\n",
      "\n",
      "1\n",
      "None\n"
     ]
    }
   ],
   "source": [
    "votes = []\n",
    "for line in data[3:10]:\n",
    "    if line[0]==\"V\":\n",
    "        print(line)\n",
    "        print(line[2]) #vote\n",
    "        print(re.search(\"\\d+\", line[3]))\n",
    "    "
   ]
  },
  {
   "cell_type": "code",
   "execution_count": 17,
   "id": "b6329c6a",
   "metadata": {},
   "outputs": [
    {
     "data": {
      "text/plain": [
       "'V\\t1\\t11\\t2004-09-12 06:21:00\\tmerovingian\\n'"
      ]
     },
     "execution_count": 17,
     "metadata": {},
     "output_type": "execute_result"
    }
   ],
   "source": [
    "data[55]"
   ]
  },
  {
   "cell_type": "code",
   "execution_count": 18,
   "id": "ab5b27e7",
   "metadata": {},
   "outputs": [
    {
     "data": {
      "text/plain": [
       "'\\t11\\t2004-09-12 06:21:00\\tmerovingian\\n'"
      ]
     },
     "execution_count": 18,
     "metadata": {},
     "output_type": "execute_result"
    }
   ],
   "source": [
    "data[55][3:]"
   ]
  },
  {
   "cell_type": "code",
   "execution_count": 19,
   "id": "5e2e1b31",
   "metadata": {},
   "outputs": [],
   "source": [
    "match2 = re.search(\"\\d+\",data[55][3:]) "
   ]
  },
  {
   "cell_type": "code",
   "execution_count": 20,
   "id": "944fbaac",
   "metadata": {},
   "outputs": [],
   "source": [
    "findall2 = re.findall(\"\\d+\" , data[55])"
   ]
  },
  {
   "cell_type": "code",
   "execution_count": 21,
   "id": "44a09830",
   "metadata": {},
   "outputs": [
    {
     "data": {
      "text/plain": [
       "['1', '11', '2004', '09', '12', '06', '21', '00']"
      ]
     },
     "execution_count": 21,
     "metadata": {},
     "output_type": "execute_result"
    }
   ],
   "source": [
    "findall2"
   ]
  },
  {
   "cell_type": "code",
   "execution_count": 22,
   "id": "addebb2d",
   "metadata": {},
   "outputs": [],
   "source": [
    "findall3 = re.findall(\"[a-z]+\", data[55])"
   ]
  },
  {
   "cell_type": "code",
   "execution_count": 23,
   "id": "baf1834a",
   "metadata": {},
   "outputs": [
    {
     "data": {
      "text/plain": [
       "['merovingian']"
      ]
     },
     "execution_count": 23,
     "metadata": {},
     "output_type": "execute_result"
    }
   ],
   "source": [
    "findall3"
   ]
  },
  {
   "cell_type": "code",
   "execution_count": 24,
   "id": "0f2bb2fc",
   "metadata": {},
   "outputs": [],
   "source": [
    "#\n",
    "elections =[]\n",
    "election =\"\"\n",
    "inAnElection = False\n",
    "for i in range(len(data)):\n",
    "    if ( (data[i][0] == \"E\") ): #&\\\n",
    "        #((i != len(data)-1) & (data[i+1][0]==\"T\") ) ) : #new election\n",
    "        elections.append(election)\n",
    "        election = data[i]\n",
    "    else:\n",
    "        election =  election + line\n",
    "    "
   ]
  },
  {
   "cell_type": "code",
   "execution_count": 25,
   "id": "cbd1bf04",
   "metadata": {},
   "outputs": [
    {
     "data": {
      "text/plain": [
       "'E\\t1\\nV\\t1\\t36\\t2004-09-14 16:02:00\\tantandrus\\nV\\t1\\t36\\t2004-09-14 16:02:00\\tantandrus\\nV\\t1\\t36\\t2004-09-14 16:02:00\\tantandrus\\nV\\t1\\t36\\t2004-09-14 16:02:00\\tantandrus\\nV\\t1\\t36\\t2004-09-14 16:02:00\\tantandrus\\nV\\t1\\t36\\t2004-09-14 16:02:00\\tantandrus\\nV\\t1\\t36\\t2004-09-14 16:02:00\\tantandrus\\nV\\t1\\t36\\t2004-09-14 16:02:00\\tantandrus\\nV\\t1\\t36\\t2004-09-14 16:02:00\\tantandrus\\nV\\t1\\t36\\t2004-09-14 16:02:00\\tantandrus\\nV\\t1\\t36\\t2004-09-14 16:02:00\\tantandrus\\nV\\t1\\t36\\t2004-09-14 16:02:00\\tantandrus\\nV\\t1\\t36\\t2004-09-14 16:02:00\\tantandrus\\nV\\t1\\t36\\t2004-09-14 16:02:00\\tantandrus\\nV\\t1\\t36\\t2004-09-14 16:02:00\\tantandrus\\nV\\t1\\t36\\t2004-09-14 16:02:00\\tantandrus\\nV\\t1\\t36\\t2004-09-14 16:02:00\\tantandrus\\nV\\t1\\t36\\t2004-09-14 16:02:00\\tantandrus\\nV\\t1\\t36\\t2004-09-14 16:02:00\\tantandrus\\nV\\t1\\t36\\t2004-09-14 16:02:00\\tantandrus\\nV\\t1\\t36\\t2004-09-14 16:02:00\\tantandrus\\nV\\t1\\t36\\t2004-09-14 16:02:00\\tantandrus\\nV\\t1\\t36\\t2004-09-14 16:02:00\\tantandrus\\nV\\t1\\t36\\t2004-09-14 16:02:00\\tantandrus\\n'"
      ]
     },
     "execution_count": 25,
     "metadata": {},
     "output_type": "execute_result"
    }
   ],
   "source": [
    "elections[3]"
   ]
  },
  {
   "cell_type": "code",
   "execution_count": 26,
   "id": "de24831c",
   "metadata": {},
   "outputs": [
    {
     "name": "stdout",
     "output_type": "stream",
     "text": [
      "E\t1\n",
      "\n",
      "T\t2004-09-21 20:49:47\n",
      "\n",
      "U\t54\tzoney\n",
      "\n",
      "N\t28\tneutrality\n",
      "\n",
      "V\t1\t28\t2004-09-14 13:39:00\tneutrality\n",
      "\n",
      "V\t1\t33\t2004-09-14 13:41:00\tchmod007\n",
      "\n",
      "V\t1\t34\t2004-09-14 14:40:00\tnorm\n",
      "\n",
      "V\t1\t5\t2004-09-14 15:00:00\torthogonal\n",
      "\n",
      "V\t1\t20\t2004-09-14 15:43:00\tmichael\n",
      "\n",
      "V\t1\t36\t2004-09-14 16:02:00\tantandrus\n",
      "\n"
     ]
    }
   ],
   "source": [
    "electionsList =[]\n",
    "for i in range(len(data[:10])):\n",
    "    print (data[i])\n",
    "                               "
   ]
  },
  {
   "cell_type": "code",
   "execution_count": 74,
   "id": "ffdaeef0",
   "metadata": {},
   "outputs": [],
   "source": [
    "electionsList =[]\n",
    "for i in range(len(data)):\n",
    "    #print (data[i])\n",
    "    if ((data[i][0] == \"E\") & (i<(len(data)-1)) ):\n",
    "        #def __initi__(self, success, time, user, nominator, votes):\n",
    "        try:\n",
    "            tempElection = Election(\\\n",
    "                               int(re.findall(\"\\d+\",data[i])[0]),\n",
    "                               0, #time TODO\n",
    "                               re.findall(\"[a-z_]+\",data[i+2])[0], #user\n",
    "                               re.findall(\"[a-zA-Z_]+\",data[i+3])[1], #nominators can be \"UNKNOWN\"\n",
    "                               [3] #votes, TODO\n",
    "                              )\n",
    "            newTempElection= True\n",
    "        except:\n",
    "            #uncomment these lines for troubleshooting those 8 problem users\n",
    "            #print(\"Problemm with :\", data[i])\n",
    "            #print(data[i+1])\n",
    "            #print(data[i+2])\n",
    "            #print(data[i+3])\n",
    "            #print(\"----\")\n",
    "            continue\n",
    "        if (newTempElection==True):\n",
    "            electionsList.append(tempElection)\n",
    "    else:   \n",
    "        newTempElection = False"
   ]
  },
  {
   "cell_type": "code",
   "execution_count": 75,
   "id": "6836f79a",
   "metadata": {},
   "outputs": [
    {
     "name": "stdout",
     "output_type": "stream",
     "text": [
      "furrykef cryptoderk\n",
      "gkhan UNKNOWN\n",
      "khaosworks seancdaug\n",
      "trilobite oo\n",
      "haham_hanuka UNKNOWN\n",
      "lommer UNKNOWN\n",
      "shanes joy_stuvall\n",
      "cburnett royboy\n",
      "el_c dbachmann\n",
      "worldtraveller macgyvermagic\n",
      "zzyzx UNKNOWN\n",
      "minghong UNKNOWN\n"
     ]
    }
   ],
   "source": [
    "for i in range(233,245):\n",
    "    print(electionsList[i].user, electionsList[i].nominator)"
   ]
  },
  {
   "cell_type": "code",
   "execution_count": 76,
   "id": "f01b9bc8",
   "metadata": {},
   "outputs": [
    {
     "data": {
      "text/plain": [
       "2785"
      ]
     },
     "execution_count": 76,
     "metadata": {},
     "output_type": "execute_result"
    }
   ],
   "source": [
    "len(electionsList)\n",
    "# There's eight entries for users who have numbers as usernames or no username, just a user ID.\n",
    "#This could be cleaned up but for now, it'll just be discarded."
   ]
  },
  {
   "cell_type": "code",
   "execution_count": 37,
   "id": "2c0cc5f3",
   "metadata": {},
   "outputs": [
    {
     "name": "stdout",
     "output_type": "stream",
     "text": [
      "andrevan nominated by: node\n",
      "arminius nominated by: thecustomoflife\n",
      "proteus nominated by: lord\n",
      "nichalp nominated by: krs\n",
      "benc nominated by: neutrality\n",
      "chuq nominated by: rebecca\n",
      "postdlf nominated by: pgunn\n",
      "mackensen nominated by: john\n",
      "cryptoderk nominated by: ugen\n",
      "rdsmith nominated by: phil\n",
      "matt nominated by: michael\n",
      "aloan nominated by: neutrality\n"
     ]
    }
   ],
   "source": [
    "for i in electionsList[2:14]:\n",
    "    print(i.user +\" nominated by: \" + i.nominator)\n",
    "#electionsList works as expected"
   ]
  },
  {
   "cell_type": "markdown",
   "id": "fe330a02",
   "metadata": {},
   "source": [
    "### TODO:  Get votes list into the relevant elections, possibly using vote objects made above (vote object defined to better preserve attributes)."
   ]
  },
  {
   "cell_type": "markdown",
   "id": "22e87e0d",
   "metadata": {},
   "source": [
    "### TODO2: Once we have working list of the elections and votes, we can make the nodes (users from the votes, elections from the election objects.)  Then we can create a bipartate graph to begin Project 2 analysis"
   ]
  },
  {
   "cell_type": "code",
   "execution_count": null,
   "id": "9e6996a3",
   "metadata": {},
   "outputs": [],
   "source": []
  }
 ],
 "metadata": {
  "kernelspec": {
   "display_name": "Python 3 (ipykernel)",
   "language": "python",
   "name": "python3"
  },
  "language_info": {
   "codemirror_mode": {
    "name": "ipython",
    "version": 3
   },
   "file_extension": ".py",
   "mimetype": "text/x-python",
   "name": "python",
   "nbconvert_exporter": "python",
   "pygments_lexer": "ipython3",
   "version": "3.7.13"
  }
 },
 "nbformat": 4,
 "nbformat_minor": 5
}
